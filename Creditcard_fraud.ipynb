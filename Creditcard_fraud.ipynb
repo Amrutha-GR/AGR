{
 "cells": [
  {
   "cell_type": "code",
   "execution_count": 1,
   "metadata": {},
   "outputs": [],
   "source": [
    "import os\n",
    "import numpy as np\n",
    "import pandas as pd\n",
    "import matplotlib.pyplot as plt"
   ]
  },
  {
   "cell_type": "code",
   "execution_count": 2,
   "metadata": {},
   "outputs": [],
   "source": [
    "os.chdir(os.getcwd())"
   ]
  },
  {
   "cell_type": "code",
   "execution_count": 3,
   "metadata": {},
   "outputs": [
    {
     "name": "stdout",
     "output_type": "stream",
     "text": [
      "file1.csv\t\t predictionLRW.csv\t       Untitled1.ipynb\r\n",
      "partner_id_VS_Fraud.csv  test_data-1599717650029.csv   Untitled-Copy1.ipynb\r\n",
      "predictionDT.csv\t testdataTN.csv\t\t       Untitled.ipynb\r\n",
      "predictionLR.csv\t train_data-1599717478076.csv  user_id_VS_Fraud.csv\r\n"
     ]
    }
   ],
   "source": [
    "!ls"
   ]
  },
  {
   "cell_type": "code",
   "execution_count": 4,
   "metadata": {},
   "outputs": [
    {
     "data": {
      "text/html": [
       "<div>\n",
       "<style scoped>\n",
       "    .dataframe tbody tr th:only-of-type {\n",
       "        vertical-align: middle;\n",
       "    }\n",
       "\n",
       "    .dataframe tbody tr th {\n",
       "        vertical-align: top;\n",
       "    }\n",
       "\n",
       "    .dataframe thead th {\n",
       "        text-align: right;\n",
       "    }\n",
       "</style>\n",
       "<table border=\"1\" class=\"dataframe\">\n",
       "  <thead>\n",
       "    <tr style=\"text-align: right;\">\n",
       "      <th></th>\n",
       "      <th>transaction_number</th>\n",
       "      <th>user_id</th>\n",
       "      <th>payment_method</th>\n",
       "      <th>partner_id</th>\n",
       "      <th>partner_category</th>\n",
       "      <th>country</th>\n",
       "      <th>device_type</th>\n",
       "      <th>money_transacted</th>\n",
       "      <th>transaction_initiation</th>\n",
       "      <th>partner_pricing_category</th>\n",
       "      <th>is_fraud</th>\n",
       "    </tr>\n",
       "  </thead>\n",
       "  <tbody>\n",
       "    <tr>\n",
       "      <th>0</th>\n",
       "      <td>144703125000</td>\n",
       "      <td>17539344</td>\n",
       "      <td>sbi_atm_cum_debit_card</td>\n",
       "      <td>47334</td>\n",
       "      <td>cat_1</td>\n",
       "      <td>IND_INR</td>\n",
       "      <td>android_devices</td>\n",
       "      <td>-5.0</td>\n",
       "      <td>2016-11-15 19:16:12+00:00</td>\n",
       "      <td>2</td>\n",
       "      <td>0</td>\n",
       "    </tr>\n",
       "    <tr>\n",
       "      <th>1</th>\n",
       "      <td>77406814453032</td>\n",
       "      <td>24710841</td>\n",
       "      <td>e_wallet_payments</td>\n",
       "      <td>78890</td>\n",
       "      <td>cat_2</td>\n",
       "      <td>IND_INR</td>\n",
       "      <td>other_pcs</td>\n",
       "      <td>100.0</td>\n",
       "      <td>2017-01-11 09:25:33+00:00</td>\n",
       "      <td>2</td>\n",
       "      <td>0</td>\n",
       "    </tr>\n",
       "    <tr>\n",
       "      <th>2</th>\n",
       "      <td>308929485482801</td>\n",
       "      <td>24265476</td>\n",
       "      <td>e_wallet_payments</td>\n",
       "      <td>78890</td>\n",
       "      <td>cat_2</td>\n",
       "      <td>IND_INR</td>\n",
       "      <td>other_pcs</td>\n",
       "      <td>50.0</td>\n",
       "      <td>2016-12-07 07:58:09+00:00</td>\n",
       "      <td>2</td>\n",
       "      <td>0</td>\n",
       "    </tr>\n",
       "    <tr>\n",
       "      <th>3</th>\n",
       "      <td>665270027747073</td>\n",
       "      <td>10240000</td>\n",
       "      <td>other_debit_cards</td>\n",
       "      <td>102557</td>\n",
       "      <td>cat_3</td>\n",
       "      <td>IND_INR</td>\n",
       "      <td>other_pcs</td>\n",
       "      <td>1000.0</td>\n",
       "      <td>2017-01-11 16:15:44+00:00</td>\n",
       "      <td>2</td>\n",
       "      <td>0</td>\n",
       "    </tr>\n",
       "    <tr>\n",
       "      <th>4</th>\n",
       "      <td>38276160171101</td>\n",
       "      <td>5880625</td>\n",
       "      <td>other_debit_cards</td>\n",
       "      <td>118335</td>\n",
       "      <td>cat_1</td>\n",
       "      <td>IND_INR</td>\n",
       "      <td>other_pcs</td>\n",
       "      <td>200.0</td>\n",
       "      <td>2016-11-16 17:04:42+00:00</td>\n",
       "      <td>2</td>\n",
       "      <td>0</td>\n",
       "    </tr>\n",
       "    <tr>\n",
       "      <th>...</th>\n",
       "      <td>...</td>\n",
       "      <td>...</td>\n",
       "      <td>...</td>\n",
       "      <td>...</td>\n",
       "      <td>...</td>\n",
       "      <td>...</td>\n",
       "      <td>...</td>\n",
       "      <td>...</td>\n",
       "      <td>...</td>\n",
       "      <td>...</td>\n",
       "      <td>...</td>\n",
       "    </tr>\n",
       "    <tr>\n",
       "      <th>76524</th>\n",
       "      <td>179759462245453</td>\n",
       "      <td>19686969</td>\n",
       "      <td>sbi_atm_cum_debit_card</td>\n",
       "      <td>47334</td>\n",
       "      <td>cat_1</td>\n",
       "      <td>IND_INR</td>\n",
       "      <td>android_devices</td>\n",
       "      <td>-100.0</td>\n",
       "      <td>2016-11-30 13:40:45+00:00</td>\n",
       "      <td>2</td>\n",
       "      <td>0</td>\n",
       "    </tr>\n",
       "    <tr>\n",
       "      <th>76525</th>\n",
       "      <td>2693567760244353</td>\n",
       "      <td>11662225</td>\n",
       "      <td>visa_master_debit_cards</td>\n",
       "      <td>118335</td>\n",
       "      <td>cat_1</td>\n",
       "      <td>IND_INR</td>\n",
       "      <td>other_pcs</td>\n",
       "      <td>200.0</td>\n",
       "      <td>2017-01-08 08:35:31+00:00</td>\n",
       "      <td>2</td>\n",
       "      <td>0</td>\n",
       "    </tr>\n",
       "    <tr>\n",
       "      <th>76526</th>\n",
       "      <td>119750257089000</td>\n",
       "      <td>374544</td>\n",
       "      <td>sbi_atm_cum_debit_card</td>\n",
       "      <td>47334</td>\n",
       "      <td>cat_1</td>\n",
       "      <td>IND_INR</td>\n",
       "      <td>android_devices</td>\n",
       "      <td>-3.5</td>\n",
       "      <td>2016-12-26 21:47:08+00:00</td>\n",
       "      <td>2</td>\n",
       "      <td>0</td>\n",
       "    </tr>\n",
       "    <tr>\n",
       "      <th>76527</th>\n",
       "      <td>1949798765017089</td>\n",
       "      <td>1687401</td>\n",
       "      <td>sbi_atm_cum_debit_card</td>\n",
       "      <td>47334</td>\n",
       "      <td>cat_1</td>\n",
       "      <td>IND_INR</td>\n",
       "      <td>android_devices</td>\n",
       "      <td>-20.0</td>\n",
       "      <td>2016-12-11 13:44:06+00:00</td>\n",
       "      <td>2</td>\n",
       "      <td>0</td>\n",
       "    </tr>\n",
       "    <tr>\n",
       "      <th>76528</th>\n",
       "      <td>1051344513778987</td>\n",
       "      <td>6754801</td>\n",
       "      <td>sbi_atm_cum_debit_card</td>\n",
       "      <td>47334</td>\n",
       "      <td>cat_1</td>\n",
       "      <td>IND_INR</td>\n",
       "      <td>android_devices</td>\n",
       "      <td>-100.0</td>\n",
       "      <td>2017-01-11 19:08:18+00:00</td>\n",
       "      <td>2</td>\n",
       "      <td>0</td>\n",
       "    </tr>\n",
       "  </tbody>\n",
       "</table>\n",
       "<p>76529 rows × 11 columns</p>\n",
       "</div>"
      ],
      "text/plain": [
       "       transaction_number   user_id           payment_method  partner_id  \\\n",
       "0            144703125000  17539344   sbi_atm_cum_debit_card       47334   \n",
       "1          77406814453032  24710841        e_wallet_payments       78890   \n",
       "2         308929485482801  24265476        e_wallet_payments       78890   \n",
       "3         665270027747073  10240000        other_debit_cards      102557   \n",
       "4          38276160171101   5880625        other_debit_cards      118335   \n",
       "...                   ...       ...                      ...         ...   \n",
       "76524     179759462245453  19686969   sbi_atm_cum_debit_card       47334   \n",
       "76525    2693567760244353  11662225  visa_master_debit_cards      118335   \n",
       "76526     119750257089000    374544   sbi_atm_cum_debit_card       47334   \n",
       "76527    1949798765017089   1687401   sbi_atm_cum_debit_card       47334   \n",
       "76528    1051344513778987   6754801   sbi_atm_cum_debit_card       47334   \n",
       "\n",
       "      partner_category  country      device_type  money_transacted  \\\n",
       "0                cat_1  IND_INR  android_devices              -5.0   \n",
       "1                cat_2  IND_INR        other_pcs             100.0   \n",
       "2                cat_2  IND_INR        other_pcs              50.0   \n",
       "3                cat_3  IND_INR        other_pcs            1000.0   \n",
       "4                cat_1  IND_INR        other_pcs             200.0   \n",
       "...                ...      ...              ...               ...   \n",
       "76524            cat_1  IND_INR  android_devices            -100.0   \n",
       "76525            cat_1  IND_INR        other_pcs             200.0   \n",
       "76526            cat_1  IND_INR  android_devices              -3.5   \n",
       "76527            cat_1  IND_INR  android_devices             -20.0   \n",
       "76528            cat_1  IND_INR  android_devices            -100.0   \n",
       "\n",
       "          transaction_initiation  partner_pricing_category  is_fraud  \n",
       "0      2016-11-15 19:16:12+00:00                         2         0  \n",
       "1      2017-01-11 09:25:33+00:00                         2         0  \n",
       "2      2016-12-07 07:58:09+00:00                         2         0  \n",
       "3      2017-01-11 16:15:44+00:00                         2         0  \n",
       "4      2016-11-16 17:04:42+00:00                         2         0  \n",
       "...                          ...                       ...       ...  \n",
       "76524  2016-11-30 13:40:45+00:00                         2         0  \n",
       "76525  2017-01-08 08:35:31+00:00                         2         0  \n",
       "76526  2016-12-26 21:47:08+00:00                         2         0  \n",
       "76527  2016-12-11 13:44:06+00:00                         2         0  \n",
       "76528  2017-01-11 19:08:18+00:00                         2         0  \n",
       "\n",
       "[76529 rows x 11 columns]"
      ]
     },
     "execution_count": 4,
     "metadata": {},
     "output_type": "execute_result"
    }
   ],
   "source": [
    "Train_data = pd.read_csv('train_data-1599717478076.csv')\n",
    "Train_data"
   ]
  },
  {
   "cell_type": "code",
   "execution_count": 5,
   "metadata": {
    "scrolled": true
   },
   "outputs": [
    {
     "data": {
      "text/html": [
       "<div>\n",
       "<style scoped>\n",
       "    .dataframe tbody tr th:only-of-type {\n",
       "        vertical-align: middle;\n",
       "    }\n",
       "\n",
       "    .dataframe tbody tr th {\n",
       "        vertical-align: top;\n",
       "    }\n",
       "\n",
       "    .dataframe thead th {\n",
       "        text-align: right;\n",
       "    }\n",
       "</style>\n",
       "<table border=\"1\" class=\"dataframe\">\n",
       "  <thead>\n",
       "    <tr style=\"text-align: right;\">\n",
       "      <th></th>\n",
       "      <th>transaction_number</th>\n",
       "      <th>user_id</th>\n",
       "      <th>payment_method</th>\n",
       "      <th>partner_id</th>\n",
       "      <th>partner_category</th>\n",
       "      <th>country</th>\n",
       "      <th>device_type</th>\n",
       "      <th>money_transacted</th>\n",
       "      <th>transaction_initiation</th>\n",
       "      <th>partner_pricing_category</th>\n",
       "    </tr>\n",
       "  </thead>\n",
       "  <tbody>\n",
       "    <tr>\n",
       "      <th>0</th>\n",
       "      <td>857050141038272</td>\n",
       "      <td>3802500</td>\n",
       "      <td>visa_master_debit_cards</td>\n",
       "      <td>118335</td>\n",
       "      <td>cat_1</td>\n",
       "      <td>IND_INR</td>\n",
       "      <td>other_pcs</td>\n",
       "      <td>200.0</td>\n",
       "      <td>2016-12-28 14:44:37+00:00</td>\n",
       "      <td>2</td>\n",
       "    </tr>\n",
       "    <tr>\n",
       "      <th>1</th>\n",
       "      <td>4400462872603</td>\n",
       "      <td>200704</td>\n",
       "      <td>e_wallet_payments</td>\n",
       "      <td>23667</td>\n",
       "      <td>cat_2</td>\n",
       "      <td>IND_INR</td>\n",
       "      <td>other_pcs</td>\n",
       "      <td>20.0</td>\n",
       "      <td>2016-12-14 17:49:48+00:00</td>\n",
       "      <td>2</td>\n",
       "    </tr>\n",
       "    <tr>\n",
       "      <th>2</th>\n",
       "      <td>1207915598569499</td>\n",
       "      <td>25150225</td>\n",
       "      <td>sbi_atm_cum_debit_card</td>\n",
       "      <td>47334</td>\n",
       "      <td>cat_1</td>\n",
       "      <td>IND_INR</td>\n",
       "      <td>android_devices</td>\n",
       "      <td>-100.0</td>\n",
       "      <td>2017-01-21 10:18:11+00:00</td>\n",
       "      <td>2</td>\n",
       "    </tr>\n",
       "    <tr>\n",
       "      <th>3</th>\n",
       "      <td>2009725616777536</td>\n",
       "      <td>21827584</td>\n",
       "      <td>visa_master_credit_cards</td>\n",
       "      <td>78890</td>\n",
       "      <td>cat_2</td>\n",
       "      <td>IND_INR</td>\n",
       "      <td>other_pcs</td>\n",
       "      <td>200.0</td>\n",
       "      <td>2017-01-16 13:25:10+00:00</td>\n",
       "      <td>1</td>\n",
       "    </tr>\n",
       "    <tr>\n",
       "      <th>4</th>\n",
       "      <td>2319205210274863</td>\n",
       "      <td>576081</td>\n",
       "      <td>e_wallet_payments</td>\n",
       "      <td>23667</td>\n",
       "      <td>cat_2</td>\n",
       "      <td>IND_INR</td>\n",
       "      <td>other_pcs</td>\n",
       "      <td>100.0</td>\n",
       "      <td>2017-02-09 12:47:28+00:00</td>\n",
       "      <td>2</td>\n",
       "    </tr>\n",
       "    <tr>\n",
       "      <th>...</th>\n",
       "      <td>...</td>\n",
       "      <td>...</td>\n",
       "      <td>...</td>\n",
       "      <td>...</td>\n",
       "      <td>...</td>\n",
       "      <td>...</td>\n",
       "      <td>...</td>\n",
       "      <td>...</td>\n",
       "      <td>...</td>\n",
       "      <td>...</td>\n",
       "    </tr>\n",
       "    <tr>\n",
       "      <th>19128</th>\n",
       "      <td>5332775378111</td>\n",
       "      <td>13235044</td>\n",
       "      <td>e_wallet_payments</td>\n",
       "      <td>23667</td>\n",
       "      <td>cat_2</td>\n",
       "      <td>IND_INR</td>\n",
       "      <td>other_pcs</td>\n",
       "      <td>20.0</td>\n",
       "      <td>2017-01-01 13:02:16+00:00</td>\n",
       "      <td>2</td>\n",
       "    </tr>\n",
       "    <tr>\n",
       "      <th>19129</th>\n",
       "      <td>939262915465237</td>\n",
       "      <td>12257001</td>\n",
       "      <td>e_wallet_payments</td>\n",
       "      <td>78890</td>\n",
       "      <td>cat_2</td>\n",
       "      <td>IND_INR</td>\n",
       "      <td>other_pcs</td>\n",
       "      <td>30.0</td>\n",
       "      <td>2016-12-26 19:41:23+00:00</td>\n",
       "      <td>2</td>\n",
       "    </tr>\n",
       "    <tr>\n",
       "      <th>19130</th>\n",
       "      <td>18324574916544</td>\n",
       "      <td>5958481</td>\n",
       "      <td>visa_master_debit_cards</td>\n",
       "      <td>23667</td>\n",
       "      <td>cat_2</td>\n",
       "      <td>IND_INR</td>\n",
       "      <td>other_pcs</td>\n",
       "      <td>20.0</td>\n",
       "      <td>2016-12-24 04:29:06+00:00</td>\n",
       "      <td>4</td>\n",
       "    </tr>\n",
       "    <tr>\n",
       "      <th>19131</th>\n",
       "      <td>893473728055875</td>\n",
       "      <td>53919649</td>\n",
       "      <td>sbi_atm_cum_debit_card</td>\n",
       "      <td>78890</td>\n",
       "      <td>cat_2</td>\n",
       "      <td>IND_INR</td>\n",
       "      <td>android_devices</td>\n",
       "      <td>-500.0</td>\n",
       "      <td>2016-12-04 15:38:47+00:00</td>\n",
       "      <td>4</td>\n",
       "    </tr>\n",
       "    <tr>\n",
       "      <th>19132</th>\n",
       "      <td>84390778936647</td>\n",
       "      <td>14500864</td>\n",
       "      <td>e_wallet_payments</td>\n",
       "      <td>78890</td>\n",
       "      <td>cat_2</td>\n",
       "      <td>IND_INR</td>\n",
       "      <td>other_pcs</td>\n",
       "      <td>40.0</td>\n",
       "      <td>2017-01-12 21:24:24+00:00</td>\n",
       "      <td>2</td>\n",
       "    </tr>\n",
       "  </tbody>\n",
       "</table>\n",
       "<p>19133 rows × 10 columns</p>\n",
       "</div>"
      ],
      "text/plain": [
       "       transaction_number   user_id            payment_method  partner_id  \\\n",
       "0         857050141038272   3802500   visa_master_debit_cards      118335   \n",
       "1           4400462872603    200704         e_wallet_payments       23667   \n",
       "2        1207915598569499  25150225    sbi_atm_cum_debit_card       47334   \n",
       "3        2009725616777536  21827584  visa_master_credit_cards       78890   \n",
       "4        2319205210274863    576081         e_wallet_payments       23667   \n",
       "...                   ...       ...                       ...         ...   \n",
       "19128       5332775378111  13235044         e_wallet_payments       23667   \n",
       "19129     939262915465237  12257001         e_wallet_payments       78890   \n",
       "19130      18324574916544   5958481   visa_master_debit_cards       23667   \n",
       "19131     893473728055875  53919649    sbi_atm_cum_debit_card       78890   \n",
       "19132      84390778936647  14500864         e_wallet_payments       78890   \n",
       "\n",
       "      partner_category  country      device_type  money_transacted  \\\n",
       "0                cat_1  IND_INR        other_pcs             200.0   \n",
       "1                cat_2  IND_INR        other_pcs              20.0   \n",
       "2                cat_1  IND_INR  android_devices            -100.0   \n",
       "3                cat_2  IND_INR        other_pcs             200.0   \n",
       "4                cat_2  IND_INR        other_pcs             100.0   \n",
       "...                ...      ...              ...               ...   \n",
       "19128            cat_2  IND_INR        other_pcs              20.0   \n",
       "19129            cat_2  IND_INR        other_pcs              30.0   \n",
       "19130            cat_2  IND_INR        other_pcs              20.0   \n",
       "19131            cat_2  IND_INR  android_devices            -500.0   \n",
       "19132            cat_2  IND_INR        other_pcs              40.0   \n",
       "\n",
       "          transaction_initiation  partner_pricing_category  \n",
       "0      2016-12-28 14:44:37+00:00                         2  \n",
       "1      2016-12-14 17:49:48+00:00                         2  \n",
       "2      2017-01-21 10:18:11+00:00                         2  \n",
       "3      2017-01-16 13:25:10+00:00                         1  \n",
       "4      2017-02-09 12:47:28+00:00                         2  \n",
       "...                          ...                       ...  \n",
       "19128  2017-01-01 13:02:16+00:00                         2  \n",
       "19129  2016-12-26 19:41:23+00:00                         2  \n",
       "19130  2016-12-24 04:29:06+00:00                         4  \n",
       "19131  2016-12-04 15:38:47+00:00                         4  \n",
       "19132  2017-01-12 21:24:24+00:00                         2  \n",
       "\n",
       "[19133 rows x 10 columns]"
      ]
     },
     "execution_count": 5,
     "metadata": {},
     "output_type": "execute_result"
    }
   ],
   "source": [
    "Test_data = pd.read_csv('test_data-1599717650029.csv')\n",
    "Test_data"
   ]
  },
  {
   "cell_type": "code",
   "execution_count": 6,
   "metadata": {
    "scrolled": true
   },
   "outputs": [
    {
     "data": {
      "text/html": [
       "<div>\n",
       "<style scoped>\n",
       "    .dataframe tbody tr th:only-of-type {\n",
       "        vertical-align: middle;\n",
       "    }\n",
       "\n",
       "    .dataframe tbody tr th {\n",
       "        vertical-align: top;\n",
       "    }\n",
       "\n",
       "    .dataframe thead th {\n",
       "        text-align: right;\n",
       "    }\n",
       "</style>\n",
       "<table border=\"1\" class=\"dataframe\">\n",
       "  <thead>\n",
       "    <tr style=\"text-align: right;\">\n",
       "      <th></th>\n",
       "      <th>transaction_number</th>\n",
       "      <th>user_id</th>\n",
       "      <th>partner_id</th>\n",
       "      <th>money_transacted</th>\n",
       "      <th>partner_pricing_category</th>\n",
       "      <th>is_fraud</th>\n",
       "    </tr>\n",
       "  </thead>\n",
       "  <tbody>\n",
       "    <tr>\n",
       "      <th>count</th>\n",
       "      <td>7.652900e+04</td>\n",
       "      <td>7.652900e+04</td>\n",
       "      <td>76529.000000</td>\n",
       "      <td>76529.000000</td>\n",
       "      <td>76529.000000</td>\n",
       "      <td>76529.000000</td>\n",
       "    </tr>\n",
       "    <tr>\n",
       "      <th>mean</th>\n",
       "      <td>6.940200e+14</td>\n",
       "      <td>1.247483e+07</td>\n",
       "      <td>58497.189105</td>\n",
       "      <td>132.724348</td>\n",
       "      <td>2.255707</td>\n",
       "      <td>0.002012</td>\n",
       "    </tr>\n",
       "    <tr>\n",
       "      <th>std</th>\n",
       "      <td>7.867885e+14</td>\n",
       "      <td>1.205878e+07</td>\n",
       "      <td>36740.216787</td>\n",
       "      <td>2350.110900</td>\n",
       "      <td>0.732174</td>\n",
       "      <td>0.044814</td>\n",
       "    </tr>\n",
       "    <tr>\n",
       "      <th>min</th>\n",
       "      <td>8.000000e+00</td>\n",
       "      <td>1.000000e+00</td>\n",
       "      <td>7889.000000</td>\n",
       "      <td>-20000.000000</td>\n",
       "      <td>0.000000</td>\n",
       "      <td>0.000000</td>\n",
       "    </tr>\n",
       "    <tr>\n",
       "      <th>25%</th>\n",
       "      <td>4.387866e+13</td>\n",
       "      <td>3.515625e+06</td>\n",
       "      <td>23667.000000</td>\n",
       "      <td>-1.000000</td>\n",
       "      <td>2.000000</td>\n",
       "      <td>0.000000</td>\n",
       "    </tr>\n",
       "    <tr>\n",
       "      <th>50%</th>\n",
       "      <td>3.452540e+14</td>\n",
       "      <td>9.753129e+06</td>\n",
       "      <td>47334.000000</td>\n",
       "      <td>20.000000</td>\n",
       "      <td>2.000000</td>\n",
       "      <td>0.000000</td>\n",
       "    </tr>\n",
       "    <tr>\n",
       "      <th>75%</th>\n",
       "      <td>1.173440e+15</td>\n",
       "      <td>1.788444e+07</td>\n",
       "      <td>78890.000000</td>\n",
       "      <td>52.000000</td>\n",
       "      <td>2.000000</td>\n",
       "      <td>0.000000</td>\n",
       "    </tr>\n",
       "    <tr>\n",
       "      <th>max</th>\n",
       "      <td>2.784238e+15</td>\n",
       "      <td>5.592048e+07</td>\n",
       "      <td>213003.000000</td>\n",
       "      <td>197217.760000</td>\n",
       "      <td>4.000000</td>\n",
       "      <td>1.000000</td>\n",
       "    </tr>\n",
       "  </tbody>\n",
       "</table>\n",
       "</div>"
      ],
      "text/plain": [
       "       transaction_number       user_id     partner_id  money_transacted  \\\n",
       "count        7.652900e+04  7.652900e+04   76529.000000      76529.000000   \n",
       "mean         6.940200e+14  1.247483e+07   58497.189105        132.724348   \n",
       "std          7.867885e+14  1.205878e+07   36740.216787       2350.110900   \n",
       "min          8.000000e+00  1.000000e+00    7889.000000     -20000.000000   \n",
       "25%          4.387866e+13  3.515625e+06   23667.000000         -1.000000   \n",
       "50%          3.452540e+14  9.753129e+06   47334.000000         20.000000   \n",
       "75%          1.173440e+15  1.788444e+07   78890.000000         52.000000   \n",
       "max          2.784238e+15  5.592048e+07  213003.000000     197217.760000   \n",
       "\n",
       "       partner_pricing_category      is_fraud  \n",
       "count              76529.000000  76529.000000  \n",
       "mean                   2.255707      0.002012  \n",
       "std                    0.732174      0.044814  \n",
       "min                    0.000000      0.000000  \n",
       "25%                    2.000000      0.000000  \n",
       "50%                    2.000000      0.000000  \n",
       "75%                    2.000000      0.000000  \n",
       "max                    4.000000      1.000000  "
      ]
     },
     "execution_count": 6,
     "metadata": {},
     "output_type": "execute_result"
    }
   ],
   "source": [
    "Train_data.describe()"
   ]
  },
  {
   "cell_type": "code",
   "execution_count": 7,
   "metadata": {
    "scrolled": true
   },
   "outputs": [
    {
     "data": {
      "text/html": [
       "<div>\n",
       "<style scoped>\n",
       "    .dataframe tbody tr th:only-of-type {\n",
       "        vertical-align: middle;\n",
       "    }\n",
       "\n",
       "    .dataframe tbody tr th {\n",
       "        vertical-align: top;\n",
       "    }\n",
       "\n",
       "    .dataframe thead th {\n",
       "        text-align: right;\n",
       "    }\n",
       "</style>\n",
       "<table border=\"1\" class=\"dataframe\">\n",
       "  <thead>\n",
       "    <tr style=\"text-align: right;\">\n",
       "      <th></th>\n",
       "      <th>transaction_number</th>\n",
       "      <th>user_id</th>\n",
       "      <th>partner_id</th>\n",
       "      <th>money_transacted</th>\n",
       "      <th>partner_pricing_category</th>\n",
       "    </tr>\n",
       "  </thead>\n",
       "  <tbody>\n",
       "    <tr>\n",
       "      <th>count</th>\n",
       "      <td>1.913300e+04</td>\n",
       "      <td>1.913300e+04</td>\n",
       "      <td>19133.000000</td>\n",
       "      <td>19133.000000</td>\n",
       "      <td>19133.000000</td>\n",
       "    </tr>\n",
       "    <tr>\n",
       "      <th>mean</th>\n",
       "      <td>7.037622e+14</td>\n",
       "      <td>1.261609e+07</td>\n",
       "      <td>58656.424084</td>\n",
       "      <td>140.886995</td>\n",
       "      <td>2.257043</td>\n",
       "    </tr>\n",
       "    <tr>\n",
       "      <th>std</th>\n",
       "      <td>7.946458e+14</td>\n",
       "      <td>1.228365e+07</td>\n",
       "      <td>36692.507399</td>\n",
       "      <td>2883.975048</td>\n",
       "      <td>0.735934</td>\n",
       "    </tr>\n",
       "    <tr>\n",
       "      <th>min</th>\n",
       "      <td>1.000000e+00</td>\n",
       "      <td>3.600000e+01</td>\n",
       "      <td>7889.000000</td>\n",
       "      <td>-20000.000000</td>\n",
       "      <td>0.000000</td>\n",
       "    </tr>\n",
       "    <tr>\n",
       "      <th>25%</th>\n",
       "      <td>4.313645e+13</td>\n",
       "      <td>3.515625e+06</td>\n",
       "      <td>23667.000000</td>\n",
       "      <td>-1.000000</td>\n",
       "      <td>2.000000</td>\n",
       "    </tr>\n",
       "    <tr>\n",
       "      <th>50%</th>\n",
       "      <td>3.585617e+14</td>\n",
       "      <td>9.922500e+06</td>\n",
       "      <td>47334.000000</td>\n",
       "      <td>20.000000</td>\n",
       "      <td>2.000000</td>\n",
       "    </tr>\n",
       "    <tr>\n",
       "      <th>75%</th>\n",
       "      <td>1.184018e+15</td>\n",
       "      <td>1.796064e+07</td>\n",
       "      <td>78890.000000</td>\n",
       "      <td>60.000000</td>\n",
       "      <td>2.000000</td>\n",
       "    </tr>\n",
       "    <tr>\n",
       "      <th>max</th>\n",
       "      <td>2.783822e+15</td>\n",
       "      <td>5.593544e+07</td>\n",
       "      <td>213003.000000</td>\n",
       "      <td>197600.000000</td>\n",
       "      <td>4.000000</td>\n",
       "    </tr>\n",
       "  </tbody>\n",
       "</table>\n",
       "</div>"
      ],
      "text/plain": [
       "       transaction_number       user_id     partner_id  money_transacted  \\\n",
       "count        1.913300e+04  1.913300e+04   19133.000000      19133.000000   \n",
       "mean         7.037622e+14  1.261609e+07   58656.424084        140.886995   \n",
       "std          7.946458e+14  1.228365e+07   36692.507399       2883.975048   \n",
       "min          1.000000e+00  3.600000e+01    7889.000000     -20000.000000   \n",
       "25%          4.313645e+13  3.515625e+06   23667.000000         -1.000000   \n",
       "50%          3.585617e+14  9.922500e+06   47334.000000         20.000000   \n",
       "75%          1.184018e+15  1.796064e+07   78890.000000         60.000000   \n",
       "max          2.783822e+15  5.593544e+07  213003.000000     197600.000000   \n",
       "\n",
       "       partner_pricing_category  \n",
       "count              19133.000000  \n",
       "mean                   2.257043  \n",
       "std                    0.735934  \n",
       "min                    0.000000  \n",
       "25%                    2.000000  \n",
       "50%                    2.000000  \n",
       "75%                    2.000000  \n",
       "max                    4.000000  "
      ]
     },
     "execution_count": 7,
     "metadata": {},
     "output_type": "execute_result"
    }
   ],
   "source": [
    "Test_data.describe()"
   ]
  },
  {
   "cell_type": "code",
   "execution_count": 8,
   "metadata": {
    "scrolled": true
   },
   "outputs": [
    {
     "data": {
      "text/plain": [
       "transaction_number            int64\n",
       "user_id                       int64\n",
       "payment_method               object\n",
       "partner_id                    int64\n",
       "partner_category             object\n",
       "country                      object\n",
       "device_type                  object\n",
       "money_transacted            float64\n",
       "transaction_initiation       object\n",
       "partner_pricing_category      int64\n",
       "is_fraud                      int64\n",
       "dtype: object"
      ]
     },
     "execution_count": 8,
     "metadata": {},
     "output_type": "execute_result"
    }
   ],
   "source": [
    "Train_data.dtypes"
   ]
  },
  {
   "cell_type": "code",
   "execution_count": 9,
   "metadata": {},
   "outputs": [
    {
     "data": {
      "text/plain": [
       "transaction_number            int64\n",
       "user_id                       int64\n",
       "payment_method               object\n",
       "partner_id                    int64\n",
       "partner_category             object\n",
       "country                      object\n",
       "device_type                  object\n",
       "money_transacted            float64\n",
       "transaction_initiation       object\n",
       "partner_pricing_category      int64\n",
       "dtype: object"
      ]
     },
     "execution_count": 9,
     "metadata": {},
     "output_type": "execute_result"
    }
   ],
   "source": [
    "Test_data.dtypes"
   ]
  },
  {
   "cell_type": "code",
   "execution_count": 10,
   "metadata": {},
   "outputs": [],
   "source": [
    "col_names=['transaction_number','user_id','payment_method','partner_id', 'partner_category', 'country', 'device_type', 'partner_pricing_category']\n",
    "Train_data[col_names] = Train_data[col_names].astype('category')\n",
    "Train_data['is_fraud'] = Train_data['is_fraud'].astype('category')\n",
    "Test_data[col_names] = Test_data[col_names].astype('category')"
   ]
  },
  {
   "cell_type": "code",
   "execution_count": 11,
   "metadata": {},
   "outputs": [
    {
     "data": {
      "text/plain": [
       "transaction_number          category\n",
       "user_id                     category\n",
       "payment_method              category\n",
       "partner_id                  category\n",
       "partner_category            category\n",
       "country                     category\n",
       "device_type                 category\n",
       "money_transacted             float64\n",
       "transaction_initiation        object\n",
       "partner_pricing_category    category\n",
       "is_fraud                    category\n",
       "dtype: object"
      ]
     },
     "execution_count": 11,
     "metadata": {},
     "output_type": "execute_result"
    }
   ],
   "source": [
    "Train_data.dtypes"
   ]
  },
  {
   "cell_type": "code",
   "execution_count": 12,
   "metadata": {
    "scrolled": true
   },
   "outputs": [
    {
     "data": {
      "text/plain": [
       "transaction_number          category\n",
       "user_id                     category\n",
       "payment_method              category\n",
       "partner_id                  category\n",
       "partner_category            category\n",
       "country                     category\n",
       "device_type                 category\n",
       "money_transacted             float64\n",
       "transaction_initiation        object\n",
       "partner_pricing_category    category\n",
       "dtype: object"
      ]
     },
     "execution_count": 12,
     "metadata": {},
     "output_type": "execute_result"
    }
   ],
   "source": [
    "Test_data.dtypes"
   ]
  },
  {
   "cell_type": "markdown",
   "metadata": {},
   "source": [
    "obj_df_replace_nums = {\"num_doors\":     {'1', \"two\": 2}}"
   ]
  },
  {
   "cell_type": "code",
   "execution_count": 13,
   "metadata": {},
   "outputs": [
    {
     "name": "stdout",
     "output_type": "stream",
     "text": [
      "The number of unique transaction numbers  in the train data set\n",
      "76529\n",
      "The number of unique user ID's in the train data set\n",
      "3594\n",
      "The number of unique payment methods in the train data set\n",
      "6\n",
      "The number of unique partner ids in the train data set\n",
      "23\n",
      "The number of unique partner categories in the train data set\n",
      "9\n",
      "The number of unique countries in the train data set\n",
      "1\n",
      "The number of unique device types in the train data set\n",
      "4\n",
      "The number of unique partner pricing categories in the train data set\n",
      "4\n"
     ]
    }
   ],
   "source": [
    "#Number of unique transaction numbers\n",
    "print(\"The number of unique transaction numbers  in the train data set\")\n",
    "print(Train_data['transaction_number'].nunique())\n",
    "\n",
    "#Number of unique userID's\n",
    "print(\"The number of unique user ID's in the train data set\")\n",
    "print(Train_data['user_id'].nunique())\n",
    "\n",
    "#Number of unique payment methods\n",
    "print(\"The number of unique payment methods in the train data set\")\n",
    "print(Train_data['payment_method'].nunique())\n",
    "\n",
    "#Number of unique partner ids\n",
    "print(\"The number of unique partner ids in the train data set\")\n",
    "print(Train_data['partner_id'].nunique())\n",
    "\n",
    "#Number of unique partner categories\n",
    "print(\"The number of unique partner categories in the train data set\")\n",
    "print(Train_data['partner_category'].nunique())\n",
    "\n",
    "#Number of unique countries\n",
    "print(\"The number of unique countries in the train data set\")\n",
    "print(Train_data['country'].nunique())\n",
    "\n",
    "#Number of unique device types\n",
    "print(\"The number of unique device types in the train data set\")\n",
    "print(Train_data['device_type'].nunique())\n",
    "\n",
    "#Number of unique partner pricing categories\n",
    "print(\"The number of unique partner pricing categories in the train data set\")\n",
    "print(Train_data['partner_pricing_category'].nunique())\n"
   ]
  },
  {
   "cell_type": "code",
   "execution_count": 14,
   "metadata": {
    "scrolled": true
   },
   "outputs": [
    {
     "name": "stdout",
     "output_type": "stream",
     "text": [
      "The number of unique transaction numbers  in the test data set\n",
      "19133\n",
      "The number of unique user ID's in the test data set\n",
      "2617\n",
      "The number of unique payment methods in the test data set\n",
      "6\n",
      "The number of unique partner ids in the test data set\n",
      "20\n",
      "The number of unique partner categories in the test data set\n",
      "8\n",
      "The number of unique countries in the test data set\n",
      "1\n",
      "The number of unique device types in the test data set\n",
      "4\n",
      "The number of unique partner pricing categories in the test data set\n",
      "4\n"
     ]
    }
   ],
   "source": [
    "#Number of unique transaction numbers\n",
    "print(\"The number of unique transaction numbers  in the test data set\")\n",
    "print(Test_data['transaction_number'].nunique())\n",
    "\n",
    "#Number of unique userID's\n",
    "print(\"The number of unique user ID's in the test data set\")\n",
    "print(Test_data['user_id'].nunique())\n",
    "\n",
    "#Number of unique payment methods\n",
    "print(\"The number of unique payment methods in the test data set\")\n",
    "print(Test_data['payment_method'].nunique())\n",
    "\n",
    "#Number of unique partner ids\n",
    "print(\"The number of unique partner ids in the test data set\")\n",
    "print(Test_data['partner_id'].nunique())\n",
    "\n",
    "#Number of unique partner categories\n",
    "print(\"The number of unique partner categories in the test data set\")\n",
    "print(Test_data['partner_category'].nunique())\n",
    "\n",
    "#Number of unique countries\n",
    "print(\"The number of unique countries in the test data set\")\n",
    "print(Test_data['country'].nunique())\n",
    "\n",
    "#Number of unique device types\n",
    "print(\"The number of unique device types in the test data set\")\n",
    "print(Test_data['device_type'].nunique())\n",
    "\n",
    "#Number of unique partner pricing categories\n",
    "print(\"The number of unique partner pricing categories in the test data set\")\n",
    "print(Test_data['partner_pricing_category'].nunique())"
   ]
  },
  {
   "cell_type": "markdown",
   "metadata": {},
   "source": [
    "__Observation:__ \n",
    "- Clearly transaction numbers is unique for each row and offers zero variance. Hence it can be deleted. \n",
    "- Country has only one unique value, so it can aslo be droped\n",
    "- The rest of the columns are not unique and hence it cannot be deleted."
   ]
  },
  {
   "cell_type": "code",
   "execution_count": 15,
   "metadata": {},
   "outputs": [],
   "source": [
    "Train_data = Train_data.drop(['transaction_number', 'country'], axis=1)\n",
    "Test_data = Test_data.drop(['transaction_number', 'country'], axis=1)"
   ]
  },
  {
   "cell_type": "code",
   "execution_count": 16,
   "metadata": {},
   "outputs": [
    {
     "data": {
      "text/html": [
       "<div>\n",
       "<style scoped>\n",
       "    .dataframe tbody tr th:only-of-type {\n",
       "        vertical-align: middle;\n",
       "    }\n",
       "\n",
       "    .dataframe tbody tr th {\n",
       "        vertical-align: top;\n",
       "    }\n",
       "\n",
       "    .dataframe thead th {\n",
       "        text-align: right;\n",
       "    }\n",
       "</style>\n",
       "<table border=\"1\" class=\"dataframe\">\n",
       "  <thead>\n",
       "    <tr style=\"text-align: right;\">\n",
       "      <th></th>\n",
       "      <th>user_id</th>\n",
       "      <th>payment_method</th>\n",
       "      <th>partner_id</th>\n",
       "      <th>partner_category</th>\n",
       "      <th>device_type</th>\n",
       "      <th>money_transacted</th>\n",
       "      <th>transaction_initiation</th>\n",
       "      <th>partner_pricing_category</th>\n",
       "      <th>is_fraud</th>\n",
       "    </tr>\n",
       "  </thead>\n",
       "  <tbody>\n",
       "    <tr>\n",
       "      <th>count</th>\n",
       "      <td>76529.0</td>\n",
       "      <td>76529</td>\n",
       "      <td>76529.0</td>\n",
       "      <td>76529</td>\n",
       "      <td>76529</td>\n",
       "      <td>76529.000000</td>\n",
       "      <td>76529</td>\n",
       "      <td>76529.0</td>\n",
       "      <td>76529.0</td>\n",
       "    </tr>\n",
       "    <tr>\n",
       "      <th>unique</th>\n",
       "      <td>3594.0</td>\n",
       "      <td>6</td>\n",
       "      <td>23.0</td>\n",
       "      <td>9</td>\n",
       "      <td>4</td>\n",
       "      <td>NaN</td>\n",
       "      <td>75811</td>\n",
       "      <td>4.0</td>\n",
       "      <td>2.0</td>\n",
       "    </tr>\n",
       "    <tr>\n",
       "      <th>top</th>\n",
       "      <td>53919649.0</td>\n",
       "      <td>sbi_atm_cum_debit_card</td>\n",
       "      <td>47334.0</td>\n",
       "      <td>cat_1</td>\n",
       "      <td>other_pcs</td>\n",
       "      <td>NaN</td>\n",
       "      <td>2016-12-24 16:30:13+00:00</td>\n",
       "      <td>2.0</td>\n",
       "      <td>0.0</td>\n",
       "    </tr>\n",
       "    <tr>\n",
       "      <th>freq</th>\n",
       "      <td>3240.0</td>\n",
       "      <td>30538</td>\n",
       "      <td>26105.0</td>\n",
       "      <td>36306</td>\n",
       "      <td>45560</td>\n",
       "      <td>NaN</td>\n",
       "      <td>12</td>\n",
       "      <td>63899.0</td>\n",
       "      <td>76375.0</td>\n",
       "    </tr>\n",
       "    <tr>\n",
       "      <th>mean</th>\n",
       "      <td>NaN</td>\n",
       "      <td>NaN</td>\n",
       "      <td>NaN</td>\n",
       "      <td>NaN</td>\n",
       "      <td>NaN</td>\n",
       "      <td>132.724348</td>\n",
       "      <td>NaN</td>\n",
       "      <td>NaN</td>\n",
       "      <td>NaN</td>\n",
       "    </tr>\n",
       "    <tr>\n",
       "      <th>std</th>\n",
       "      <td>NaN</td>\n",
       "      <td>NaN</td>\n",
       "      <td>NaN</td>\n",
       "      <td>NaN</td>\n",
       "      <td>NaN</td>\n",
       "      <td>2350.110900</td>\n",
       "      <td>NaN</td>\n",
       "      <td>NaN</td>\n",
       "      <td>NaN</td>\n",
       "    </tr>\n",
       "    <tr>\n",
       "      <th>min</th>\n",
       "      <td>NaN</td>\n",
       "      <td>NaN</td>\n",
       "      <td>NaN</td>\n",
       "      <td>NaN</td>\n",
       "      <td>NaN</td>\n",
       "      <td>-20000.000000</td>\n",
       "      <td>NaN</td>\n",
       "      <td>NaN</td>\n",
       "      <td>NaN</td>\n",
       "    </tr>\n",
       "    <tr>\n",
       "      <th>25%</th>\n",
       "      <td>NaN</td>\n",
       "      <td>NaN</td>\n",
       "      <td>NaN</td>\n",
       "      <td>NaN</td>\n",
       "      <td>NaN</td>\n",
       "      <td>-1.000000</td>\n",
       "      <td>NaN</td>\n",
       "      <td>NaN</td>\n",
       "      <td>NaN</td>\n",
       "    </tr>\n",
       "    <tr>\n",
       "      <th>50%</th>\n",
       "      <td>NaN</td>\n",
       "      <td>NaN</td>\n",
       "      <td>NaN</td>\n",
       "      <td>NaN</td>\n",
       "      <td>NaN</td>\n",
       "      <td>20.000000</td>\n",
       "      <td>NaN</td>\n",
       "      <td>NaN</td>\n",
       "      <td>NaN</td>\n",
       "    </tr>\n",
       "    <tr>\n",
       "      <th>75%</th>\n",
       "      <td>NaN</td>\n",
       "      <td>NaN</td>\n",
       "      <td>NaN</td>\n",
       "      <td>NaN</td>\n",
       "      <td>NaN</td>\n",
       "      <td>52.000000</td>\n",
       "      <td>NaN</td>\n",
       "      <td>NaN</td>\n",
       "      <td>NaN</td>\n",
       "    </tr>\n",
       "    <tr>\n",
       "      <th>max</th>\n",
       "      <td>NaN</td>\n",
       "      <td>NaN</td>\n",
       "      <td>NaN</td>\n",
       "      <td>NaN</td>\n",
       "      <td>NaN</td>\n",
       "      <td>197217.760000</td>\n",
       "      <td>NaN</td>\n",
       "      <td>NaN</td>\n",
       "      <td>NaN</td>\n",
       "    </tr>\n",
       "  </tbody>\n",
       "</table>\n",
       "</div>"
      ],
      "text/plain": [
       "           user_id          payment_method  partner_id partner_category  \\\n",
       "count      76529.0                   76529     76529.0            76529   \n",
       "unique      3594.0                       6        23.0                9   \n",
       "top     53919649.0  sbi_atm_cum_debit_card     47334.0            cat_1   \n",
       "freq        3240.0                   30538     26105.0            36306   \n",
       "mean           NaN                     NaN         NaN              NaN   \n",
       "std            NaN                     NaN         NaN              NaN   \n",
       "min            NaN                     NaN         NaN              NaN   \n",
       "25%            NaN                     NaN         NaN              NaN   \n",
       "50%            NaN                     NaN         NaN              NaN   \n",
       "75%            NaN                     NaN         NaN              NaN   \n",
       "max            NaN                     NaN         NaN              NaN   \n",
       "\n",
       "       device_type  money_transacted     transaction_initiation  \\\n",
       "count        76529      76529.000000                      76529   \n",
       "unique           4               NaN                      75811   \n",
       "top      other_pcs               NaN  2016-12-24 16:30:13+00:00   \n",
       "freq         45560               NaN                         12   \n",
       "mean           NaN        132.724348                        NaN   \n",
       "std            NaN       2350.110900                        NaN   \n",
       "min            NaN     -20000.000000                        NaN   \n",
       "25%            NaN         -1.000000                        NaN   \n",
       "50%            NaN         20.000000                        NaN   \n",
       "75%            NaN         52.000000                        NaN   \n",
       "max            NaN     197217.760000                        NaN   \n",
       "\n",
       "        partner_pricing_category  is_fraud  \n",
       "count                    76529.0   76529.0  \n",
       "unique                       4.0       2.0  \n",
       "top                          2.0       0.0  \n",
       "freq                     63899.0   76375.0  \n",
       "mean                         NaN       NaN  \n",
       "std                          NaN       NaN  \n",
       "min                          NaN       NaN  \n",
       "25%                          NaN       NaN  \n",
       "50%                          NaN       NaN  \n",
       "75%                          NaN       NaN  \n",
       "max                          NaN       NaN  "
      ]
     },
     "execution_count": 16,
     "metadata": {},
     "output_type": "execute_result"
    }
   ],
   "source": [
    "Train_data.describe(include='all')"
   ]
  },
  {
   "cell_type": "code",
   "execution_count": 17,
   "metadata": {},
   "outputs": [
    {
     "data": {
      "text/html": [
       "<div>\n",
       "<style scoped>\n",
       "    .dataframe tbody tr th:only-of-type {\n",
       "        vertical-align: middle;\n",
       "    }\n",
       "\n",
       "    .dataframe tbody tr th {\n",
       "        vertical-align: top;\n",
       "    }\n",
       "\n",
       "    .dataframe thead th {\n",
       "        text-align: right;\n",
       "    }\n",
       "</style>\n",
       "<table border=\"1\" class=\"dataframe\">\n",
       "  <thead>\n",
       "    <tr style=\"text-align: right;\">\n",
       "      <th></th>\n",
       "      <th>user_id</th>\n",
       "      <th>payment_method</th>\n",
       "      <th>partner_id</th>\n",
       "      <th>partner_category</th>\n",
       "      <th>device_type</th>\n",
       "      <th>money_transacted</th>\n",
       "      <th>transaction_initiation</th>\n",
       "      <th>partner_pricing_category</th>\n",
       "    </tr>\n",
       "  </thead>\n",
       "  <tbody>\n",
       "    <tr>\n",
       "      <th>count</th>\n",
       "      <td>19133.0</td>\n",
       "      <td>19133</td>\n",
       "      <td>19133.0</td>\n",
       "      <td>19133</td>\n",
       "      <td>19133</td>\n",
       "      <td>19133.000000</td>\n",
       "      <td>19133</td>\n",
       "      <td>19133.0</td>\n",
       "    </tr>\n",
       "    <tr>\n",
       "      <th>unique</th>\n",
       "      <td>2617.0</td>\n",
       "      <td>6</td>\n",
       "      <td>20.0</td>\n",
       "      <td>8</td>\n",
       "      <td>4</td>\n",
       "      <td>NaN</td>\n",
       "      <td>19090</td>\n",
       "      <td>4.0</td>\n",
       "    </tr>\n",
       "    <tr>\n",
       "      <th>top</th>\n",
       "      <td>53919649.0</td>\n",
       "      <td>sbi_atm_cum_debit_card</td>\n",
       "      <td>47334.0</td>\n",
       "      <td>cat_1</td>\n",
       "      <td>other_pcs</td>\n",
       "      <td>NaN</td>\n",
       "      <td>2016-12-24 16:30:13+00:00</td>\n",
       "      <td>2.0</td>\n",
       "    </tr>\n",
       "    <tr>\n",
       "      <th>freq</th>\n",
       "      <td>851.0</td>\n",
       "      <td>7651</td>\n",
       "      <td>6530.0</td>\n",
       "      <td>9099</td>\n",
       "      <td>11375</td>\n",
       "      <td>NaN</td>\n",
       "      <td>5</td>\n",
       "      <td>15949.0</td>\n",
       "    </tr>\n",
       "    <tr>\n",
       "      <th>mean</th>\n",
       "      <td>NaN</td>\n",
       "      <td>NaN</td>\n",
       "      <td>NaN</td>\n",
       "      <td>NaN</td>\n",
       "      <td>NaN</td>\n",
       "      <td>140.886995</td>\n",
       "      <td>NaN</td>\n",
       "      <td>NaN</td>\n",
       "    </tr>\n",
       "    <tr>\n",
       "      <th>std</th>\n",
       "      <td>NaN</td>\n",
       "      <td>NaN</td>\n",
       "      <td>NaN</td>\n",
       "      <td>NaN</td>\n",
       "      <td>NaN</td>\n",
       "      <td>2883.975048</td>\n",
       "      <td>NaN</td>\n",
       "      <td>NaN</td>\n",
       "    </tr>\n",
       "    <tr>\n",
       "      <th>min</th>\n",
       "      <td>NaN</td>\n",
       "      <td>NaN</td>\n",
       "      <td>NaN</td>\n",
       "      <td>NaN</td>\n",
       "      <td>NaN</td>\n",
       "      <td>-20000.000000</td>\n",
       "      <td>NaN</td>\n",
       "      <td>NaN</td>\n",
       "    </tr>\n",
       "    <tr>\n",
       "      <th>25%</th>\n",
       "      <td>NaN</td>\n",
       "      <td>NaN</td>\n",
       "      <td>NaN</td>\n",
       "      <td>NaN</td>\n",
       "      <td>NaN</td>\n",
       "      <td>-1.000000</td>\n",
       "      <td>NaN</td>\n",
       "      <td>NaN</td>\n",
       "    </tr>\n",
       "    <tr>\n",
       "      <th>50%</th>\n",
       "      <td>NaN</td>\n",
       "      <td>NaN</td>\n",
       "      <td>NaN</td>\n",
       "      <td>NaN</td>\n",
       "      <td>NaN</td>\n",
       "      <td>20.000000</td>\n",
       "      <td>NaN</td>\n",
       "      <td>NaN</td>\n",
       "    </tr>\n",
       "    <tr>\n",
       "      <th>75%</th>\n",
       "      <td>NaN</td>\n",
       "      <td>NaN</td>\n",
       "      <td>NaN</td>\n",
       "      <td>NaN</td>\n",
       "      <td>NaN</td>\n",
       "      <td>60.000000</td>\n",
       "      <td>NaN</td>\n",
       "      <td>NaN</td>\n",
       "    </tr>\n",
       "    <tr>\n",
       "      <th>max</th>\n",
       "      <td>NaN</td>\n",
       "      <td>NaN</td>\n",
       "      <td>NaN</td>\n",
       "      <td>NaN</td>\n",
       "      <td>NaN</td>\n",
       "      <td>197600.000000</td>\n",
       "      <td>NaN</td>\n",
       "      <td>NaN</td>\n",
       "    </tr>\n",
       "  </tbody>\n",
       "</table>\n",
       "</div>"
      ],
      "text/plain": [
       "           user_id          payment_method  partner_id partner_category  \\\n",
       "count      19133.0                   19133     19133.0            19133   \n",
       "unique      2617.0                       6        20.0                8   \n",
       "top     53919649.0  sbi_atm_cum_debit_card     47334.0            cat_1   \n",
       "freq         851.0                    7651      6530.0             9099   \n",
       "mean           NaN                     NaN         NaN              NaN   \n",
       "std            NaN                     NaN         NaN              NaN   \n",
       "min            NaN                     NaN         NaN              NaN   \n",
       "25%            NaN                     NaN         NaN              NaN   \n",
       "50%            NaN                     NaN         NaN              NaN   \n",
       "75%            NaN                     NaN         NaN              NaN   \n",
       "max            NaN                     NaN         NaN              NaN   \n",
       "\n",
       "       device_type  money_transacted     transaction_initiation  \\\n",
       "count        19133      19133.000000                      19133   \n",
       "unique           4               NaN                      19090   \n",
       "top      other_pcs               NaN  2016-12-24 16:30:13+00:00   \n",
       "freq         11375               NaN                          5   \n",
       "mean           NaN        140.886995                        NaN   \n",
       "std            NaN       2883.975048                        NaN   \n",
       "min            NaN     -20000.000000                        NaN   \n",
       "25%            NaN         -1.000000                        NaN   \n",
       "50%            NaN         20.000000                        NaN   \n",
       "75%            NaN         60.000000                        NaN   \n",
       "max            NaN     197600.000000                        NaN   \n",
       "\n",
       "        partner_pricing_category  \n",
       "count                    19133.0  \n",
       "unique                       4.0  \n",
       "top                          2.0  \n",
       "freq                     15949.0  \n",
       "mean                         NaN  \n",
       "std                          NaN  \n",
       "min                          NaN  \n",
       "25%                          NaN  \n",
       "50%                          NaN  \n",
       "75%                          NaN  \n",
       "max                          NaN  "
      ]
     },
     "execution_count": 17,
     "metadata": {},
     "output_type": "execute_result"
    }
   ],
   "source": [
    "Test_data.describe(include='all')"
   ]
  },
  {
   "cell_type": "code",
   "execution_count": 18,
   "metadata": {
    "scrolled": true
   },
   "outputs": [
    {
     "data": {
      "text/plain": [
       "(-1000, 3000)"
      ]
     },
     "execution_count": 18,
     "metadata": {},
     "output_type": "execute_result"
    },
    {
     "data": {
      "image/png": "[encoded data removed]",
      "text/plain": [
       "<Figure size 720x360 with 1 Axes>"
      ]
     },
     "metadata": {
      "needs_background": "light"
     },
     "output_type": "display_data"
    }
   ],
   "source": [
    "Train_data['money_transacted'].hist(figsize=(10, 5));\n",
    "plt.xlim([-1000, 3000])"
   ]
  },
  {
   "cell_type": "code",
   "execution_count": 19,
   "metadata": {
    "scrolled": false
   },
   "outputs": [
    {
     "data": {
      "text/plain": [
       "(-1000, 3000)"
      ]
     },
     "execution_count": 19,
     "metadata": {},
     "output_type": "execute_result"
    },
    {
     "data": {
      "image/png": "[encoded data removed]",
      "text/plain": [
       "<Figure size 432x288 with 1 Axes>"
      ]
     },
     "metadata": {
      "needs_background": "light"
     },
     "output_type": "display_data"
    }
   ],
   "source": [
    "\n",
    "fig, ax = plt.subplots()\n",
    "Train_data['money_transacted'].value_counts().plot(ax=ax, kind='hist')\n",
    "plt.xlim([-1000, 3000])"
   ]
  },
  {
   "cell_type": "code",
   "execution_count": 20,
   "metadata": {},
   "outputs": [
    {
     "data": {
      "text/plain": [
       "[0, 1]\n",
       "Categories (2, int64): [0, 1]"
      ]
     },
     "execution_count": 20,
     "metadata": {},
     "output_type": "execute_result"
    }
   ],
   "source": [
    "Train_data['is_fraud'].unique()"
   ]
  },
  {
   "cell_type": "code",
   "execution_count": 21,
   "metadata": {},
   "outputs": [],
   "source": [
    "def getProbOfFraud(col, target, df, forGraph=True):\n",
    "    crosstab = pd.crosstab(index = df[col], columns = df[target])\n",
    "    crosstab.columns = pd.Index(list(crosstab.columns))\n",
    "    crosstab = crosstab.reset_index() \n",
    "    crosstab['TotalCount'] = crosstab[1] + crosstab[0]\n",
    "    crosstab['ProbOfFraud'] = crosstab[1] / crosstab['TotalCount']\n",
    "    \n",
    "    print(crosstab.head())\n",
    "    if forGraph:\n",
    "        return crosstab[[col, 'ProbOfFraud']]\n",
    "    else:\n",
    "        return crosstab[[col, 'TotalCount', 'ProbOfFraud']]"
   ]
  },
  {
   "cell_type": "code",
   "execution_count": 22,
   "metadata": {},
   "outputs": [
    {
     "name": "stdout",
     "output_type": "stream",
     "text": [
      "   money_transacted  0  1  TotalCount  ProbOfFraud\n",
      "0          -20000.0  1  0           1          0.0\n",
      "1          -18000.0  0  1           1          1.0\n",
      "2          -10000.0  0  3           3          1.0\n",
      "3           -4000.0  7  0           7          0.0\n",
      "4           -3200.0  1  0           1          0.0\n"
     ]
    }
   ],
   "source": [
    "data = getProbOfFraud('money_transacted', 'is_fraud', Train_data)"
   ]
  },
  {
   "cell_type": "code",
   "execution_count": 23,
   "metadata": {},
   "outputs": [],
   "source": [
    "import matplotlib.pyplot as plt\n",
    "import seaborn as sns\n",
    "%matplotlib inline"
   ]
  },
  {
   "cell_type": "code",
   "execution_count": null,
   "metadata": {},
   "outputs": [],
   "source": []
  },
  {
   "cell_type": "code",
   "execution_count": 24,
   "metadata": {},
   "outputs": [
    {
     "data": {
      "text/plain": [
       "user_id                     0\n",
       "payment_method              0\n",
       "partner_id                  0\n",
       "partner_category            0\n",
       "device_type                 0\n",
       "money_transacted            0\n",
       "transaction_initiation      0\n",
       "partner_pricing_category    0\n",
       "dtype: int64"
      ]
     },
     "execution_count": 24,
     "metadata": {},
     "output_type": "execute_result"
    }
   ],
   "source": [
    "Test_data.isnull().sum()"
   ]
  },
  {
   "cell_type": "code",
   "execution_count": 25,
   "metadata": {
    "scrolled": true
   },
   "outputs": [
    {
     "data": {
      "text/plain": [
       "user_id                     category\n",
       "payment_method              category\n",
       "partner_id                  category\n",
       "partner_category            category\n",
       "device_type                 category\n",
       "money_transacted             float64\n",
       "transaction_initiation        object\n",
       "partner_pricing_category    category\n",
       "is_fraud                    category\n",
       "dtype: object"
      ]
     },
     "execution_count": 25,
     "metadata": {},
     "output_type": "execute_result"
    }
   ],
   "source": [
    "Train_data.dtypes"
   ]
  },
  {
   "cell_type": "code",
   "execution_count": 26,
   "metadata": {
    "scrolled": true
   },
   "outputs": [
    {
     "data": {
      "text/html": [
       "<div>\n",
       "<style scoped>\n",
       "    .dataframe tbody tr th:only-of-type {\n",
       "        vertical-align: middle;\n",
       "    }\n",
       "\n",
       "    .dataframe tbody tr th {\n",
       "        vertical-align: top;\n",
       "    }\n",
       "\n",
       "    .dataframe thead th {\n",
       "        text-align: right;\n",
       "    }\n",
       "</style>\n",
       "<table border=\"1\" class=\"dataframe\">\n",
       "  <thead>\n",
       "    <tr style=\"text-align: right;\">\n",
       "      <th></th>\n",
       "      <th>user_id</th>\n",
       "      <th>payment_method</th>\n",
       "      <th>partner_id</th>\n",
       "      <th>partner_category</th>\n",
       "      <th>device_type</th>\n",
       "      <th>partner_pricing_category</th>\n",
       "      <th>is_fraud</th>\n",
       "    </tr>\n",
       "  </thead>\n",
       "  <tbody>\n",
       "    <tr>\n",
       "      <th>count</th>\n",
       "      <td>76529</td>\n",
       "      <td>76529</td>\n",
       "      <td>76529</td>\n",
       "      <td>76529</td>\n",
       "      <td>76529</td>\n",
       "      <td>76529</td>\n",
       "      <td>76529</td>\n",
       "    </tr>\n",
       "    <tr>\n",
       "      <th>unique</th>\n",
       "      <td>3594</td>\n",
       "      <td>6</td>\n",
       "      <td>23</td>\n",
       "      <td>9</td>\n",
       "      <td>4</td>\n",
       "      <td>4</td>\n",
       "      <td>2</td>\n",
       "    </tr>\n",
       "    <tr>\n",
       "      <th>top</th>\n",
       "      <td>53919649</td>\n",
       "      <td>sbi_atm_cum_debit_card</td>\n",
       "      <td>47334</td>\n",
       "      <td>cat_1</td>\n",
       "      <td>other_pcs</td>\n",
       "      <td>2</td>\n",
       "      <td>0</td>\n",
       "    </tr>\n",
       "    <tr>\n",
       "      <th>freq</th>\n",
       "      <td>3240</td>\n",
       "      <td>30538</td>\n",
       "      <td>26105</td>\n",
       "      <td>36306</td>\n",
       "      <td>45560</td>\n",
       "      <td>63899</td>\n",
       "      <td>76375</td>\n",
       "    </tr>\n",
       "  </tbody>\n",
       "</table>\n",
       "</div>"
      ],
      "text/plain": [
       "         user_id          payment_method  partner_id partner_category  \\\n",
       "count      76529                   76529       76529            76529   \n",
       "unique      3594                       6          23                9   \n",
       "top     53919649  sbi_atm_cum_debit_card       47334            cat_1   \n",
       "freq        3240                   30538       26105            36306   \n",
       "\n",
       "       device_type  partner_pricing_category  is_fraud  \n",
       "count        76529                     76529     76529  \n",
       "unique           4                         4         2  \n",
       "top      other_pcs                         2         0  \n",
       "freq         45560                     63899     76375  "
      ]
     },
     "execution_count": 26,
     "metadata": {},
     "output_type": "execute_result"
    }
   ],
   "source": [
    "Train_data.describe(include='category')"
   ]
  },
  {
   "cell_type": "code",
   "execution_count": 27,
   "metadata": {},
   "outputs": [],
   "source": [
    "## Custom Function for Bar Plots\n",
    "\n",
    "def barplot(column,df):\n",
    "    bar_plot1 = sns.countplot(x=column, data=df)\n",
    "    \n",
    "    total = len(df[column])\n",
    "    for p in bar_plot1.patches:\n",
    "        percentage = '{:.2f}%'.format(100 * p.get_height()/total)\n",
    "        height = p.get_height()\n",
    "        bar_plot1.text(p.get_x()+ p.get_width()/2, height + 400, percentage, ha=\"center\")"
   ]
  },
  {
   "cell_type": "code",
   "execution_count": 28,
   "metadata": {},
   "outputs": [
    {
     "data": {
      "image/png": "[encoded data removed]",
      "text/plain": [
       "<Figure size 432x288 with 1 Axes>"
      ]
     },
     "metadata": {
      "needs_background": "light"
     },
     "output_type": "display_data"
    }
   ],
   "source": [
    "barplot(\"partner_category\",Train_data)"
   ]
  },
  {
   "cell_type": "markdown",
   "metadata": {},
   "source": [
    "df['Handicapped']=df['Handicapped'].astype('int')\n",
    "df.loc[df.Handicapped > 1, 'Handicapped'] = \n",
    "df['Handicapped']=df['Handicapped'].astype('category')"
   ]
  },
  {
   "cell_type": "code",
   "execution_count": 29,
   "metadata": {},
   "outputs": [
    {
     "data": {
      "image/png": "[encoded data removed]",
      "text/plain": [
       "<Figure size 432x288 with 1 Axes>"
      ]
     },
     "metadata": {
      "needs_background": "light"
     },
     "output_type": "display_data"
    }
   ],
   "source": [
    "barplot(\"device_type\",Train_data)"
   ]
  },
  {
   "cell_type": "code",
   "execution_count": 30,
   "metadata": {
    "scrolled": true
   },
   "outputs": [
    {
     "data": {
      "image/png": "[encoded data removed]",
      "text/plain": [
       "<Figure size 432x288 with 1 Axes>"
      ]
     },
     "metadata": {
      "needs_background": "light"
     },
     "output_type": "display_data"
    }
   ],
   "source": [
    "barplot(\"partner_pricing_category\",Train_data)"
   ]
  },
  {
   "cell_type": "code",
   "execution_count": 31,
   "metadata": {},
   "outputs": [],
   "source": [
    "from scipy.stats import chi2_contingency\n",
    "from scipy.stats import chi2\n",
    "\n",
    "## conda install -c anaconda statsmodels\n",
    "import statsmodels.api as sm"
   ]
  },
  {
   "cell_type": "code",
   "execution_count": 32,
   "metadata": {},
   "outputs": [
    {
     "data": {
      "text/plain": [
       "(24740.852099031847,\n",
       " 0.0,\n",
       " 3593,\n",
       " array([[9.97987691e-01, 9.97987691e-01, 9.97987691e-01, ...,\n",
       "         1.89617661e+01, 9.97987691e-01, 9.97987691e-01],\n",
       "        [2.01230906e-03, 2.01230906e-03, 2.01230906e-03, ...,\n",
       "         3.82338721e-02, 2.01230906e-03, 2.01230906e-03]]))"
      ]
     },
     "execution_count": 32,
     "metadata": {},
     "output_type": "execute_result"
    }
   ],
   "source": [
    "myField1 = Train_data['is_fraud']\n",
    "myField2 = Train_data['user_id']\n",
    "myCrosstable = pd.crosstab(myField1, myField2)\n",
    "chiVal, pVal, df, exp = chi2_contingency(myCrosstable)\n",
    "chiVal, pVal, df, exp"
   ]
  },
  {
   "cell_type": "code",
   "execution_count": 33,
   "metadata": {},
   "outputs": [],
   "source": [
    "#pvalue is lesthan alpha value hence it is dependent"
   ]
  },
  {
   "cell_type": "code",
   "execution_count": 34,
   "metadata": {},
   "outputs": [
    {
     "data": {
      "text/plain": [
       "(732.212520688412,\n",
       " 5.316478181917259e-156,\n",
       " 5,\n",
       " array([[2.73288949e+04, 4.48595467e+03, 3.04765481e+04, 1.49698154e+01,\n",
       "         2.44906179e+03, 1.16195707e+04],\n",
       "        [5.51050713e+01, 9.04532922e+00, 6.14518941e+01, 3.01846359e-02,\n",
       "         4.93820643e+00, 2.34293144e+01]]))"
      ]
     },
     "execution_count": 34,
     "metadata": {},
     "output_type": "execute_result"
    }
   ],
   "source": [
    "myField1 = Train_data['is_fraud']\n",
    "myField2 = Train_data['payment_method']\n",
    "myCrosstable = pd.crosstab(myField1, myField2)\n",
    "chiVal, pVal, df, exp = chi2_contingency(myCrosstable)\n",
    "chiVal, pVal, df, exp"
   ]
  },
  {
   "cell_type": "code",
   "execution_count": 35,
   "metadata": {},
   "outputs": [],
   "source": [
    "#pvalue is lesthan alpha value hence it is dependent"
   ]
  },
  {
   "cell_type": "code",
   "execution_count": 36,
   "metadata": {},
   "outputs": [
    {
     "data": {
      "text/plain": [
       "(1101.5186766778486,\n",
       " 4.635079748110754e-219,\n",
       " 22,\n",
       " array([[2.31233748e+03, 1.88619674e+02, 1.94867077e+04, 1.88819271e+03,\n",
       "         1.89617661e+01, 2.60524687e+04, 7.48490768e+01, 1.58680043e+02,\n",
       "         1.49698154e+01, 1.22483029e+04, 1.11874420e+03, 1.99597538e+00,\n",
       "         2.30535157e+02, 6.38712122e+02, 9.52679050e+03, 9.97987691e+00,\n",
       "         7.65456559e+02, 1.64667969e+02, 1.21355303e+03, 8.88209045e+01,\n",
       "         9.97987691e-01, 1.45706203e+02, 2.49496923e+01],\n",
       "        [4.66252009e+00, 3.80326412e-01, 3.92923467e+01, 3.80728874e+00,\n",
       "         3.82338721e-02, 5.25313280e+01, 1.50923179e-01, 3.19957140e-01,\n",
       "         3.01846359e-02, 2.46970691e+01, 2.25579846e+00, 4.02461812e-03,\n",
       "         4.64843393e-01, 1.28787780e+00, 1.92095023e+01, 2.01230906e-02,\n",
       "         1.54344105e+00, 3.32030995e-01, 2.44696782e+00, 1.79095506e-01,\n",
       "         2.01230906e-03, 2.93797123e-01, 5.03077265e-02]]))"
      ]
     },
     "execution_count": 36,
     "metadata": {},
     "output_type": "execute_result"
    }
   ],
   "source": [
    "myField1 = Train_data['is_fraud']\n",
    "myField2 = Train_data['partner_id']\n",
    "myCrosstable = pd.crosstab(myField1, myField2)\n",
    "chiVal, pVal, df, exp = chi2_contingency(myCrosstable)\n",
    "chiVal, pVal, df, exp"
   ]
  },
  {
   "cell_type": "code",
   "execution_count": 37,
   "metadata": {},
   "outputs": [],
   "source": [
    "#pvalue is lesthan alpha value hence it is dependent"
   ]
  },
  {
   "cell_type": "code",
   "execution_count": 38,
   "metadata": {},
   "outputs": [
    {
     "data": {
      "text/plain": [
       "(204.59857652283367,\n",
       " 6.8587853565513275e-40,\n",
       " 8,\n",
       " array([[3.62329411e+04, 3.59465186e+04, 1.53290909e+03, 1.30736388e+03,\n",
       "         1.02393537e+03, 1.45706203e+02, 1.64667969e+02, 1.89617661e+01,\n",
       "         1.99597538e+00],\n",
       "        [7.30588927e+01, 7.24813600e+01, 3.09090672e+00, 2.63612487e+00,\n",
       "         2.06462909e+00, 2.93797123e-01, 3.32030995e-01, 3.82338721e-02,\n",
       "         4.02461812e-03]]))"
      ]
     },
     "execution_count": 38,
     "metadata": {},
     "output_type": "execute_result"
    }
   ],
   "source": [
    "myField1 = Train_data['is_fraud']\n",
    "myField2 = Train_data['partner_category']\n",
    "myCrosstable = pd.crosstab(myField1, myField2)\n",
    "chiVal, pVal, df, exp = chi2_contingency(myCrosstable)\n",
    "chiVal, pVal, df, exp"
   ]
  },
  {
   "cell_type": "code",
   "execution_count": 39,
   "metadata": {},
   "outputs": [
    {
     "data": {
      "text/plain": [
       "(94.38499137516988,\n",
       " 2.5031183694642124e-20,\n",
       " 3,\n",
       " array([[2.96023109e+04, 8.74237217e+02, 4.54683192e+04, 4.30132695e+02],\n",
       "        [5.96891113e+01, 1.76278274e+00, 9.16808007e+01, 8.67305205e-01]]))"
      ]
     },
     "execution_count": 39,
     "metadata": {},
     "output_type": "execute_result"
    }
   ],
   "source": [
    "myField1 = Train_data['is_fraud']\n",
    "myField2 = Train_data['device_type']\n",
    "myCrosstable = pd.crosstab(myField1, myField2)\n",
    "chiVal, pVal, df, exp = chi2_contingency(myCrosstable)\n",
    "chiVal, pVal, df, exp"
   ]
  },
  {
   "cell_type": "code",
   "execution_count": 40,
   "metadata": {},
   "outputs": [],
   "source": [
    "#pvalue is lesthan alpha value hence it is dependent"
   ]
  },
  {
   "cell_type": "code",
   "execution_count": 41,
   "metadata": {},
   "outputs": [
    {
     "data": {
      "text/plain": [
       "(1351.5803567791647,\n",
       " 9.456633670840907e-293,\n",
       " 3,\n",
       " array([[2.99396307e+02, 1.49398757e+03, 6.37704155e+04, 1.08112007e+04],\n",
       "        [6.03692718e-01, 3.01242666e+00, 1.28584537e+02, 2.17993440e+01]]))"
      ]
     },
     "execution_count": 41,
     "metadata": {},
     "output_type": "execute_result"
    }
   ],
   "source": [
    "myField1 = Train_data['is_fraud']\n",
    "myField2 = Train_data['partner_pricing_category']\n",
    "myCrosstable = pd.crosstab(myField1, myField2)\n",
    "chiVal, pVal, df, exp = chi2_contingency(myCrosstable)\n",
    "chiVal, pVal, df, exp"
   ]
  },
  {
   "cell_type": "markdown",
   "metadata": {},
   "source": [
    "by chi square test of independence we have found that all categorical variables are dependent with respect to variable so we can't drop any attributes"
   ]
  },
  {
   "cell_type": "code",
   "execution_count": 42,
   "metadata": {},
   "outputs": [
    {
     "name": "stdout",
     "output_type": "stream",
     "text": [
      "  partner_id      0  1  TotalCount  ProbOfFraud\n",
      "0       7889   2317  0        2317     0.000000\n",
      "1      15778    189  0         189     0.000000\n",
      "2      23667  19517  9       19526     0.000461\n",
      "3      31556   1892  0        1892     0.000000\n",
      "4      39445     17  2          19     0.105263\n"
     ]
    }
   ],
   "source": [
    "partner_id_Train_data = getProbOfFraud('partner_id', 'is_fraud', Train_data, forGraph=False)\n",
    "partner_id_Train_data.to_csv('partner_id_VS_Fraud.csv', index=False)"
   ]
  },
  {
   "cell_type": "code",
   "execution_count": 43,
   "metadata": {},
   "outputs": [
    {
     "name": "stdout",
     "output_type": "stream",
     "text": [
      "  user_id  0  1  TotalCount  ProbOfFraud\n",
      "0       1  1  0           1          0.0\n",
      "1       4  1  0           1          0.0\n",
      "2       9  1  0           1          0.0\n",
      "3      16  1  0           1          0.0\n",
      "4      25  1  0           1          0.0\n"
     ]
    }
   ],
   "source": [
    "user_id_Train_data = getProbOfFraud('user_id', 'is_fraud', Train_data, forGraph=False)\n",
    "user_id_Train_data.to_csv('user_id_VS_Fraud.csv', index=False)"
   ]
  },
  {
   "cell_type": "code",
   "execution_count": 44,
   "metadata": {},
   "outputs": [],
   "source": [
    "Train_data = Train_data.drop(['user_id', 'partner_id'], axis=1)"
   ]
  },
  {
   "cell_type": "code",
   "execution_count": 45,
   "metadata": {},
   "outputs": [],
   "source": [
    "Test_data = Test_data.drop(['user_id', 'partner_id'], axis=1)"
   ]
  },
  {
   "cell_type": "code",
   "execution_count": 46,
   "metadata": {},
   "outputs": [
    {
     "data": {
      "text/plain": [
       "0    99.798769\n",
       "1     0.201231\n",
       "Name: is_fraud, dtype: float64"
      ]
     },
     "execution_count": 46,
     "metadata": {},
     "output_type": "execute_result"
    }
   ],
   "source": [
    "Train_data['is_fraud'].value_counts(normalize=True)*100"
   ]
  },
  {
   "cell_type": "code",
   "execution_count": 47,
   "metadata": {},
   "outputs": [],
   "source": [
    "Train_data['Tran_DateTime'] = pd.to_datetime(Train_data['transaction_initiation'])\n",
    "Train_data['Tran_date'] = Train_data['Tran_DateTime'].dt.date\n",
    "Train_data['Tran_month']=Train_data['Tran_DateTime'].dt.month\n",
    "Train_data['Tran_hour'] = Train_data['Tran_DateTime'].dt.hour\n",
    "Train_data['Tran_weekday']=Train_data['Tran_DateTime'].dt.weekday"
   ]
  },
  {
   "cell_type": "code",
   "execution_count": 48,
   "metadata": {},
   "outputs": [
    {
     "data": {
      "text/plain": [
       "(76529, 12)"
      ]
     },
     "execution_count": 48,
     "metadata": {},
     "output_type": "execute_result"
    }
   ],
   "source": [
    "Train_data.shape"
   ]
  },
  {
   "cell_type": "code",
   "execution_count": 49,
   "metadata": {},
   "outputs": [
    {
     "data": {
      "text/html": [
       "<div>\n",
       "<style scoped>\n",
       "    .dataframe tbody tr th:only-of-type {\n",
       "        vertical-align: middle;\n",
       "    }\n",
       "\n",
       "    .dataframe tbody tr th {\n",
       "        vertical-align: top;\n",
       "    }\n",
       "\n",
       "    .dataframe thead th {\n",
       "        text-align: right;\n",
       "    }\n",
       "</style>\n",
       "<table border=\"1\" class=\"dataframe\">\n",
       "  <thead>\n",
       "    <tr style=\"text-align: right;\">\n",
       "      <th></th>\n",
       "      <th>payment_method</th>\n",
       "      <th>partner_category</th>\n",
       "      <th>device_type</th>\n",
       "      <th>money_transacted</th>\n",
       "      <th>transaction_initiation</th>\n",
       "      <th>partner_pricing_category</th>\n",
       "      <th>is_fraud</th>\n",
       "      <th>Tran_DateTime</th>\n",
       "      <th>Tran_date</th>\n",
       "      <th>Tran_month</th>\n",
       "      <th>Tran_hour</th>\n",
       "      <th>Tran_weekday</th>\n",
       "    </tr>\n",
       "  </thead>\n",
       "  <tbody>\n",
       "    <tr>\n",
       "      <th>0</th>\n",
       "      <td>sbi_atm_cum_debit_card</td>\n",
       "      <td>cat_1</td>\n",
       "      <td>android_devices</td>\n",
       "      <td>-5.0</td>\n",
       "      <td>2016-11-15 19:16:12+00:00</td>\n",
       "      <td>2</td>\n",
       "      <td>0</td>\n",
       "      <td>2016-11-15 19:16:12+00:00</td>\n",
       "      <td>2016-11-15</td>\n",
       "      <td>11</td>\n",
       "      <td>19</td>\n",
       "      <td>1</td>\n",
       "    </tr>\n",
       "    <tr>\n",
       "      <th>1</th>\n",
       "      <td>e_wallet_payments</td>\n",
       "      <td>cat_2</td>\n",
       "      <td>other_pcs</td>\n",
       "      <td>100.0</td>\n",
       "      <td>2017-01-11 09:25:33+00:00</td>\n",
       "      <td>2</td>\n",
       "      <td>0</td>\n",
       "      <td>2017-01-11 09:25:33+00:00</td>\n",
       "      <td>2017-01-11</td>\n",
       "      <td>1</td>\n",
       "      <td>9</td>\n",
       "      <td>2</td>\n",
       "    </tr>\n",
       "    <tr>\n",
       "      <th>2</th>\n",
       "      <td>e_wallet_payments</td>\n",
       "      <td>cat_2</td>\n",
       "      <td>other_pcs</td>\n",
       "      <td>50.0</td>\n",
       "      <td>2016-12-07 07:58:09+00:00</td>\n",
       "      <td>2</td>\n",
       "      <td>0</td>\n",
       "      <td>2016-12-07 07:58:09+00:00</td>\n",
       "      <td>2016-12-07</td>\n",
       "      <td>12</td>\n",
       "      <td>7</td>\n",
       "      <td>2</td>\n",
       "    </tr>\n",
       "    <tr>\n",
       "      <th>3</th>\n",
       "      <td>other_debit_cards</td>\n",
       "      <td>cat_3</td>\n",
       "      <td>other_pcs</td>\n",
       "      <td>1000.0</td>\n",
       "      <td>2017-01-11 16:15:44+00:00</td>\n",
       "      <td>2</td>\n",
       "      <td>0</td>\n",
       "      <td>2017-01-11 16:15:44+00:00</td>\n",
       "      <td>2017-01-11</td>\n",
       "      <td>1</td>\n",
       "      <td>16</td>\n",
       "      <td>2</td>\n",
       "    </tr>\n",
       "    <tr>\n",
       "      <th>4</th>\n",
       "      <td>other_debit_cards</td>\n",
       "      <td>cat_1</td>\n",
       "      <td>other_pcs</td>\n",
       "      <td>200.0</td>\n",
       "      <td>2016-11-16 17:04:42+00:00</td>\n",
       "      <td>2</td>\n",
       "      <td>0</td>\n",
       "      <td>2016-11-16 17:04:42+00:00</td>\n",
       "      <td>2016-11-16</td>\n",
       "      <td>11</td>\n",
       "      <td>17</td>\n",
       "      <td>2</td>\n",
       "    </tr>\n",
       "  </tbody>\n",
       "</table>\n",
       "</div>"
      ],
      "text/plain": [
       "           payment_method partner_category      device_type  money_transacted  \\\n",
       "0  sbi_atm_cum_debit_card            cat_1  android_devices              -5.0   \n",
       "1       e_wallet_payments            cat_2        other_pcs             100.0   \n",
       "2       e_wallet_payments            cat_2        other_pcs              50.0   \n",
       "3       other_debit_cards            cat_3        other_pcs            1000.0   \n",
       "4       other_debit_cards            cat_1        other_pcs             200.0   \n",
       "\n",
       "      transaction_initiation partner_pricing_category is_fraud  \\\n",
       "0  2016-11-15 19:16:12+00:00                        2        0   \n",
       "1  2017-01-11 09:25:33+00:00                        2        0   \n",
       "2  2016-12-07 07:58:09+00:00                        2        0   \n",
       "3  2017-01-11 16:15:44+00:00                        2        0   \n",
       "4  2016-11-16 17:04:42+00:00                        2        0   \n",
       "\n",
       "              Tran_DateTime   Tran_date  Tran_month  Tran_hour  Tran_weekday  \n",
       "0 2016-11-15 19:16:12+00:00  2016-11-15          11         19             1  \n",
       "1 2017-01-11 09:25:33+00:00  2017-01-11           1          9             2  \n",
       "2 2016-12-07 07:58:09+00:00  2016-12-07          12          7             2  \n",
       "3 2017-01-11 16:15:44+00:00  2017-01-11           1         16             2  \n",
       "4 2016-11-16 17:04:42+00:00  2016-11-16          11         17             2  "
      ]
     },
     "execution_count": 49,
     "metadata": {},
     "output_type": "execute_result"
    }
   ],
   "source": [
    "Train_data.head()"
   ]
  },
  {
   "cell_type": "code",
   "execution_count": 50,
   "metadata": {},
   "outputs": [
    {
     "name": "stderr",
     "output_type": "stream",
     "text": [
      "/usr/share/anaconda3/lib/python3.7/site-packages/ipykernel_launcher.py:1: FutureWarning: Treating datetime data as categorical rather than numeric in `.describe` is deprecated and will be removed in a future version of pandas. Specify `datetime_is_numeric=True` to silence this warning and adopt the future behavior now.\n",
      "  \"\"\"Entry point for launching an IPython kernel.\n"
     ]
    },
    {
     "data": {
      "text/html": [
       "<div>\n",
       "<style scoped>\n",
       "    .dataframe tbody tr th:only-of-type {\n",
       "        vertical-align: middle;\n",
       "    }\n",
       "\n",
       "    .dataframe tbody tr th {\n",
       "        vertical-align: top;\n",
       "    }\n",
       "\n",
       "    .dataframe thead th {\n",
       "        text-align: right;\n",
       "    }\n",
       "</style>\n",
       "<table border=\"1\" class=\"dataframe\">\n",
       "  <thead>\n",
       "    <tr style=\"text-align: right;\">\n",
       "      <th></th>\n",
       "      <th>payment_method</th>\n",
       "      <th>partner_category</th>\n",
       "      <th>device_type</th>\n",
       "      <th>money_transacted</th>\n",
       "      <th>transaction_initiation</th>\n",
       "      <th>partner_pricing_category</th>\n",
       "      <th>is_fraud</th>\n",
       "      <th>Tran_DateTime</th>\n",
       "      <th>Tran_date</th>\n",
       "      <th>Tran_month</th>\n",
       "      <th>Tran_hour</th>\n",
       "      <th>Tran_weekday</th>\n",
       "    </tr>\n",
       "  </thead>\n",
       "  <tbody>\n",
       "    <tr>\n",
       "      <th>count</th>\n",
       "      <td>76529</td>\n",
       "      <td>76529</td>\n",
       "      <td>76529</td>\n",
       "      <td>76529.000000</td>\n",
       "      <td>76529</td>\n",
       "      <td>76529.0</td>\n",
       "      <td>76529.0</td>\n",
       "      <td>76529</td>\n",
       "      <td>76529</td>\n",
       "      <td>76529.000000</td>\n",
       "      <td>76529.000000</td>\n",
       "      <td>76529.000000</td>\n",
       "    </tr>\n",
       "    <tr>\n",
       "      <th>unique</th>\n",
       "      <td>6</td>\n",
       "      <td>9</td>\n",
       "      <td>4</td>\n",
       "      <td>NaN</td>\n",
       "      <td>75811</td>\n",
       "      <td>4.0</td>\n",
       "      <td>2.0</td>\n",
       "      <td>75811</td>\n",
       "      <td>91</td>\n",
       "      <td>NaN</td>\n",
       "      <td>NaN</td>\n",
       "      <td>NaN</td>\n",
       "    </tr>\n",
       "    <tr>\n",
       "      <th>top</th>\n",
       "      <td>sbi_atm_cum_debit_card</td>\n",
       "      <td>cat_1</td>\n",
       "      <td>other_pcs</td>\n",
       "      <td>NaN</td>\n",
       "      <td>2016-12-24 16:30:13+00:00</td>\n",
       "      <td>2.0</td>\n",
       "      <td>0.0</td>\n",
       "      <td>2016-12-24 16:30:13+00:00</td>\n",
       "      <td>2017-02-01</td>\n",
       "      <td>NaN</td>\n",
       "      <td>NaN</td>\n",
       "      <td>NaN</td>\n",
       "    </tr>\n",
       "    <tr>\n",
       "      <th>freq</th>\n",
       "      <td>30538</td>\n",
       "      <td>36306</td>\n",
       "      <td>45560</td>\n",
       "      <td>NaN</td>\n",
       "      <td>12</td>\n",
       "      <td>63899.0</td>\n",
       "      <td>76375.0</td>\n",
       "      <td>12</td>\n",
       "      <td>2386</td>\n",
       "      <td>NaN</td>\n",
       "      <td>NaN</td>\n",
       "      <td>NaN</td>\n",
       "    </tr>\n",
       "    <tr>\n",
       "      <th>first</th>\n",
       "      <td>NaN</td>\n",
       "      <td>NaN</td>\n",
       "      <td>NaN</td>\n",
       "      <td>NaN</td>\n",
       "      <td>NaN</td>\n",
       "      <td>NaN</td>\n",
       "      <td>NaN</td>\n",
       "      <td>2016-11-15 02:18:49+00:00</td>\n",
       "      <td>NaN</td>\n",
       "      <td>NaN</td>\n",
       "      <td>NaN</td>\n",
       "      <td>NaN</td>\n",
       "    </tr>\n",
       "    <tr>\n",
       "      <th>last</th>\n",
       "      <td>NaN</td>\n",
       "      <td>NaN</td>\n",
       "      <td>NaN</td>\n",
       "      <td>NaN</td>\n",
       "      <td>NaN</td>\n",
       "      <td>NaN</td>\n",
       "      <td>NaN</td>\n",
       "      <td>2017-02-13 10:01:28+00:00</td>\n",
       "      <td>NaN</td>\n",
       "      <td>NaN</td>\n",
       "      <td>NaN</td>\n",
       "      <td>NaN</td>\n",
       "    </tr>\n",
       "    <tr>\n",
       "      <th>mean</th>\n",
       "      <td>NaN</td>\n",
       "      <td>NaN</td>\n",
       "      <td>NaN</td>\n",
       "      <td>132.724348</td>\n",
       "      <td>NaN</td>\n",
       "      <td>NaN</td>\n",
       "      <td>NaN</td>\n",
       "      <td>NaN</td>\n",
       "      <td>NaN</td>\n",
       "      <td>6.576958</td>\n",
       "      <td>12.452260</td>\n",
       "      <td>2.976911</td>\n",
       "    </tr>\n",
       "    <tr>\n",
       "      <th>std</th>\n",
       "      <td>NaN</td>\n",
       "      <td>NaN</td>\n",
       "      <td>NaN</td>\n",
       "      <td>2350.110900</td>\n",
       "      <td>NaN</td>\n",
       "      <td>NaN</td>\n",
       "      <td>NaN</td>\n",
       "      <td>NaN</td>\n",
       "      <td>NaN</td>\n",
       "      <td>5.223658</td>\n",
       "      <td>4.850698</td>\n",
       "      <td>1.929435</td>\n",
       "    </tr>\n",
       "    <tr>\n",
       "      <th>min</th>\n",
       "      <td>NaN</td>\n",
       "      <td>NaN</td>\n",
       "      <td>NaN</td>\n",
       "      <td>-20000.000000</td>\n",
       "      <td>NaN</td>\n",
       "      <td>NaN</td>\n",
       "      <td>NaN</td>\n",
       "      <td>NaN</td>\n",
       "      <td>NaN</td>\n",
       "      <td>1.000000</td>\n",
       "      <td>0.000000</td>\n",
       "      <td>0.000000</td>\n",
       "    </tr>\n",
       "    <tr>\n",
       "      <th>25%</th>\n",
       "      <td>NaN</td>\n",
       "      <td>NaN</td>\n",
       "      <td>NaN</td>\n",
       "      <td>-1.000000</td>\n",
       "      <td>NaN</td>\n",
       "      <td>NaN</td>\n",
       "      <td>NaN</td>\n",
       "      <td>NaN</td>\n",
       "      <td>NaN</td>\n",
       "      <td>1.000000</td>\n",
       "      <td>8.000000</td>\n",
       "      <td>2.000000</td>\n",
       "    </tr>\n",
       "    <tr>\n",
       "      <th>50%</th>\n",
       "      <td>NaN</td>\n",
       "      <td>NaN</td>\n",
       "      <td>NaN</td>\n",
       "      <td>20.000000</td>\n",
       "      <td>NaN</td>\n",
       "      <td>NaN</td>\n",
       "      <td>NaN</td>\n",
       "      <td>NaN</td>\n",
       "      <td>NaN</td>\n",
       "      <td>11.000000</td>\n",
       "      <td>13.000000</td>\n",
       "      <td>2.000000</td>\n",
       "    </tr>\n",
       "    <tr>\n",
       "      <th>75%</th>\n",
       "      <td>NaN</td>\n",
       "      <td>NaN</td>\n",
       "      <td>NaN</td>\n",
       "      <td>52.000000</td>\n",
       "      <td>NaN</td>\n",
       "      <td>NaN</td>\n",
       "      <td>NaN</td>\n",
       "      <td>NaN</td>\n",
       "      <td>NaN</td>\n",
       "      <td>12.000000</td>\n",
       "      <td>17.000000</td>\n",
       "      <td>5.000000</td>\n",
       "    </tr>\n",
       "    <tr>\n",
       "      <th>max</th>\n",
       "      <td>NaN</td>\n",
       "      <td>NaN</td>\n",
       "      <td>NaN</td>\n",
       "      <td>197217.760000</td>\n",
       "      <td>NaN</td>\n",
       "      <td>NaN</td>\n",
       "      <td>NaN</td>\n",
       "      <td>NaN</td>\n",
       "      <td>NaN</td>\n",
       "      <td>12.000000</td>\n",
       "      <td>23.000000</td>\n",
       "      <td>6.000000</td>\n",
       "    </tr>\n",
       "  </tbody>\n",
       "</table>\n",
       "</div>"
      ],
      "text/plain": [
       "                payment_method partner_category device_type  money_transacted  \\\n",
       "count                    76529            76529       76529      76529.000000   \n",
       "unique                       6                9           4               NaN   \n",
       "top     sbi_atm_cum_debit_card            cat_1   other_pcs               NaN   \n",
       "freq                     30538            36306       45560               NaN   \n",
       "first                      NaN              NaN         NaN               NaN   \n",
       "last                       NaN              NaN         NaN               NaN   \n",
       "mean                       NaN              NaN         NaN        132.724348   \n",
       "std                        NaN              NaN         NaN       2350.110900   \n",
       "min                        NaN              NaN         NaN     -20000.000000   \n",
       "25%                        NaN              NaN         NaN         -1.000000   \n",
       "50%                        NaN              NaN         NaN         20.000000   \n",
       "75%                        NaN              NaN         NaN         52.000000   \n",
       "max                        NaN              NaN         NaN     197217.760000   \n",
       "\n",
       "           transaction_initiation  partner_pricing_category  is_fraud  \\\n",
       "count                       76529                   76529.0   76529.0   \n",
       "unique                      75811                       4.0       2.0   \n",
       "top     2016-12-24 16:30:13+00:00                       2.0       0.0   \n",
       "freq                           12                   63899.0   76375.0   \n",
       "first                         NaN                       NaN       NaN   \n",
       "last                          NaN                       NaN       NaN   \n",
       "mean                          NaN                       NaN       NaN   \n",
       "std                           NaN                       NaN       NaN   \n",
       "min                           NaN                       NaN       NaN   \n",
       "25%                           NaN                       NaN       NaN   \n",
       "50%                           NaN                       NaN       NaN   \n",
       "75%                           NaN                       NaN       NaN   \n",
       "max                           NaN                       NaN       NaN   \n",
       "\n",
       "                    Tran_DateTime   Tran_date    Tran_month     Tran_hour  \\\n",
       "count                       76529       76529  76529.000000  76529.000000   \n",
       "unique                      75811          91           NaN           NaN   \n",
       "top     2016-12-24 16:30:13+00:00  2017-02-01           NaN           NaN   \n",
       "freq                           12        2386           NaN           NaN   \n",
       "first   2016-11-15 02:18:49+00:00         NaN           NaN           NaN   \n",
       "last    2017-02-13 10:01:28+00:00         NaN           NaN           NaN   \n",
       "mean                          NaN         NaN      6.576958     12.452260   \n",
       "std                           NaN         NaN      5.223658      4.850698   \n",
       "min                           NaN         NaN      1.000000      0.000000   \n",
       "25%                           NaN         NaN      1.000000      8.000000   \n",
       "50%                           NaN         NaN     11.000000     13.000000   \n",
       "75%                           NaN         NaN     12.000000     17.000000   \n",
       "max                           NaN         NaN     12.000000     23.000000   \n",
       "\n",
       "        Tran_weekday  \n",
       "count   76529.000000  \n",
       "unique           NaN  \n",
       "top              NaN  \n",
       "freq             NaN  \n",
       "first            NaN  \n",
       "last             NaN  \n",
       "mean        2.976911  \n",
       "std         1.929435  \n",
       "min         0.000000  \n",
       "25%         2.000000  \n",
       "50%         2.000000  \n",
       "75%         5.000000  \n",
       "max         6.000000  "
      ]
     },
     "execution_count": 50,
     "metadata": {},
     "output_type": "execute_result"
    }
   ],
   "source": [
    "Train_data.describe(include='all')"
   ]
  },
  {
   "cell_type": "code",
   "execution_count": 51,
   "metadata": {},
   "outputs": [],
   "source": [
    "Test_data['Tran_DateTime'] = pd.to_datetime(Test_data['transaction_initiation'])\n",
    "Test_data['Tran_date'] = Test_data['Tran_DateTime'].dt.date\n",
    "Test_data['Tran_month']=Test_data['Tran_DateTime'].dt.month\n",
    "Test_data['Tran_hour'] = Test_data['Tran_DateTime'].dt.hour\n",
    "Test_data['Tran_weekday']=Test_data['Tran_DateTime'].dt.weekday"
   ]
  },
  {
   "cell_type": "code",
   "execution_count": 52,
   "metadata": {
    "scrolled": true
   },
   "outputs": [
    {
     "data": {
      "text/html": [
       "<div>\n",
       "<style scoped>\n",
       "    .dataframe tbody tr th:only-of-type {\n",
       "        vertical-align: middle;\n",
       "    }\n",
       "\n",
       "    .dataframe tbody tr th {\n",
       "        vertical-align: top;\n",
       "    }\n",
       "\n",
       "    .dataframe thead th {\n",
       "        text-align: right;\n",
       "    }\n",
       "</style>\n",
       "<table border=\"1\" class=\"dataframe\">\n",
       "  <thead>\n",
       "    <tr style=\"text-align: right;\">\n",
       "      <th></th>\n",
       "      <th>payment_method</th>\n",
       "      <th>partner_category</th>\n",
       "      <th>device_type</th>\n",
       "      <th>money_transacted</th>\n",
       "      <th>transaction_initiation</th>\n",
       "      <th>partner_pricing_category</th>\n",
       "      <th>Tran_DateTime</th>\n",
       "      <th>Tran_date</th>\n",
       "      <th>Tran_month</th>\n",
       "      <th>Tran_hour</th>\n",
       "      <th>Tran_weekday</th>\n",
       "    </tr>\n",
       "  </thead>\n",
       "  <tbody>\n",
       "    <tr>\n",
       "      <th>0</th>\n",
       "      <td>visa_master_debit_cards</td>\n",
       "      <td>cat_1</td>\n",
       "      <td>other_pcs</td>\n",
       "      <td>200.0</td>\n",
       "      <td>2016-12-28 14:44:37+00:00</td>\n",
       "      <td>2</td>\n",
       "      <td>2016-12-28 14:44:37+00:00</td>\n",
       "      <td>2016-12-28</td>\n",
       "      <td>12</td>\n",
       "      <td>14</td>\n",
       "      <td>2</td>\n",
       "    </tr>\n",
       "    <tr>\n",
       "      <th>1</th>\n",
       "      <td>e_wallet_payments</td>\n",
       "      <td>cat_2</td>\n",
       "      <td>other_pcs</td>\n",
       "      <td>20.0</td>\n",
       "      <td>2016-12-14 17:49:48+00:00</td>\n",
       "      <td>2</td>\n",
       "      <td>2016-12-14 17:49:48+00:00</td>\n",
       "      <td>2016-12-14</td>\n",
       "      <td>12</td>\n",
       "      <td>17</td>\n",
       "      <td>2</td>\n",
       "    </tr>\n",
       "    <tr>\n",
       "      <th>2</th>\n",
       "      <td>sbi_atm_cum_debit_card</td>\n",
       "      <td>cat_1</td>\n",
       "      <td>android_devices</td>\n",
       "      <td>-100.0</td>\n",
       "      <td>2017-01-21 10:18:11+00:00</td>\n",
       "      <td>2</td>\n",
       "      <td>2017-01-21 10:18:11+00:00</td>\n",
       "      <td>2017-01-21</td>\n",
       "      <td>1</td>\n",
       "      <td>10</td>\n",
       "      <td>5</td>\n",
       "    </tr>\n",
       "    <tr>\n",
       "      <th>3</th>\n",
       "      <td>visa_master_credit_cards</td>\n",
       "      <td>cat_2</td>\n",
       "      <td>other_pcs</td>\n",
       "      <td>200.0</td>\n",
       "      <td>2017-01-16 13:25:10+00:00</td>\n",
       "      <td>1</td>\n",
       "      <td>2017-01-16 13:25:10+00:00</td>\n",
       "      <td>2017-01-16</td>\n",
       "      <td>1</td>\n",
       "      <td>13</td>\n",
       "      <td>0</td>\n",
       "    </tr>\n",
       "    <tr>\n",
       "      <th>4</th>\n",
       "      <td>e_wallet_payments</td>\n",
       "      <td>cat_2</td>\n",
       "      <td>other_pcs</td>\n",
       "      <td>100.0</td>\n",
       "      <td>2017-02-09 12:47:28+00:00</td>\n",
       "      <td>2</td>\n",
       "      <td>2017-02-09 12:47:28+00:00</td>\n",
       "      <td>2017-02-09</td>\n",
       "      <td>2</td>\n",
       "      <td>12</td>\n",
       "      <td>3</td>\n",
       "    </tr>\n",
       "  </tbody>\n",
       "</table>\n",
       "</div>"
      ],
      "text/plain": [
       "             payment_method partner_category      device_type  \\\n",
       "0   visa_master_debit_cards            cat_1        other_pcs   \n",
       "1         e_wallet_payments            cat_2        other_pcs   \n",
       "2    sbi_atm_cum_debit_card            cat_1  android_devices   \n",
       "3  visa_master_credit_cards            cat_2        other_pcs   \n",
       "4         e_wallet_payments            cat_2        other_pcs   \n",
       "\n",
       "   money_transacted     transaction_initiation partner_pricing_category  \\\n",
       "0             200.0  2016-12-28 14:44:37+00:00                        2   \n",
       "1              20.0  2016-12-14 17:49:48+00:00                        2   \n",
       "2            -100.0  2017-01-21 10:18:11+00:00                        2   \n",
       "3             200.0  2017-01-16 13:25:10+00:00                        1   \n",
       "4             100.0  2017-02-09 12:47:28+00:00                        2   \n",
       "\n",
       "              Tran_DateTime   Tran_date  Tran_month  Tran_hour  Tran_weekday  \n",
       "0 2016-12-28 14:44:37+00:00  2016-12-28          12         14             2  \n",
       "1 2016-12-14 17:49:48+00:00  2016-12-14          12         17             2  \n",
       "2 2017-01-21 10:18:11+00:00  2017-01-21           1         10             5  \n",
       "3 2017-01-16 13:25:10+00:00  2017-01-16           1         13             0  \n",
       "4 2017-02-09 12:47:28+00:00  2017-02-09           2         12             3  "
      ]
     },
     "execution_count": 52,
     "metadata": {},
     "output_type": "execute_result"
    }
   ],
   "source": [
    "Test_data.head()"
   ]
  },
  {
   "cell_type": "code",
   "execution_count": 53,
   "metadata": {},
   "outputs": [
    {
     "data": {
      "text/plain": [
       "(76529, 12)"
      ]
     },
     "execution_count": 53,
     "metadata": {},
     "output_type": "execute_result"
    }
   ],
   "source": [
    "Train_data.shape"
   ]
  },
  {
   "cell_type": "code",
   "execution_count": 54,
   "metadata": {},
   "outputs": [
    {
     "name": "stderr",
     "output_type": "stream",
     "text": [
      "/usr/share/anaconda3/lib/python3.7/site-packages/ipykernel_launcher.py:1: FutureWarning: Treating datetime data as categorical rather than numeric in `.describe` is deprecated and will be removed in a future version of pandas. Specify `datetime_is_numeric=True` to silence this warning and adopt the future behavior now.\n",
      "  \"\"\"Entry point for launching an IPython kernel.\n"
     ]
    },
    {
     "data": {
      "text/html": [
       "<div>\n",
       "<style scoped>\n",
       "    .dataframe tbody tr th:only-of-type {\n",
       "        vertical-align: middle;\n",
       "    }\n",
       "\n",
       "    .dataframe tbody tr th {\n",
       "        vertical-align: top;\n",
       "    }\n",
       "\n",
       "    .dataframe thead th {\n",
       "        text-align: right;\n",
       "    }\n",
       "</style>\n",
       "<table border=\"1\" class=\"dataframe\">\n",
       "  <thead>\n",
       "    <tr style=\"text-align: right;\">\n",
       "      <th></th>\n",
       "      <th>payment_method</th>\n",
       "      <th>partner_category</th>\n",
       "      <th>device_type</th>\n",
       "      <th>money_transacted</th>\n",
       "      <th>transaction_initiation</th>\n",
       "      <th>partner_pricing_category</th>\n",
       "      <th>is_fraud</th>\n",
       "      <th>Tran_DateTime</th>\n",
       "      <th>Tran_date</th>\n",
       "      <th>Tran_month</th>\n",
       "      <th>Tran_hour</th>\n",
       "      <th>Tran_weekday</th>\n",
       "    </tr>\n",
       "  </thead>\n",
       "  <tbody>\n",
       "    <tr>\n",
       "      <th>count</th>\n",
       "      <td>76529</td>\n",
       "      <td>76529</td>\n",
       "      <td>76529</td>\n",
       "      <td>76529.000000</td>\n",
       "      <td>76529</td>\n",
       "      <td>76529.0</td>\n",
       "      <td>76529.0</td>\n",
       "      <td>76529</td>\n",
       "      <td>76529</td>\n",
       "      <td>76529.000000</td>\n",
       "      <td>76529.000000</td>\n",
       "      <td>76529.000000</td>\n",
       "    </tr>\n",
       "    <tr>\n",
       "      <th>unique</th>\n",
       "      <td>6</td>\n",
       "      <td>9</td>\n",
       "      <td>4</td>\n",
       "      <td>NaN</td>\n",
       "      <td>75811</td>\n",
       "      <td>4.0</td>\n",
       "      <td>2.0</td>\n",
       "      <td>75811</td>\n",
       "      <td>91</td>\n",
       "      <td>NaN</td>\n",
       "      <td>NaN</td>\n",
       "      <td>NaN</td>\n",
       "    </tr>\n",
       "    <tr>\n",
       "      <th>top</th>\n",
       "      <td>sbi_atm_cum_debit_card</td>\n",
       "      <td>cat_1</td>\n",
       "      <td>other_pcs</td>\n",
       "      <td>NaN</td>\n",
       "      <td>2016-12-24 16:30:13+00:00</td>\n",
       "      <td>2.0</td>\n",
       "      <td>0.0</td>\n",
       "      <td>2016-12-24 16:30:13+00:00</td>\n",
       "      <td>2017-02-01</td>\n",
       "      <td>NaN</td>\n",
       "      <td>NaN</td>\n",
       "      <td>NaN</td>\n",
       "    </tr>\n",
       "    <tr>\n",
       "      <th>freq</th>\n",
       "      <td>30538</td>\n",
       "      <td>36306</td>\n",
       "      <td>45560</td>\n",
       "      <td>NaN</td>\n",
       "      <td>12</td>\n",
       "      <td>63899.0</td>\n",
       "      <td>76375.0</td>\n",
       "      <td>12</td>\n",
       "      <td>2386</td>\n",
       "      <td>NaN</td>\n",
       "      <td>NaN</td>\n",
       "      <td>NaN</td>\n",
       "    </tr>\n",
       "    <tr>\n",
       "      <th>first</th>\n",
       "      <td>NaN</td>\n",
       "      <td>NaN</td>\n",
       "      <td>NaN</td>\n",
       "      <td>NaN</td>\n",
       "      <td>NaN</td>\n",
       "      <td>NaN</td>\n",
       "      <td>NaN</td>\n",
       "      <td>2016-11-15 02:18:49+00:00</td>\n",
       "      <td>NaN</td>\n",
       "      <td>NaN</td>\n",
       "      <td>NaN</td>\n",
       "      <td>NaN</td>\n",
       "    </tr>\n",
       "    <tr>\n",
       "      <th>last</th>\n",
       "      <td>NaN</td>\n",
       "      <td>NaN</td>\n",
       "      <td>NaN</td>\n",
       "      <td>NaN</td>\n",
       "      <td>NaN</td>\n",
       "      <td>NaN</td>\n",
       "      <td>NaN</td>\n",
       "      <td>2017-02-13 10:01:28+00:00</td>\n",
       "      <td>NaN</td>\n",
       "      <td>NaN</td>\n",
       "      <td>NaN</td>\n",
       "      <td>NaN</td>\n",
       "    </tr>\n",
       "    <tr>\n",
       "      <th>mean</th>\n",
       "      <td>NaN</td>\n",
       "      <td>NaN</td>\n",
       "      <td>NaN</td>\n",
       "      <td>132.724348</td>\n",
       "      <td>NaN</td>\n",
       "      <td>NaN</td>\n",
       "      <td>NaN</td>\n",
       "      <td>NaN</td>\n",
       "      <td>NaN</td>\n",
       "      <td>6.576958</td>\n",
       "      <td>12.452260</td>\n",
       "      <td>2.976911</td>\n",
       "    </tr>\n",
       "    <tr>\n",
       "      <th>std</th>\n",
       "      <td>NaN</td>\n",
       "      <td>NaN</td>\n",
       "      <td>NaN</td>\n",
       "      <td>2350.110900</td>\n",
       "      <td>NaN</td>\n",
       "      <td>NaN</td>\n",
       "      <td>NaN</td>\n",
       "      <td>NaN</td>\n",
       "      <td>NaN</td>\n",
       "      <td>5.223658</td>\n",
       "      <td>4.850698</td>\n",
       "      <td>1.929435</td>\n",
       "    </tr>\n",
       "    <tr>\n",
       "      <th>min</th>\n",
       "      <td>NaN</td>\n",
       "      <td>NaN</td>\n",
       "      <td>NaN</td>\n",
       "      <td>-20000.000000</td>\n",
       "      <td>NaN</td>\n",
       "      <td>NaN</td>\n",
       "      <td>NaN</td>\n",
       "      <td>NaN</td>\n",
       "      <td>NaN</td>\n",
       "      <td>1.000000</td>\n",
       "      <td>0.000000</td>\n",
       "      <td>0.000000</td>\n",
       "    </tr>\n",
       "    <tr>\n",
       "      <th>25%</th>\n",
       "      <td>NaN</td>\n",
       "      <td>NaN</td>\n",
       "      <td>NaN</td>\n",
       "      <td>-1.000000</td>\n",
       "      <td>NaN</td>\n",
       "      <td>NaN</td>\n",
       "      <td>NaN</td>\n",
       "      <td>NaN</td>\n",
       "      <td>NaN</td>\n",
       "      <td>1.000000</td>\n",
       "      <td>8.000000</td>\n",
       "      <td>2.000000</td>\n",
       "    </tr>\n",
       "    <tr>\n",
       "      <th>50%</th>\n",
       "      <td>NaN</td>\n",
       "      <td>NaN</td>\n",
       "      <td>NaN</td>\n",
       "      <td>20.000000</td>\n",
       "      <td>NaN</td>\n",
       "      <td>NaN</td>\n",
       "      <td>NaN</td>\n",
       "      <td>NaN</td>\n",
       "      <td>NaN</td>\n",
       "      <td>11.000000</td>\n",
       "      <td>13.000000</td>\n",
       "      <td>2.000000</td>\n",
       "    </tr>\n",
       "    <tr>\n",
       "      <th>75%</th>\n",
       "      <td>NaN</td>\n",
       "      <td>NaN</td>\n",
       "      <td>NaN</td>\n",
       "      <td>52.000000</td>\n",
       "      <td>NaN</td>\n",
       "      <td>NaN</td>\n",
       "      <td>NaN</td>\n",
       "      <td>NaN</td>\n",
       "      <td>NaN</td>\n",
       "      <td>12.000000</td>\n",
       "      <td>17.000000</td>\n",
       "      <td>5.000000</td>\n",
       "    </tr>\n",
       "    <tr>\n",
       "      <th>max</th>\n",
       "      <td>NaN</td>\n",
       "      <td>NaN</td>\n",
       "      <td>NaN</td>\n",
       "      <td>197217.760000</td>\n",
       "      <td>NaN</td>\n",
       "      <td>NaN</td>\n",
       "      <td>NaN</td>\n",
       "      <td>NaN</td>\n",
       "      <td>NaN</td>\n",
       "      <td>12.000000</td>\n",
       "      <td>23.000000</td>\n",
       "      <td>6.000000</td>\n",
       "    </tr>\n",
       "  </tbody>\n",
       "</table>\n",
       "</div>"
      ],
      "text/plain": [
       "                payment_method partner_category device_type  money_transacted  \\\n",
       "count                    76529            76529       76529      76529.000000   \n",
       "unique                       6                9           4               NaN   \n",
       "top     sbi_atm_cum_debit_card            cat_1   other_pcs               NaN   \n",
       "freq                     30538            36306       45560               NaN   \n",
       "first                      NaN              NaN         NaN               NaN   \n",
       "last                       NaN              NaN         NaN               NaN   \n",
       "mean                       NaN              NaN         NaN        132.724348   \n",
       "std                        NaN              NaN         NaN       2350.110900   \n",
       "min                        NaN              NaN         NaN     -20000.000000   \n",
       "25%                        NaN              NaN         NaN         -1.000000   \n",
       "50%                        NaN              NaN         NaN         20.000000   \n",
       "75%                        NaN              NaN         NaN         52.000000   \n",
       "max                        NaN              NaN         NaN     197217.760000   \n",
       "\n",
       "           transaction_initiation  partner_pricing_category  is_fraud  \\\n",
       "count                       76529                   76529.0   76529.0   \n",
       "unique                      75811                       4.0       2.0   \n",
       "top     2016-12-24 16:30:13+00:00                       2.0       0.0   \n",
       "freq                           12                   63899.0   76375.0   \n",
       "first                         NaN                       NaN       NaN   \n",
       "last                          NaN                       NaN       NaN   \n",
       "mean                          NaN                       NaN       NaN   \n",
       "std                           NaN                       NaN       NaN   \n",
       "min                           NaN                       NaN       NaN   \n",
       "25%                           NaN                       NaN       NaN   \n",
       "50%                           NaN                       NaN       NaN   \n",
       "75%                           NaN                       NaN       NaN   \n",
       "max                           NaN                       NaN       NaN   \n",
       "\n",
       "                    Tran_DateTime   Tran_date    Tran_month     Tran_hour  \\\n",
       "count                       76529       76529  76529.000000  76529.000000   \n",
       "unique                      75811          91           NaN           NaN   \n",
       "top     2016-12-24 16:30:13+00:00  2017-02-01           NaN           NaN   \n",
       "freq                           12        2386           NaN           NaN   \n",
       "first   2016-11-15 02:18:49+00:00         NaN           NaN           NaN   \n",
       "last    2017-02-13 10:01:28+00:00         NaN           NaN           NaN   \n",
       "mean                          NaN         NaN      6.576958     12.452260   \n",
       "std                           NaN         NaN      5.223658      4.850698   \n",
       "min                           NaN         NaN      1.000000      0.000000   \n",
       "25%                           NaN         NaN      1.000000      8.000000   \n",
       "50%                           NaN         NaN     11.000000     13.000000   \n",
       "75%                           NaN         NaN     12.000000     17.000000   \n",
       "max                           NaN         NaN     12.000000     23.000000   \n",
       "\n",
       "        Tran_weekday  \n",
       "count   76529.000000  \n",
       "unique           NaN  \n",
       "top              NaN  \n",
       "freq             NaN  \n",
       "first            NaN  \n",
       "last             NaN  \n",
       "mean        2.976911  \n",
       "std         1.929435  \n",
       "min         0.000000  \n",
       "25%         2.000000  \n",
       "50%         2.000000  \n",
       "75%         5.000000  \n",
       "max         6.000000  "
      ]
     },
     "execution_count": 54,
     "metadata": {},
     "output_type": "execute_result"
    }
   ],
   "source": [
    "Train_data.describe(include='all')"
   ]
  },
  {
   "cell_type": "code",
   "execution_count": 55,
   "metadata": {},
   "outputs": [
    {
     "data": {
      "text/plain": [
       "(19133, 11)"
      ]
     },
     "execution_count": 55,
     "metadata": {},
     "output_type": "execute_result"
    }
   ],
   "source": [
    "Test_data.shape"
   ]
  },
  {
   "cell_type": "code",
   "execution_count": 56,
   "metadata": {},
   "outputs": [
    {
     "name": "stderr",
     "output_type": "stream",
     "text": [
      "/usr/share/anaconda3/lib/python3.7/site-packages/ipykernel_launcher.py:1: FutureWarning: Treating datetime data as categorical rather than numeric in `.describe` is deprecated and will be removed in a future version of pandas. Specify `datetime_is_numeric=True` to silence this warning and adopt the future behavior now.\n",
      "  \"\"\"Entry point for launching an IPython kernel.\n"
     ]
    },
    {
     "data": {
      "text/html": [
       "<div>\n",
       "<style scoped>\n",
       "    .dataframe tbody tr th:only-of-type {\n",
       "        vertical-align: middle;\n",
       "    }\n",
       "\n",
       "    .dataframe tbody tr th {\n",
       "        vertical-align: top;\n",
       "    }\n",
       "\n",
       "    .dataframe thead th {\n",
       "        text-align: right;\n",
       "    }\n",
       "</style>\n",
       "<table border=\"1\" class=\"dataframe\">\n",
       "  <thead>\n",
       "    <tr style=\"text-align: right;\">\n",
       "      <th></th>\n",
       "      <th>payment_method</th>\n",
       "      <th>partner_category</th>\n",
       "      <th>device_type</th>\n",
       "      <th>money_transacted</th>\n",
       "      <th>transaction_initiation</th>\n",
       "      <th>partner_pricing_category</th>\n",
       "      <th>Tran_DateTime</th>\n",
       "      <th>Tran_date</th>\n",
       "      <th>Tran_month</th>\n",
       "      <th>Tran_hour</th>\n",
       "      <th>Tran_weekday</th>\n",
       "    </tr>\n",
       "  </thead>\n",
       "  <tbody>\n",
       "    <tr>\n",
       "      <th>count</th>\n",
       "      <td>19133</td>\n",
       "      <td>19133</td>\n",
       "      <td>19133</td>\n",
       "      <td>19133.000000</td>\n",
       "      <td>19133</td>\n",
       "      <td>19133.0</td>\n",
       "      <td>19133</td>\n",
       "      <td>19133</td>\n",
       "      <td>19133.000000</td>\n",
       "      <td>19133.000000</td>\n",
       "      <td>19133.000000</td>\n",
       "    </tr>\n",
       "    <tr>\n",
       "      <th>unique</th>\n",
       "      <td>6</td>\n",
       "      <td>8</td>\n",
       "      <td>4</td>\n",
       "      <td>NaN</td>\n",
       "      <td>19090</td>\n",
       "      <td>4.0</td>\n",
       "      <td>19090</td>\n",
       "      <td>91</td>\n",
       "      <td>NaN</td>\n",
       "      <td>NaN</td>\n",
       "      <td>NaN</td>\n",
       "    </tr>\n",
       "    <tr>\n",
       "      <th>top</th>\n",
       "      <td>sbi_atm_cum_debit_card</td>\n",
       "      <td>cat_1</td>\n",
       "      <td>other_pcs</td>\n",
       "      <td>NaN</td>\n",
       "      <td>2016-12-24 16:30:13+00:00</td>\n",
       "      <td>2.0</td>\n",
       "      <td>2016-12-24 16:30:13+00:00</td>\n",
       "      <td>2017-01-25</td>\n",
       "      <td>NaN</td>\n",
       "      <td>NaN</td>\n",
       "      <td>NaN</td>\n",
       "    </tr>\n",
       "    <tr>\n",
       "      <th>freq</th>\n",
       "      <td>7651</td>\n",
       "      <td>9099</td>\n",
       "      <td>11375</td>\n",
       "      <td>NaN</td>\n",
       "      <td>5</td>\n",
       "      <td>15949.0</td>\n",
       "      <td>5</td>\n",
       "      <td>601</td>\n",
       "      <td>NaN</td>\n",
       "      <td>NaN</td>\n",
       "      <td>NaN</td>\n",
       "    </tr>\n",
       "    <tr>\n",
       "      <th>first</th>\n",
       "      <td>NaN</td>\n",
       "      <td>NaN</td>\n",
       "      <td>NaN</td>\n",
       "      <td>NaN</td>\n",
       "      <td>NaN</td>\n",
       "      <td>NaN</td>\n",
       "      <td>2016-11-15 03:32:55+00:00</td>\n",
       "      <td>NaN</td>\n",
       "      <td>NaN</td>\n",
       "      <td>NaN</td>\n",
       "      <td>NaN</td>\n",
       "    </tr>\n",
       "    <tr>\n",
       "      <th>last</th>\n",
       "      <td>NaN</td>\n",
       "      <td>NaN</td>\n",
       "      <td>NaN</td>\n",
       "      <td>NaN</td>\n",
       "      <td>NaN</td>\n",
       "      <td>NaN</td>\n",
       "      <td>2017-02-13 09:20:36+00:00</td>\n",
       "      <td>NaN</td>\n",
       "      <td>NaN</td>\n",
       "      <td>NaN</td>\n",
       "      <td>NaN</td>\n",
       "    </tr>\n",
       "    <tr>\n",
       "      <th>mean</th>\n",
       "      <td>NaN</td>\n",
       "      <td>NaN</td>\n",
       "      <td>NaN</td>\n",
       "      <td>140.886995</td>\n",
       "      <td>NaN</td>\n",
       "      <td>NaN</td>\n",
       "      <td>NaN</td>\n",
       "      <td>NaN</td>\n",
       "      <td>6.523337</td>\n",
       "      <td>12.429572</td>\n",
       "      <td>2.988711</td>\n",
       "    </tr>\n",
       "    <tr>\n",
       "      <th>std</th>\n",
       "      <td>NaN</td>\n",
       "      <td>NaN</td>\n",
       "      <td>NaN</td>\n",
       "      <td>2883.975048</td>\n",
       "      <td>NaN</td>\n",
       "      <td>NaN</td>\n",
       "      <td>NaN</td>\n",
       "      <td>NaN</td>\n",
       "      <td>5.226837</td>\n",
       "      <td>4.832087</td>\n",
       "      <td>1.933176</td>\n",
       "    </tr>\n",
       "    <tr>\n",
       "      <th>min</th>\n",
       "      <td>NaN</td>\n",
       "      <td>NaN</td>\n",
       "      <td>NaN</td>\n",
       "      <td>-20000.000000</td>\n",
       "      <td>NaN</td>\n",
       "      <td>NaN</td>\n",
       "      <td>NaN</td>\n",
       "      <td>NaN</td>\n",
       "      <td>1.000000</td>\n",
       "      <td>0.000000</td>\n",
       "      <td>0.000000</td>\n",
       "    </tr>\n",
       "    <tr>\n",
       "      <th>25%</th>\n",
       "      <td>NaN</td>\n",
       "      <td>NaN</td>\n",
       "      <td>NaN</td>\n",
       "      <td>-1.000000</td>\n",
       "      <td>NaN</td>\n",
       "      <td>NaN</td>\n",
       "      <td>NaN</td>\n",
       "      <td>NaN</td>\n",
       "      <td>1.000000</td>\n",
       "      <td>8.000000</td>\n",
       "      <td>2.000000</td>\n",
       "    </tr>\n",
       "    <tr>\n",
       "      <th>50%</th>\n",
       "      <td>NaN</td>\n",
       "      <td>NaN</td>\n",
       "      <td>NaN</td>\n",
       "      <td>20.000000</td>\n",
       "      <td>NaN</td>\n",
       "      <td>NaN</td>\n",
       "      <td>NaN</td>\n",
       "      <td>NaN</td>\n",
       "      <td>2.000000</td>\n",
       "      <td>13.000000</td>\n",
       "      <td>2.000000</td>\n",
       "    </tr>\n",
       "    <tr>\n",
       "      <th>75%</th>\n",
       "      <td>NaN</td>\n",
       "      <td>NaN</td>\n",
       "      <td>NaN</td>\n",
       "      <td>60.000000</td>\n",
       "      <td>NaN</td>\n",
       "      <td>NaN</td>\n",
       "      <td>NaN</td>\n",
       "      <td>NaN</td>\n",
       "      <td>12.000000</td>\n",
       "      <td>16.000000</td>\n",
       "      <td>5.000000</td>\n",
       "    </tr>\n",
       "    <tr>\n",
       "      <th>max</th>\n",
       "      <td>NaN</td>\n",
       "      <td>NaN</td>\n",
       "      <td>NaN</td>\n",
       "      <td>197600.000000</td>\n",
       "      <td>NaN</td>\n",
       "      <td>NaN</td>\n",
       "      <td>NaN</td>\n",
       "      <td>NaN</td>\n",
       "      <td>12.000000</td>\n",
       "      <td>23.000000</td>\n",
       "      <td>6.000000</td>\n",
       "    </tr>\n",
       "  </tbody>\n",
       "</table>\n",
       "</div>"
      ],
      "text/plain": [
       "                payment_method partner_category device_type  money_transacted  \\\n",
       "count                    19133            19133       19133      19133.000000   \n",
       "unique                       6                8           4               NaN   \n",
       "top     sbi_atm_cum_debit_card            cat_1   other_pcs               NaN   \n",
       "freq                      7651             9099       11375               NaN   \n",
       "first                      NaN              NaN         NaN               NaN   \n",
       "last                       NaN              NaN         NaN               NaN   \n",
       "mean                       NaN              NaN         NaN        140.886995   \n",
       "std                        NaN              NaN         NaN       2883.975048   \n",
       "min                        NaN              NaN         NaN     -20000.000000   \n",
       "25%                        NaN              NaN         NaN         -1.000000   \n",
       "50%                        NaN              NaN         NaN         20.000000   \n",
       "75%                        NaN              NaN         NaN         60.000000   \n",
       "max                        NaN              NaN         NaN     197600.000000   \n",
       "\n",
       "           transaction_initiation  partner_pricing_category  \\\n",
       "count                       19133                   19133.0   \n",
       "unique                      19090                       4.0   \n",
       "top     2016-12-24 16:30:13+00:00                       2.0   \n",
       "freq                            5                   15949.0   \n",
       "first                         NaN                       NaN   \n",
       "last                          NaN                       NaN   \n",
       "mean                          NaN                       NaN   \n",
       "std                           NaN                       NaN   \n",
       "min                           NaN                       NaN   \n",
       "25%                           NaN                       NaN   \n",
       "50%                           NaN                       NaN   \n",
       "75%                           NaN                       NaN   \n",
       "max                           NaN                       NaN   \n",
       "\n",
       "                    Tran_DateTime   Tran_date    Tran_month     Tran_hour  \\\n",
       "count                       19133       19133  19133.000000  19133.000000   \n",
       "unique                      19090          91           NaN           NaN   \n",
       "top     2016-12-24 16:30:13+00:00  2017-01-25           NaN           NaN   \n",
       "freq                            5         601           NaN           NaN   \n",
       "first   2016-11-15 03:32:55+00:00         NaN           NaN           NaN   \n",
       "last    2017-02-13 09:20:36+00:00         NaN           NaN           NaN   \n",
       "mean                          NaN         NaN      6.523337     12.429572   \n",
       "std                           NaN         NaN      5.226837      4.832087   \n",
       "min                           NaN         NaN      1.000000      0.000000   \n",
       "25%                           NaN         NaN      1.000000      8.000000   \n",
       "50%                           NaN         NaN      2.000000     13.000000   \n",
       "75%                           NaN         NaN     12.000000     16.000000   \n",
       "max                           NaN         NaN     12.000000     23.000000   \n",
       "\n",
       "        Tran_weekday  \n",
       "count   19133.000000  \n",
       "unique           NaN  \n",
       "top              NaN  \n",
       "freq             NaN  \n",
       "first            NaN  \n",
       "last             NaN  \n",
       "mean        2.988711  \n",
       "std         1.933176  \n",
       "min         0.000000  \n",
       "25%         2.000000  \n",
       "50%         2.000000  \n",
       "75%         5.000000  \n",
       "max         6.000000  "
      ]
     },
     "execution_count": 56,
     "metadata": {},
     "output_type": "execute_result"
    }
   ],
   "source": [
    "Test_data.describe(include='all')"
   ]
  },
  {
   "cell_type": "code",
   "execution_count": 57,
   "metadata": {},
   "outputs": [
    {
     "data": {
      "text/plain": [
       "count          76529\n",
       "unique            91\n",
       "top       2017-02-01\n",
       "freq            2386\n",
       "Name: Tran_date, dtype: object"
      ]
     },
     "execution_count": 57,
     "metadata": {},
     "output_type": "execute_result"
    }
   ],
   "source": [
    "Train_data['Tran_date'].describe()"
   ]
  },
  {
   "cell_type": "code",
   "execution_count": 58,
   "metadata": {},
   "outputs": [
    {
     "data": {
      "text/plain": [
       "count          19133\n",
       "unique            91\n",
       "top       2017-01-25\n",
       "freq             601\n",
       "Name: Tran_date, dtype: object"
      ]
     },
     "execution_count": 58,
     "metadata": {},
     "output_type": "execute_result"
    }
   ],
   "source": [
    "Test_data['Tran_date'].describe()"
   ]
  },
  {
   "cell_type": "code",
   "execution_count": 59,
   "metadata": {},
   "outputs": [],
   "source": [
    "Train_data = Train_data.drop(['transaction_initiation','Tran_DateTime','Tran_date'], axis=1)"
   ]
  },
  {
   "cell_type": "code",
   "execution_count": 60,
   "metadata": {},
   "outputs": [],
   "source": [
    "Test_data = Test_data.drop(['transaction_initiation','Tran_DateTime','Tran_date'], axis=1)"
   ]
  },
  {
   "cell_type": "code",
   "execution_count": 61,
   "metadata": {},
   "outputs": [
    {
     "data": {
      "text/plain": [
       "(76529, 9)"
      ]
     },
     "execution_count": 61,
     "metadata": {},
     "output_type": "execute_result"
    }
   ],
   "source": [
    "Train_data.shape"
   ]
  },
  {
   "cell_type": "code",
   "execution_count": 62,
   "metadata": {},
   "outputs": [
    {
     "data": {
      "text/plain": [
       "(19133, 8)"
      ]
     },
     "execution_count": 62,
     "metadata": {},
     "output_type": "execute_result"
    }
   ],
   "source": [
    "Test_data.shape"
   ]
  },
  {
   "cell_type": "code",
   "execution_count": null,
   "metadata": {},
   "outputs": [],
   "source": []
  },
  {
   "cell_type": "code",
   "execution_count": 63,
   "metadata": {
    "scrolled": true
   },
   "outputs": [
    {
     "data": {
      "image/png": "[encoded data removed]",
      "text/plain": [
       "<Figure size 432x288 with 1 Axes>"
      ]
     },
     "metadata": {
      "needs_background": "light"
     },
     "output_type": "display_data"
    }
   ],
   "source": [
    "barplot(\"Tran_month\",Train_data)"
   ]
  },
  {
   "cell_type": "code",
   "execution_count": 64,
   "metadata": {},
   "outputs": [
    {
     "data": {
      "image/png": "[encoded data removed]",
      "text/plain": [
       "<Figure size 432x288 with 1 Axes>"
      ]
     },
     "metadata": {
      "needs_background": "light"
     },
     "output_type": "display_data"
    }
   ],
   "source": [
    "barplot(\"Tran_month\",Test_data)"
   ]
  },
  {
   "cell_type": "code",
   "execution_count": 65,
   "metadata": {
    "scrolled": true
   },
   "outputs": [
    {
     "data": {
      "image/png": "[encoded data removed]",
      "text/plain": [
       "<Figure size 432x288 with 1 Axes>"
      ]
     },
     "metadata": {
      "needs_background": "light"
     },
     "output_type": "display_data"
    }
   ],
   "source": [
    "barplot(\"Tran_hour\",Train_data)"
   ]
  },
  {
   "cell_type": "code",
   "execution_count": 66,
   "metadata": {
    "scrolled": true
   },
   "outputs": [
    {
     "data": {
      "image/png": "[encoded data removed]",
      "text/plain": [
       "<Figure size 432x288 with 1 Axes>"
      ]
     },
     "metadata": {
      "needs_background": "light"
     },
     "output_type": "display_data"
    }
   ],
   "source": [
    "barplot(\"Tran_hour\",Test_data)"
   ]
  },
  {
   "cell_type": "code",
   "execution_count": 67,
   "metadata": {
    "scrolled": true
   },
   "outputs": [
    {
     "data": {
      "image/png": "[encoded data removed]",
      "text/plain": [
       "<Figure size 432x288 with 1 Axes>"
      ]
     },
     "metadata": {
      "needs_background": "light"
     },
     "output_type": "display_data"
    }
   ],
   "source": [
    "barplot(\"Tran_weekday\",Train_data)"
   ]
  },
  {
   "cell_type": "code",
   "execution_count": 68,
   "metadata": {},
   "outputs": [
    {
     "data": {
      "image/png": "[encoded data removed]",
      "text/plain": [
       "<Figure size 432x288 with 1 Axes>"
      ]
     },
     "metadata": {
      "needs_background": "light"
     },
     "output_type": "display_data"
    }
   ],
   "source": [
    "barplot(\"Tran_weekday\",Test_data)"
   ]
  },
  {
   "cell_type": "markdown",
   "metadata": {},
   "source": [
    "They all show varience so we can't remove any of the rows"
   ]
  },
  {
   "cell_type": "code",
   "execution_count": 69,
   "metadata": {
    "scrolled": true
   },
   "outputs": [
    {
     "data": {
      "text/plain": [
       "payment_method              category\n",
       "partner_category            category\n",
       "device_type                 category\n",
       "money_transacted             float64\n",
       "partner_pricing_category    category\n",
       "is_fraud                    category\n",
       "Tran_month                     int64\n",
       "Tran_hour                      int64\n",
       "Tran_weekday                   int64\n",
       "dtype: object"
      ]
     },
     "execution_count": 69,
     "metadata": {},
     "output_type": "execute_result"
    }
   ],
   "source": [
    "Train_data.dtypes"
   ]
  },
  {
   "cell_type": "code",
   "execution_count": 70,
   "metadata": {},
   "outputs": [
    {
     "data": {
      "text/plain": [
       "payment_method              category\n",
       "partner_category            category\n",
       "device_type                 category\n",
       "money_transacted             float64\n",
       "partner_pricing_category    category\n",
       "Tran_month                     int64\n",
       "Tran_hour                      int64\n",
       "Tran_weekday                   int64\n",
       "dtype: object"
      ]
     },
     "execution_count": 70,
     "metadata": {},
     "output_type": "execute_result"
    }
   ],
   "source": [
    "Test_data.dtypes"
   ]
  },
  {
   "cell_type": "code",
   "execution_count": 71,
   "metadata": {},
   "outputs": [],
   "source": [
    "for col in ['Tran_month', 'Tran_weekday']:\n",
    "    Train_data[col] = Train_data[col].astype('category')\n",
    "    Test_data[col] = Test_data[col].astype('category')\n"
   ]
  },
  {
   "cell_type": "code",
   "execution_count": 72,
   "metadata": {},
   "outputs": [
    {
     "data": {
      "text/plain": [
       "payment_method              category\n",
       "partner_category            category\n",
       "device_type                 category\n",
       "money_transacted             float64\n",
       "partner_pricing_category    category\n",
       "is_fraud                    category\n",
       "Tran_month                  category\n",
       "Tran_hour                      int64\n",
       "Tran_weekday                category\n",
       "dtype: object"
      ]
     },
     "execution_count": 72,
     "metadata": {},
     "output_type": "execute_result"
    }
   ],
   "source": [
    "Train_data.dtypes"
   ]
  },
  {
   "cell_type": "code",
   "execution_count": 73,
   "metadata": {},
   "outputs": [
    {
     "data": {
      "text/plain": [
       "payment_method              category\n",
       "partner_category            category\n",
       "device_type                 category\n",
       "money_transacted             float64\n",
       "partner_pricing_category    category\n",
       "Tran_month                  category\n",
       "Tran_hour                      int64\n",
       "Tran_weekday                category\n",
       "dtype: object"
      ]
     },
     "execution_count": 73,
     "metadata": {},
     "output_type": "execute_result"
    }
   ],
   "source": [
    "Test_data.dtypes"
   ]
  },
  {
   "cell_type": "code",
   "execution_count": 74,
   "metadata": {
    "scrolled": true
   },
   "outputs": [
    {
     "name": "stdout",
     "output_type": "stream",
     "text": [
      "   Tran_hour     0  1  TotalCount  ProbOfFraud\n",
      "0          0   132  1         133     0.007519\n",
      "1          1   141  0         141     0.000000\n",
      "2          2   231  0         231     0.000000\n",
      "3          3   569  6         575     0.010435\n",
      "4          4  1841  0        1841     0.000000\n"
     ]
    }
   ],
   "source": [
    "data1 = getProbOfFraud('Tran_hour', 'is_fraud', Train_data)"
   ]
  },
  {
   "cell_type": "code",
   "execution_count": 75,
   "metadata": {
    "scrolled": false
   },
   "outputs": [
    {
     "data": {
      "image/png": "[encoded data removed]",
      "text/plain": [
       "<Figure size 360x360 with 1 Axes>"
      ]
     },
     "metadata": {
      "needs_background": "light"
     },
     "output_type": "display_data"
    }
   ],
   "source": [
    "sns.lmplot(data = data1, x = 'Tran_hour', y = 'ProbOfFraud', fit_reg = True)\n",
    "plt.title('Probability of Fraud with respect to Transaction Hours')\n",
    "plt.show()"
   ]
  },
  {
   "cell_type": "markdown",
   "metadata": {},
   "source": [
    "There is clear trend in above graph, showcasing the effect of scheduled hour on no-show up. We can bin Scheduled hour with bin size of 4 hours"
   ]
  },
  {
   "cell_type": "code",
   "execution_count": 76,
   "metadata": {},
   "outputs": [
    {
     "data": {
      "text/plain": [
       "array([19,  9,  7, 16, 17,  4, 20, 10,  6, 13, 14, 11,  8, 15, 18, 12,  5,\n",
       "       23, 21,  1,  3, 22,  0,  2])"
      ]
     },
     "execution_count": 76,
     "metadata": {},
     "output_type": "execute_result"
    }
   ],
   "source": [
    "Train_data['Tran_hour'].unique()"
   ]
  },
  {
   "cell_type": "code",
   "execution_count": 77,
   "metadata": {},
   "outputs": [],
   "source": [
    "#Binning \n",
    "def get_session_of_day(x):\n",
    "    if x < 4:\n",
    "        return 'Midnight'\n",
    "    elif (x >= 4) and (x < 8 ):\n",
    "        return 'EarlyMorning'\n",
    "    elif (x >= 8) and (x < 12 ):\n",
    "        return 'Morning'\n",
    "    elif (x >= 12) and (x < 16):\n",
    "        return'Noon'\n",
    "    elif (x >= 16) and (x < 20) :\n",
    "        return 'Eve'\n",
    "    elif (x >= 20) and (x < 24):\n",
    "        return'Night'"
   ]
  },
  {
   "cell_type": "code",
   "execution_count": 78,
   "metadata": {},
   "outputs": [],
   "source": [
    "Train_data['Tran_session_of_day'] = Train_data['Tran_hour'].apply(get_session_of_day)"
   ]
  },
  {
   "cell_type": "code",
   "execution_count": 79,
   "metadata": {},
   "outputs": [
    {
     "data": {
      "text/plain": [
       "payment_method              category\n",
       "partner_category            category\n",
       "device_type                 category\n",
       "money_transacted             float64\n",
       "partner_pricing_category    category\n",
       "is_fraud                    category\n",
       "Tran_month                  category\n",
       "Tran_weekday                category\n",
       "Tran_session_of_day         category\n",
       "dtype: object"
      ]
     },
     "execution_count": 79,
     "metadata": {},
     "output_type": "execute_result"
    }
   ],
   "source": [
    "Train_data=Train_data.drop('Tran_hour',axis=1)\n",
    "Train_data['Tran_session_of_day']=Train_data['Tran_session_of_day'].astype('category')\n",
    "Train_data.dtypes"
   ]
  },
  {
   "cell_type": "code",
   "execution_count": 80,
   "metadata": {},
   "outputs": [],
   "source": [
    "Test_data['Tran_session_of_day'] = Test_data['Tran_hour'].apply(get_session_of_day)"
   ]
  },
  {
   "cell_type": "code",
   "execution_count": 81,
   "metadata": {},
   "outputs": [],
   "source": [
    "Test_data=Test_data.drop('Tran_hour',axis=1)"
   ]
  },
  {
   "cell_type": "code",
   "execution_count": 82,
   "metadata": {},
   "outputs": [],
   "source": [
    "Test_data['Tran_session_of_day']=Test_data['Tran_session_of_day'].astype('category')"
   ]
  },
  {
   "cell_type": "code",
   "execution_count": 83,
   "metadata": {
    "scrolled": true
   },
   "outputs": [
    {
     "data": {
      "text/plain": [
       "payment_method              category\n",
       "partner_category            category\n",
       "device_type                 category\n",
       "money_transacted             float64\n",
       "partner_pricing_category    category\n",
       "Tran_month                  category\n",
       "Tran_weekday                category\n",
       "Tran_session_of_day         category\n",
       "dtype: object"
      ]
     },
     "execution_count": 83,
     "metadata": {},
     "output_type": "execute_result"
    }
   ],
   "source": [
    "Test_data.dtypes"
   ]
  },
  {
   "cell_type": "markdown",
   "metadata": {},
   "source": [
    "labels = bins[:-1]\n",
    "print(labels)\n",
    "df['_binned'] = pd.cut(df['Age'], bins=bins, labels=labels, include_lowest=True)"
   ]
  },
  {
   "cell_type": "code",
   "execution_count": 84,
   "metadata": {},
   "outputs": [
    {
     "data": {
      "text/plain": [
       "(17.37760219661224,\n",
       " 0.0005909621971541256,\n",
       " 3,\n",
       " array([[2.52939980e+04, 1.25956026e+04, 9.99484672e+03, 2.84905526e+04],\n",
       "        [5.10019731e+01, 2.53973526e+01, 2.01532752e+01, 5.74473990e+01]]))"
      ]
     },
     "execution_count": 84,
     "metadata": {},
     "output_type": "execute_result"
    }
   ],
   "source": [
    "myField1 = Train_data['is_fraud']\n",
    "myField2 = Train_data['Tran_month']\n",
    "myCrosstable = pd.crosstab(myField1, myField2)\n",
    "chiVal, pVal, df, exp = chi2_contingency(myCrosstable)\n",
    "chiVal, pVal, df, exp"
   ]
  },
  {
   "cell_type": "code",
   "execution_count": 85,
   "metadata": {},
   "outputs": [
    {
     "data": {
      "text/plain": [
       "(22.310929281498844,\n",
       " 0.0010633733603864887,\n",
       " 6,\n",
       " array([[8.18848900e+03, 8.80524540e+03, 2.21263851e+04, 8.10864999e+03,\n",
       "         7.74937442e+03, 9.40104405e+03, 1.19958120e+04],\n",
       "        [1.65109958e+01, 1.77546028e+01, 4.46149042e+01, 1.63500111e+01,\n",
       "         1.56255798e+01, 1.89559513e+01, 2.41879549e+01]]))"
      ]
     },
     "execution_count": 85,
     "metadata": {},
     "output_type": "execute_result"
    }
   ],
   "source": [
    "myField1 = Train_data['is_fraud']\n",
    "myField2 = Train_data['Tran_weekday']\n",
    "myCrosstable = pd.crosstab(myField1, myField2)\n",
    "chiVal, pVal, df, exp = chi2_contingency(myCrosstable)\n",
    "chiVal, pVal, df, exp"
   ]
  },
  {
   "cell_type": "code",
   "execution_count": 86,
   "metadata": {
    "scrolled": false
   },
   "outputs": [
    {
     "data": {
      "text/plain": [
       "0    76375\n",
       "1      154\n",
       "Name: is_fraud, dtype: int64"
      ]
     },
     "execution_count": 86,
     "metadata": {},
     "output_type": "execute_result"
    }
   ],
   "source": [
    "Train_data['is_fraud'] = Train_data['is_fraud'].astype('int64')\n",
    "Train_data['is_fraud'].value_counts()"
   ]
  },
  {
   "cell_type": "code",
   "execution_count": 91,
   "metadata": {},
   "outputs": [],
   "source": [
    "Train_data_y=Train_data[\"is_fraud\"]\n",
    "Train_data_X=Train_data.drop('is_fraud', axis=1)\n",
    "X_train, X_val, y_train, y_val = train_test_split(Train_data_X, Train_data_y, test_size=0.20,random_state=262, stratify=Train_data_y)"
   ]
  },
  {
   "cell_type": "code",
   "execution_count": 92,
   "metadata": {},
   "outputs": [
    {
     "data": {
      "text/plain": [
       "Index(['money_transacted'], dtype='object')"
      ]
     },
     "execution_count": 92,
     "metadata": {},
     "output_type": "execute_result"
    }
   ],
   "source": [
    "num_attr=Train_data_X.select_dtypes(['int64', 'float64']).columns\n",
    "num_attr"
   ]
  },
  {
   "cell_type": "code",
   "execution_count": 93,
   "metadata": {},
   "outputs": [
    {
     "data": {
      "text/plain": [
       "Index(['payment_method', 'partner_category', 'device_type',\n",
       "       'partner_pricing_category', 'Tran_month', 'Tran_weekday',\n",
       "       'Tran_session_of_day'],\n",
       "      dtype='object')"
      ]
     },
     "execution_count": 93,
     "metadata": {},
     "output_type": "execute_result"
    }
   ],
   "source": [
    "cat_attr = Train_data_X.select_dtypes('category').columns\n",
    "cat_attr"
   ]
  },
  {
   "cell_type": "code",
   "execution_count": 89,
   "metadata": {
    "scrolled": true
   },
   "outputs": [
    {
     "name": "stdout",
     "output_type": "stream",
     "text": [
      "Defaulting to user installation because normal site-packages is not writeable\n",
      "Requirement already satisfied: sklearn-pandas in /home/4057b97/.local/lib/python3.7/site-packages (2.2.0)\n",
      "Requirement already satisfied: scipy>=1.5.1 in /usr/share/anaconda3/lib/python3.7/site-packages (from sklearn-pandas) (1.6.3)\n",
      "Requirement already satisfied: numpy>=1.18.1 in /usr/share/anaconda3/lib/python3.7/site-packages (from sklearn-pandas) (1.19.5)\n",
      "Requirement already satisfied: scikit-learn>=0.23.0 in /usr/share/anaconda3/lib/python3.7/site-packages (from sklearn-pandas) (0.24.2)\n",
      "Requirement already satisfied: pandas>=1.1.4 in /usr/share/anaconda3/lib/python3.7/site-packages (from sklearn-pandas) (1.2.4)\n",
      "Requirement already satisfied: threadpoolctl>=2.0.0 in /usr/share/anaconda3/lib/python3.7/site-packages (from scikit-learn>=0.23.0->sklearn-pandas) (2.1.0)\n",
      "Requirement already satisfied: joblib>=0.11 in /usr/share/anaconda3/lib/python3.7/site-packages (from scikit-learn>=0.23.0->sklearn-pandas) (0.14.1)\n",
      "Requirement already satisfied: python-dateutil>=2.7.3 in /usr/share/anaconda3/lib/python3.7/site-packages (from pandas>=1.1.4->sklearn-pandas) (2.8.1)\n",
      "Requirement already satisfied: pytz>=2017.3 in /usr/share/anaconda3/lib/python3.7/site-packages (from pandas>=1.1.4->sklearn-pandas) (2019.3)\n",
      "Requirement already satisfied: six>=1.5 in /usr/share/anaconda3/lib/python3.7/site-packages (from python-dateutil>=2.7.3->pandas>=1.1.4->sklearn-pandas) (1.15.0)\n",
      "Note: you may need to restart the kernel to use updated packages.\n"
     ]
    }
   ],
   "source": [
    "pip install sklearn-pandas"
   ]
  },
  {
   "cell_type": "code",
   "execution_count": 90,
   "metadata": {},
   "outputs": [],
   "source": [
    "from sklearn.model_selection import train_test_split\n",
    "from sklearn.impute import SimpleImputer\n",
    "from sklearn.preprocessing import StandardScaler, OneHotEncoder\n",
    "from sklearn.linear_model import LogisticRegression\n",
    "\n",
    "from sklearn.metrics import accuracy_score,recall_score,precision_score,f1_score \n",
    "from sklearn.metrics import classification_report, confusion_matrix\n",
    "from sklearn.ensemble import RandomForestClassifier,GradientBoostingClassifier\n",
    "from sklearn.feature_selection import SelectFromModel\n",
    "\n",
    "from sklearn.model_selection import GridSearchCV\n",
    "from sklearn.tree import DecisionTreeClassifier\n",
    "from sklearn import tree\n",
    "from sklearn.ensemble import AdaBoostClassifier\n",
    "from sklearn_pandas import DataFrameMapper"
   ]
  },
  {
   "cell_type": "code",
   "execution_count": 94,
   "metadata": {},
   "outputs": [],
   "source": [
    "# DataFrameMapper, a class for mapping pandas data frame columns to different sklearn transformations\n",
    "mapper = DataFrameMapper(\n",
    "  [([continuous_col], StandardScaler()) for continuous_col in num_attr] +\n",
    "  [([categorical_col], OneHotEncoder(handle_unknown='error')) for categorical_col in cat_attr]\n",
    ", df_out=True)"
   ]
  },
  {
   "cell_type": "code",
   "execution_count": 95,
   "metadata": {},
   "outputs": [
    {
     "name": "stdout",
     "output_type": "stream",
     "text": [
      "<class 'sklearn_pandas.dataframe_mapper.DataFrameMapper'>\n"
     ]
    }
   ],
   "source": [
    "print(type(mapper))"
   ]
  },
  {
   "cell_type": "code",
   "execution_count": 96,
   "metadata": {},
   "outputs": [],
   "source": [
    "mapper.fit(X_train)\n",
    "\n",
    "X_train_final = mapper.transform(X_train)\n",
    "X_val_final = mapper.transform(X_val)"
   ]
  },
  {
   "cell_type": "code",
   "execution_count": 97,
   "metadata": {},
   "outputs": [],
   "source": [
    "mapper.fit(Test_data)\n",
    "Test_data_final = mapper.transform(Test_data)"
   ]
  },
  {
   "cell_type": "code",
   "execution_count": 98,
   "metadata": {
    "scrolled": false
   },
   "outputs": [],
   "source": [
    "X_train_final = X_train_final.drop(['partner_category_x0_cat_9'], axis =1)\n",
    "X_val_final = X_val_final.drop(['partner_category_x0_cat_9'], axis =1)"
   ]
  },
  {
   "cell_type": "code",
   "execution_count": 99,
   "metadata": {
    "scrolled": true
   },
   "outputs": [
    {
     "data": {
      "text/html": [
       "<div>\n",
       "<style scoped>\n",
       "    .dataframe tbody tr th:only-of-type {\n",
       "        vertical-align: middle;\n",
       "    }\n",
       "\n",
       "    .dataframe tbody tr th {\n",
       "        vertical-align: top;\n",
       "    }\n",
       "\n",
       "    .dataframe thead th {\n",
       "        text-align: right;\n",
       "    }\n",
       "</style>\n",
       "<table border=\"1\" class=\"dataframe\">\n",
       "  <thead>\n",
       "    <tr style=\"text-align: right;\">\n",
       "      <th></th>\n",
       "      <th>money_transacted</th>\n",
       "      <th>payment_method_x0_e_wallet_payments</th>\n",
       "      <th>payment_method_x0_other_debit_cards</th>\n",
       "      <th>payment_method_x0_sbi_atm_cum_debit_card</th>\n",
       "      <th>payment_method_x0_unified_payments_interface</th>\n",
       "      <th>payment_method_x0_visa_master_credit_cards</th>\n",
       "      <th>payment_method_x0_visa_master_debit_cards</th>\n",
       "      <th>partner_category_x0_cat_1</th>\n",
       "      <th>partner_category_x0_cat_2</th>\n",
       "      <th>partner_category_x0_cat_3</th>\n",
       "      <th>...</th>\n",
       "      <th>Tran_weekday_x0_3</th>\n",
       "      <th>Tran_weekday_x0_4</th>\n",
       "      <th>Tran_weekday_x0_5</th>\n",
       "      <th>Tran_weekday_x0_6</th>\n",
       "      <th>Tran_session_of_day_x0_EarlyMorning</th>\n",
       "      <th>Tran_session_of_day_x0_Eve</th>\n",
       "      <th>Tran_session_of_day_x0_Midnight</th>\n",
       "      <th>Tran_session_of_day_x0_Morning</th>\n",
       "      <th>Tran_session_of_day_x0_Night</th>\n",
       "      <th>Tran_session_of_day_x0_Noon</th>\n",
       "    </tr>\n",
       "  </thead>\n",
       "  <tbody>\n",
       "    <tr>\n",
       "      <th>27852</th>\n",
       "      <td>0.030823</td>\n",
       "      <td>0.0</td>\n",
       "      <td>0.0</td>\n",
       "      <td>0.0</td>\n",
       "      <td>0.0</td>\n",
       "      <td>0.0</td>\n",
       "      <td>1.0</td>\n",
       "      <td>1.0</td>\n",
       "      <td>0.0</td>\n",
       "      <td>0.0</td>\n",
       "      <td>...</td>\n",
       "      <td>0.0</td>\n",
       "      <td>0.0</td>\n",
       "      <td>0.0</td>\n",
       "      <td>0.0</td>\n",
       "      <td>0.0</td>\n",
       "      <td>0.0</td>\n",
       "      <td>0.0</td>\n",
       "      <td>0.0</td>\n",
       "      <td>1.0</td>\n",
       "      <td>0.0</td>\n",
       "    </tr>\n",
       "    <tr>\n",
       "      <th>44021</th>\n",
       "      <td>0.021996</td>\n",
       "      <td>0.0</td>\n",
       "      <td>1.0</td>\n",
       "      <td>0.0</td>\n",
       "      <td>0.0</td>\n",
       "      <td>0.0</td>\n",
       "      <td>0.0</td>\n",
       "      <td>0.0</td>\n",
       "      <td>1.0</td>\n",
       "      <td>0.0</td>\n",
       "      <td>...</td>\n",
       "      <td>0.0</td>\n",
       "      <td>0.0</td>\n",
       "      <td>1.0</td>\n",
       "      <td>0.0</td>\n",
       "      <td>0.0</td>\n",
       "      <td>0.0</td>\n",
       "      <td>0.0</td>\n",
       "      <td>0.0</td>\n",
       "      <td>1.0</td>\n",
       "      <td>0.0</td>\n",
       "    </tr>\n",
       "    <tr>\n",
       "      <th>29462</th>\n",
       "      <td>-0.058325</td>\n",
       "      <td>0.0</td>\n",
       "      <td>0.0</td>\n",
       "      <td>1.0</td>\n",
       "      <td>0.0</td>\n",
       "      <td>0.0</td>\n",
       "      <td>0.0</td>\n",
       "      <td>1.0</td>\n",
       "      <td>0.0</td>\n",
       "      <td>0.0</td>\n",
       "      <td>...</td>\n",
       "      <td>0.0</td>\n",
       "      <td>1.0</td>\n",
       "      <td>0.0</td>\n",
       "      <td>0.0</td>\n",
       "      <td>1.0</td>\n",
       "      <td>0.0</td>\n",
       "      <td>0.0</td>\n",
       "      <td>0.0</td>\n",
       "      <td>0.0</td>\n",
       "      <td>0.0</td>\n",
       "    </tr>\n",
       "    <tr>\n",
       "      <th>15078</th>\n",
       "      <td>-0.101575</td>\n",
       "      <td>0.0</td>\n",
       "      <td>0.0</td>\n",
       "      <td>1.0</td>\n",
       "      <td>0.0</td>\n",
       "      <td>0.0</td>\n",
       "      <td>0.0</td>\n",
       "      <td>1.0</td>\n",
       "      <td>0.0</td>\n",
       "      <td>0.0</td>\n",
       "      <td>...</td>\n",
       "      <td>0.0</td>\n",
       "      <td>0.0</td>\n",
       "      <td>0.0</td>\n",
       "      <td>0.0</td>\n",
       "      <td>0.0</td>\n",
       "      <td>0.0</td>\n",
       "      <td>0.0</td>\n",
       "      <td>1.0</td>\n",
       "      <td>0.0</td>\n",
       "      <td>0.0</td>\n",
       "    </tr>\n",
       "    <tr>\n",
       "      <th>36383</th>\n",
       "      <td>-0.101575</td>\n",
       "      <td>0.0</td>\n",
       "      <td>0.0</td>\n",
       "      <td>1.0</td>\n",
       "      <td>0.0</td>\n",
       "      <td>0.0</td>\n",
       "      <td>0.0</td>\n",
       "      <td>1.0</td>\n",
       "      <td>0.0</td>\n",
       "      <td>0.0</td>\n",
       "      <td>...</td>\n",
       "      <td>0.0</td>\n",
       "      <td>0.0</td>\n",
       "      <td>0.0</td>\n",
       "      <td>0.0</td>\n",
       "      <td>0.0</td>\n",
       "      <td>0.0</td>\n",
       "      <td>0.0</td>\n",
       "      <td>1.0</td>\n",
       "      <td>0.0</td>\n",
       "      <td>0.0</td>\n",
       "    </tr>\n",
       "  </tbody>\n",
       "</table>\n",
       "<p>5 rows × 40 columns</p>\n",
       "</div>"
      ],
      "text/plain": [
       "       money_transacted  payment_method_x0_e_wallet_payments  \\\n",
       "27852          0.030823                                  0.0   \n",
       "44021          0.021996                                  0.0   \n",
       "29462         -0.058325                                  0.0   \n",
       "15078         -0.101575                                  0.0   \n",
       "36383         -0.101575                                  0.0   \n",
       "\n",
       "       payment_method_x0_other_debit_cards  \\\n",
       "27852                                  0.0   \n",
       "44021                                  1.0   \n",
       "29462                                  0.0   \n",
       "15078                                  0.0   \n",
       "36383                                  0.0   \n",
       "\n",
       "       payment_method_x0_sbi_atm_cum_debit_card  \\\n",
       "27852                                       0.0   \n",
       "44021                                       0.0   \n",
       "29462                                       1.0   \n",
       "15078                                       1.0   \n",
       "36383                                       1.0   \n",
       "\n",
       "       payment_method_x0_unified_payments_interface  \\\n",
       "27852                                           0.0   \n",
       "44021                                           0.0   \n",
       "29462                                           0.0   \n",
       "15078                                           0.0   \n",
       "36383                                           0.0   \n",
       "\n",
       "       payment_method_x0_visa_master_credit_cards  \\\n",
       "27852                                         0.0   \n",
       "44021                                         0.0   \n",
       "29462                                         0.0   \n",
       "15078                                         0.0   \n",
       "36383                                         0.0   \n",
       "\n",
       "       payment_method_x0_visa_master_debit_cards  partner_category_x0_cat_1  \\\n",
       "27852                                        1.0                        1.0   \n",
       "44021                                        0.0                        0.0   \n",
       "29462                                        0.0                        1.0   \n",
       "15078                                        0.0                        1.0   \n",
       "36383                                        0.0                        1.0   \n",
       "\n",
       "       partner_category_x0_cat_2  partner_category_x0_cat_3  ...  \\\n",
       "27852                        0.0                        0.0  ...   \n",
       "44021                        1.0                        0.0  ...   \n",
       "29462                        0.0                        0.0  ...   \n",
       "15078                        0.0                        0.0  ...   \n",
       "36383                        0.0                        0.0  ...   \n",
       "\n",
       "       Tran_weekday_x0_3  Tran_weekday_x0_4  Tran_weekday_x0_5  \\\n",
       "27852                0.0                0.0                0.0   \n",
       "44021                0.0                0.0                1.0   \n",
       "29462                0.0                1.0                0.0   \n",
       "15078                0.0                0.0                0.0   \n",
       "36383                0.0                0.0                0.0   \n",
       "\n",
       "       Tran_weekday_x0_6  Tran_session_of_day_x0_EarlyMorning  \\\n",
       "27852                0.0                                  0.0   \n",
       "44021                0.0                                  0.0   \n",
       "29462                0.0                                  1.0   \n",
       "15078                0.0                                  0.0   \n",
       "36383                0.0                                  0.0   \n",
       "\n",
       "       Tran_session_of_day_x0_Eve  Tran_session_of_day_x0_Midnight  \\\n",
       "27852                         0.0                              0.0   \n",
       "44021                         0.0                              0.0   \n",
       "29462                         0.0                              0.0   \n",
       "15078                         0.0                              0.0   \n",
       "36383                         0.0                              0.0   \n",
       "\n",
       "       Tran_session_of_day_x0_Morning  Tran_session_of_day_x0_Night  \\\n",
       "27852                             0.0                           1.0   \n",
       "44021                             0.0                           1.0   \n",
       "29462                             0.0                           0.0   \n",
       "15078                             1.0                           0.0   \n",
       "36383                             1.0                           0.0   \n",
       "\n",
       "       Tran_session_of_day_x0_Noon  \n",
       "27852                          0.0  \n",
       "44021                          0.0  \n",
       "29462                          0.0  \n",
       "15078                          0.0  \n",
       "36383                          0.0  \n",
       "\n",
       "[5 rows x 40 columns]"
      ]
     },
     "execution_count": 99,
     "metadata": {},
     "output_type": "execute_result"
    }
   ],
   "source": [
    "X_train_final.head()"
   ]
  },
  {
   "cell_type": "code",
   "execution_count": 100,
   "metadata": {},
   "outputs": [
    {
     "data": {
      "text/html": [
       "<div>\n",
       "<style scoped>\n",
       "    .dataframe tbody tr th:only-of-type {\n",
       "        vertical-align: middle;\n",
       "    }\n",
       "\n",
       "    .dataframe tbody tr th {\n",
       "        vertical-align: top;\n",
       "    }\n",
       "\n",
       "    .dataframe thead th {\n",
       "        text-align: right;\n",
       "    }\n",
       "</style>\n",
       "<table border=\"1\" class=\"dataframe\">\n",
       "  <thead>\n",
       "    <tr style=\"text-align: right;\">\n",
       "      <th></th>\n",
       "      <th>money_transacted</th>\n",
       "      <th>payment_method_x0_e_wallet_payments</th>\n",
       "      <th>payment_method_x0_other_debit_cards</th>\n",
       "      <th>payment_method_x0_sbi_atm_cum_debit_card</th>\n",
       "      <th>payment_method_x0_unified_payments_interface</th>\n",
       "      <th>payment_method_x0_visa_master_credit_cards</th>\n",
       "      <th>payment_method_x0_visa_master_debit_cards</th>\n",
       "      <th>partner_category_x0_cat_1</th>\n",
       "      <th>partner_category_x0_cat_2</th>\n",
       "      <th>partner_category_x0_cat_3</th>\n",
       "      <th>...</th>\n",
       "      <th>Tran_weekday_x0_3</th>\n",
       "      <th>Tran_weekday_x0_4</th>\n",
       "      <th>Tran_weekday_x0_5</th>\n",
       "      <th>Tran_weekday_x0_6</th>\n",
       "      <th>Tran_session_of_day_x0_EarlyMorning</th>\n",
       "      <th>Tran_session_of_day_x0_Eve</th>\n",
       "      <th>Tran_session_of_day_x0_Midnight</th>\n",
       "      <th>Tran_session_of_day_x0_Morning</th>\n",
       "      <th>Tran_session_of_day_x0_Night</th>\n",
       "      <th>Tran_session_of_day_x0_Noon</th>\n",
       "    </tr>\n",
       "  </thead>\n",
       "  <tbody>\n",
       "    <tr>\n",
       "      <th>60658</th>\n",
       "      <td>0.030823</td>\n",
       "      <td>0.0</td>\n",
       "      <td>1.0</td>\n",
       "      <td>0.0</td>\n",
       "      <td>0.0</td>\n",
       "      <td>0.0</td>\n",
       "      <td>0.0</td>\n",
       "      <td>1.0</td>\n",
       "      <td>0.0</td>\n",
       "      <td>0.0</td>\n",
       "      <td>...</td>\n",
       "      <td>0.0</td>\n",
       "      <td>0.0</td>\n",
       "      <td>0.0</td>\n",
       "      <td>0.0</td>\n",
       "      <td>1.0</td>\n",
       "      <td>0.0</td>\n",
       "      <td>0.0</td>\n",
       "      <td>0.0</td>\n",
       "      <td>0.0</td>\n",
       "      <td>0.0</td>\n",
       "    </tr>\n",
       "    <tr>\n",
       "      <th>31815</th>\n",
       "      <td>-0.048616</td>\n",
       "      <td>1.0</td>\n",
       "      <td>0.0</td>\n",
       "      <td>0.0</td>\n",
       "      <td>0.0</td>\n",
       "      <td>0.0</td>\n",
       "      <td>0.0</td>\n",
       "      <td>0.0</td>\n",
       "      <td>1.0</td>\n",
       "      <td>0.0</td>\n",
       "      <td>...</td>\n",
       "      <td>0.0</td>\n",
       "      <td>0.0</td>\n",
       "      <td>0.0</td>\n",
       "      <td>1.0</td>\n",
       "      <td>0.0</td>\n",
       "      <td>0.0</td>\n",
       "      <td>0.0</td>\n",
       "      <td>0.0</td>\n",
       "      <td>0.0</td>\n",
       "      <td>1.0</td>\n",
       "    </tr>\n",
       "    <tr>\n",
       "      <th>43698</th>\n",
       "      <td>-0.066269</td>\n",
       "      <td>0.0</td>\n",
       "      <td>0.0</td>\n",
       "      <td>1.0</td>\n",
       "      <td>0.0</td>\n",
       "      <td>0.0</td>\n",
       "      <td>0.0</td>\n",
       "      <td>1.0</td>\n",
       "      <td>0.0</td>\n",
       "      <td>0.0</td>\n",
       "      <td>...</td>\n",
       "      <td>0.0</td>\n",
       "      <td>0.0</td>\n",
       "      <td>0.0</td>\n",
       "      <td>0.0</td>\n",
       "      <td>0.0</td>\n",
       "      <td>1.0</td>\n",
       "      <td>0.0</td>\n",
       "      <td>0.0</td>\n",
       "      <td>0.0</td>\n",
       "      <td>0.0</td>\n",
       "    </tr>\n",
       "    <tr>\n",
       "      <th>39830</th>\n",
       "      <td>-0.048616</td>\n",
       "      <td>1.0</td>\n",
       "      <td>0.0</td>\n",
       "      <td>0.0</td>\n",
       "      <td>0.0</td>\n",
       "      <td>0.0</td>\n",
       "      <td>0.0</td>\n",
       "      <td>0.0</td>\n",
       "      <td>1.0</td>\n",
       "      <td>0.0</td>\n",
       "      <td>...</td>\n",
       "      <td>0.0</td>\n",
       "      <td>0.0</td>\n",
       "      <td>0.0</td>\n",
       "      <td>1.0</td>\n",
       "      <td>0.0</td>\n",
       "      <td>1.0</td>\n",
       "      <td>0.0</td>\n",
       "      <td>0.0</td>\n",
       "      <td>0.0</td>\n",
       "      <td>0.0</td>\n",
       "    </tr>\n",
       "    <tr>\n",
       "      <th>41411</th>\n",
       "      <td>-0.145707</td>\n",
       "      <td>0.0</td>\n",
       "      <td>0.0</td>\n",
       "      <td>1.0</td>\n",
       "      <td>0.0</td>\n",
       "      <td>0.0</td>\n",
       "      <td>0.0</td>\n",
       "      <td>0.0</td>\n",
       "      <td>0.0</td>\n",
       "      <td>1.0</td>\n",
       "      <td>...</td>\n",
       "      <td>0.0</td>\n",
       "      <td>0.0</td>\n",
       "      <td>0.0</td>\n",
       "      <td>0.0</td>\n",
       "      <td>0.0</td>\n",
       "      <td>0.0</td>\n",
       "      <td>0.0</td>\n",
       "      <td>0.0</td>\n",
       "      <td>0.0</td>\n",
       "      <td>1.0</td>\n",
       "    </tr>\n",
       "  </tbody>\n",
       "</table>\n",
       "<p>5 rows × 40 columns</p>\n",
       "</div>"
      ],
      "text/plain": [
       "       money_transacted  payment_method_x0_e_wallet_payments  \\\n",
       "60658          0.030823                                  0.0   \n",
       "31815         -0.048616                                  1.0   \n",
       "43698         -0.066269                                  0.0   \n",
       "39830         -0.048616                                  1.0   \n",
       "41411         -0.145707                                  0.0   \n",
       "\n",
       "       payment_method_x0_other_debit_cards  \\\n",
       "60658                                  1.0   \n",
       "31815                                  0.0   \n",
       "43698                                  0.0   \n",
       "39830                                  0.0   \n",
       "41411                                  0.0   \n",
       "\n",
       "       payment_method_x0_sbi_atm_cum_debit_card  \\\n",
       "60658                                       0.0   \n",
       "31815                                       0.0   \n",
       "43698                                       1.0   \n",
       "39830                                       0.0   \n",
       "41411                                       1.0   \n",
       "\n",
       "       payment_method_x0_unified_payments_interface  \\\n",
       "60658                                           0.0   \n",
       "31815                                           0.0   \n",
       "43698                                           0.0   \n",
       "39830                                           0.0   \n",
       "41411                                           0.0   \n",
       "\n",
       "       payment_method_x0_visa_master_credit_cards  \\\n",
       "60658                                         0.0   \n",
       "31815                                         0.0   \n",
       "43698                                         0.0   \n",
       "39830                                         0.0   \n",
       "41411                                         0.0   \n",
       "\n",
       "       payment_method_x0_visa_master_debit_cards  partner_category_x0_cat_1  \\\n",
       "60658                                        0.0                        1.0   \n",
       "31815                                        0.0                        0.0   \n",
       "43698                                        0.0                        1.0   \n",
       "39830                                        0.0                        0.0   \n",
       "41411                                        0.0                        0.0   \n",
       "\n",
       "       partner_category_x0_cat_2  partner_category_x0_cat_3  ...  \\\n",
       "60658                        0.0                        0.0  ...   \n",
       "31815                        1.0                        0.0  ...   \n",
       "43698                        0.0                        0.0  ...   \n",
       "39830                        1.0                        0.0  ...   \n",
       "41411                        0.0                        1.0  ...   \n",
       "\n",
       "       Tran_weekday_x0_3  Tran_weekday_x0_4  Tran_weekday_x0_5  \\\n",
       "60658                0.0                0.0                0.0   \n",
       "31815                0.0                0.0                0.0   \n",
       "43698                0.0                0.0                0.0   \n",
       "39830                0.0                0.0                0.0   \n",
       "41411                0.0                0.0                0.0   \n",
       "\n",
       "       Tran_weekday_x0_6  Tran_session_of_day_x0_EarlyMorning  \\\n",
       "60658                0.0                                  1.0   \n",
       "31815                1.0                                  0.0   \n",
       "43698                0.0                                  0.0   \n",
       "39830                1.0                                  0.0   \n",
       "41411                0.0                                  0.0   \n",
       "\n",
       "       Tran_session_of_day_x0_Eve  Tran_session_of_day_x0_Midnight  \\\n",
       "60658                         0.0                              0.0   \n",
       "31815                         0.0                              0.0   \n",
       "43698                         1.0                              0.0   \n",
       "39830                         1.0                              0.0   \n",
       "41411                         0.0                              0.0   \n",
       "\n",
       "       Tran_session_of_day_x0_Morning  Tran_session_of_day_x0_Night  \\\n",
       "60658                             0.0                           0.0   \n",
       "31815                             0.0                           0.0   \n",
       "43698                             0.0                           0.0   \n",
       "39830                             0.0                           0.0   \n",
       "41411                             0.0                           0.0   \n",
       "\n",
       "       Tran_session_of_day_x0_Noon  \n",
       "60658                          0.0  \n",
       "31815                          1.0  \n",
       "43698                          0.0  \n",
       "39830                          0.0  \n",
       "41411                          1.0  \n",
       "\n",
       "[5 rows x 40 columns]"
      ]
     },
     "execution_count": 100,
     "metadata": {},
     "output_type": "execute_result"
    }
   ],
   "source": [
    "X_val_final.head()"
   ]
  },
  {
   "cell_type": "code",
   "execution_count": 101,
   "metadata": {},
   "outputs": [
    {
     "data": {
      "text/plain": [
       "Index(['money_transacted', 'payment_method_x0_e_wallet_payments',\n",
       "       'payment_method_x0_other_debit_cards',\n",
       "       'payment_method_x0_sbi_atm_cum_debit_card',\n",
       "       'payment_method_x0_unified_payments_interface',\n",
       "       'payment_method_x0_visa_master_credit_cards',\n",
       "       'payment_method_x0_visa_master_debit_cards',\n",
       "       'partner_category_x0_cat_1', 'partner_category_x0_cat_2',\n",
       "       'partner_category_x0_cat_3', 'partner_category_x0_cat_4',\n",
       "       'partner_category_x0_cat_5', 'partner_category_x0_cat_6',\n",
       "       'partner_category_x0_cat_7', 'partner_category_x0_cat_8',\n",
       "       'device_type_x0_android_devices', 'device_type_x0_ios_devices',\n",
       "       'device_type_x0_other_pcs', 'device_type_x0_windows_pcs',\n",
       "       'partner_pricing_category_x0_0', 'partner_pricing_category_x0_1',\n",
       "       'partner_pricing_category_x0_2', 'partner_pricing_category_x0_4',\n",
       "       'Tran_month_x0_1', 'Tran_month_x0_2', 'Tran_month_x0_11',\n",
       "       'Tran_month_x0_12', 'Tran_weekday_x0_0', 'Tran_weekday_x0_1',\n",
       "       'Tran_weekday_x0_2', 'Tran_weekday_x0_3', 'Tran_weekday_x0_4',\n",
       "       'Tran_weekday_x0_5', 'Tran_weekday_x0_6',\n",
       "       'Tran_session_of_day_x0_EarlyMorning', 'Tran_session_of_day_x0_Eve',\n",
       "       'Tran_session_of_day_x0_Midnight', 'Tran_session_of_day_x0_Morning',\n",
       "       'Tran_session_of_day_x0_Night', 'Tran_session_of_day_x0_Noon'],\n",
       "      dtype='object')"
      ]
     },
     "execution_count": 101,
     "metadata": {},
     "output_type": "execute_result"
    }
   ],
   "source": [
    "X_train_final.columns"
   ]
  },
  {
   "cell_type": "code",
   "execution_count": 102,
   "metadata": {},
   "outputs": [
    {
     "data": {
      "text/plain": [
       "Index(['money_transacted', 'payment_method_x0_e_wallet_payments',\n",
       "       'payment_method_x0_other_debit_cards',\n",
       "       'payment_method_x0_sbi_atm_cum_debit_card',\n",
       "       'payment_method_x0_unified_payments_interface',\n",
       "       'payment_method_x0_visa_master_credit_cards',\n",
       "       'payment_method_x0_visa_master_debit_cards',\n",
       "       'partner_category_x0_cat_1', 'partner_category_x0_cat_2',\n",
       "       'partner_category_x0_cat_3', 'partner_category_x0_cat_4',\n",
       "       'partner_category_x0_cat_5', 'partner_category_x0_cat_6',\n",
       "       'partner_category_x0_cat_7', 'partner_category_x0_cat_8',\n",
       "       'device_type_x0_android_devices', 'device_type_x0_ios_devices',\n",
       "       'device_type_x0_other_pcs', 'device_type_x0_windows_pcs',\n",
       "       'partner_pricing_category_x0_0', 'partner_pricing_category_x0_1',\n",
       "       'partner_pricing_category_x0_2', 'partner_pricing_category_x0_4',\n",
       "       'Tran_month_x0_1', 'Tran_month_x0_2', 'Tran_month_x0_11',\n",
       "       'Tran_month_x0_12', 'Tran_weekday_x0_0', 'Tran_weekday_x0_1',\n",
       "       'Tran_weekday_x0_2', 'Tran_weekday_x0_3', 'Tran_weekday_x0_4',\n",
       "       'Tran_weekday_x0_5', 'Tran_weekday_x0_6',\n",
       "       'Tran_session_of_day_x0_EarlyMorning', 'Tran_session_of_day_x0_Eve',\n",
       "       'Tran_session_of_day_x0_Midnight', 'Tran_session_of_day_x0_Morning',\n",
       "       'Tran_session_of_day_x0_Night', 'Tran_session_of_day_x0_Noon'],\n",
       "      dtype='object')"
      ]
     },
     "execution_count": 102,
     "metadata": {},
     "output_type": "execute_result"
    }
   ],
   "source": [
    "X_val_final.columns"
   ]
  },
  {
   "cell_type": "code",
   "execution_count": 103,
   "metadata": {},
   "outputs": [],
   "source": [
    "def get_CR_CM(train_actual,train_predicted,test_actual,test_predicted):\n",
    "    print('''\n",
    "         ========================================\n",
    "           CLASSIFICATION REPORT FOR TRAIN DATA\n",
    "         ========================================\n",
    "        ''')\n",
    "    print(classification_report(train_actual, train_predicted, digits=4))\n",
    "\n",
    "    print('''\n",
    "             =============================================\n",
    "               CLASSIFICATION REPORT FOR VALIDATION DATA\n",
    "             =============================================\n",
    "            ''')\n",
    "    print(classification_report(test_actual, test_predicted, digits=4))\n",
    "\n",
    "    print('''\n",
    "             ========================================\n",
    "               Confusion Matrix FOR TRAIN DATA\n",
    "             ========================================\n",
    "            ''')\n",
    "    print(confusion_matrix(train_actual, train_predicted))\n",
    "\n",
    "    print('''\n",
    "             =============================================\n",
    "               Confusion matrix FOR VALIDATION DATA\n",
    "             =============================================\n",
    "            ''')\n",
    "    print(confusion_matrix(test_actual, test_predicted))\n",
    "    "
   ]
  },
  {
   "cell_type": "code",
   "execution_count": 104,
   "metadata": {},
   "outputs": [],
   "source": [
    "scores = pd.DataFrame(columns=['Model','Train_Accuracy','Train_Recall','Train_Precision','Train_F1_Score','Test_Accuracy','Test_Recall','Test_Precision','Test_F1_Score'])\n",
    "\n",
    "def get_metrics(train_actual,train_predicted,test_actual,test_predicted,model_description,dataframe):\n",
    "    get_CR_CM(train_actual,train_predicted,test_actual,test_predicted)\n",
    "    train_accuracy = accuracy_score(train_actual,train_predicted)\n",
    "    train_recall   = recall_score(train_actual,train_predicted)\n",
    "    train_precision= precision_score(train_actual,train_predicted)\n",
    "    train_f1score  = f1_score(train_actual,train_predicted)\n",
    "    test_accuracy = accuracy_score(test_actual,test_predicted)\n",
    "    test_recall   = recall_score(test_actual,test_predicted)\n",
    "    test_precision= precision_score(test_actual,test_predicted)\n",
    "    test_f1score  = f1_score(test_actual,test_predicted)\n",
    "    dataframe = dataframe.append(pd.Series([model_description, train_accuracy,train_recall,train_precision,train_f1score,\n",
    "                                            test_accuracy,test_recall,test_precision,test_f1score],\n",
    "                                           index=scores.columns ), ignore_index=True)\n",
    "    return(dataframe)"
   ]
  },
  {
   "cell_type": "markdown",
   "metadata": {},
   "source": [
    "Logistic Regression"
   ]
  },
  {
   "cell_type": "code",
   "execution_count": 105,
   "metadata": {},
   "outputs": [],
   "source": [
    "log_mod = LogisticRegression(random_state=123)"
   ]
  },
  {
   "cell_type": "code",
   "execution_count": 106,
   "metadata": {},
   "outputs": [
    {
     "data": {
      "text/plain": [
       "LogisticRegression(random_state=123)"
      ]
     },
     "execution_count": 106,
     "metadata": {},
     "output_type": "execute_result"
    }
   ],
   "source": [
    "log_mod.fit(X_train_final, y_train)"
   ]
  },
  {
   "cell_type": "code",
   "execution_count": 107,
   "metadata": {},
   "outputs": [],
   "source": [
    "y_pred_train1 = log_mod.predict(X_train_final)\n",
    "y_pred_val1 = log_mod.predict(X_val_final)"
   ]
  },
  {
   "cell_type": "code",
   "execution_count": 108,
   "metadata": {
    "scrolled": false
   },
   "outputs": [
    {
     "name": "stdout",
     "output_type": "stream",
     "text": [
      "\n",
      "         ========================================\n",
      "           CLASSIFICATION REPORT FOR TRAIN DATA\n",
      "         ========================================\n",
      "        \n",
      "              precision    recall  f1-score   support\n",
      "\n",
      "           0     0.9987    0.9997    0.9992     61100\n",
      "           1     0.6613    0.3333    0.4432       123\n",
      "\n",
      "    accuracy                         0.9983     61223\n",
      "   macro avg     0.8300    0.6665    0.7212     61223\n",
      "weighted avg     0.9980    0.9983    0.9980     61223\n",
      "\n",
      "\n",
      "             =============================================\n",
      "               CLASSIFICATION REPORT FOR VALIDATION DATA\n",
      "             =============================================\n",
      "            \n",
      "              precision    recall  f1-score   support\n",
      "\n",
      "           0     0.9986    0.9996    0.9991     15275\n",
      "           1     0.6000    0.2903    0.3913        31\n",
      "\n",
      "    accuracy                         0.9982     15306\n",
      "   macro avg     0.7993    0.6450    0.6952     15306\n",
      "weighted avg     0.9978    0.9982    0.9979     15306\n",
      "\n",
      "\n",
      "             ========================================\n",
      "               Confusion Matrix FOR TRAIN DATA\n",
      "             ========================================\n",
      "            \n",
      "[[61079    21]\n",
      " [   82    41]]\n",
      "\n",
      "             =============================================\n",
      "               Confusion matrix FOR VALIDATION DATA\n",
      "             =============================================\n",
      "            \n",
      "[[15269     6]\n",
      " [   22     9]]\n"
     ]
    },
    {
     "data": {
      "text/html": [
       "<div>\n",
       "<style scoped>\n",
       "    .dataframe tbody tr th:only-of-type {\n",
       "        vertical-align: middle;\n",
       "    }\n",
       "\n",
       "    .dataframe tbody tr th {\n",
       "        vertical-align: top;\n",
       "    }\n",
       "\n",
       "    .dataframe thead th {\n",
       "        text-align: right;\n",
       "    }\n",
       "</style>\n",
       "<table border=\"1\" class=\"dataframe\">\n",
       "  <thead>\n",
       "    <tr style=\"text-align: right;\">\n",
       "      <th></th>\n",
       "      <th>Model</th>\n",
       "      <th>Train_Accuracy</th>\n",
       "      <th>Train_Recall</th>\n",
       "      <th>Train_Precision</th>\n",
       "      <th>Train_F1_Score</th>\n",
       "      <th>Test_Accuracy</th>\n",
       "      <th>Test_Recall</th>\n",
       "      <th>Test_Precision</th>\n",
       "      <th>Test_F1_Score</th>\n",
       "    </tr>\n",
       "  </thead>\n",
       "  <tbody>\n",
       "    <tr>\n",
       "      <th>0</th>\n",
       "      <td>LogisticRegression</td>\n",
       "      <td>0.998318</td>\n",
       "      <td>0.333333</td>\n",
       "      <td>0.66129</td>\n",
       "      <td>0.443243</td>\n",
       "      <td>0.998171</td>\n",
       "      <td>0.290323</td>\n",
       "      <td>0.6</td>\n",
       "      <td>0.391304</td>\n",
       "    </tr>\n",
       "  </tbody>\n",
       "</table>\n",
       "</div>"
      ],
      "text/plain": [
       "                Model  Train_Accuracy  Train_Recall  Train_Precision  \\\n",
       "0  LogisticRegression        0.998318      0.333333          0.66129   \n",
       "\n",
       "   Train_F1_Score  Test_Accuracy  Test_Recall  Test_Precision  Test_F1_Score  \n",
       "0        0.443243       0.998171     0.290323             0.6       0.391304  "
      ]
     },
     "execution_count": 108,
     "metadata": {},
     "output_type": "execute_result"
    }
   ],
   "source": [
    "scores = get_metrics(y_train,y_pred_train1,y_val,y_pred_val1,\"LogisticRegression\",scores)\n",
    "scores"
   ]
  },
  {
   "cell_type": "code",
   "execution_count": 109,
   "metadata": {},
   "outputs": [],
   "source": [
    "y_pred_test1 = log_mod.predict(Test_data_final)"
   ]
  },
  {
   "cell_type": "code",
   "execution_count": 110,
   "metadata": {},
   "outputs": [],
   "source": [
    "predictionLR = pd.DataFrame(y_pred_test1, columns=['predictions']).to_csv('predictionLRc.csv')"
   ]
  },
  {
   "cell_type": "markdown",
   "metadata": {},
   "source": [
    " Logistic Regression with class_weight='balanced'"
   ]
  },
  {
   "cell_type": "code",
   "execution_count": 111,
   "metadata": {},
   "outputs": [],
   "source": [
    "log_mod = LogisticRegression(class_weight='balanced', random_state=123)"
   ]
  },
  {
   "cell_type": "code",
   "execution_count": 112,
   "metadata": {},
   "outputs": [
    {
     "name": "stderr",
     "output_type": "stream",
     "text": [
      "/usr/share/anaconda3/lib/python3.7/site-packages/sklearn/linear_model/_logistic.py:765: ConvergenceWarning: lbfgs failed to converge (status=1):\n",
      "STOP: TOTAL NO. of ITERATIONS REACHED LIMIT.\n",
      "\n",
      "Increase the number of iterations (max_iter) or scale the data as shown in:\n",
      "    https://scikit-learn.org/stable/modules/preprocessing.html\n",
      "Please also refer to the documentation for alternative solver options:\n",
      "    https://scikit-learn.org/stable/modules/linear_model.html#logistic-regression\n",
      "  extra_warning_msg=_LOGISTIC_SOLVER_CONVERGENCE_MSG)\n"
     ]
    },
    {
     "data": {
      "text/plain": [
       "LogisticRegression(class_weight='balanced', random_state=123)"
      ]
     },
     "execution_count": 112,
     "metadata": {},
     "output_type": "execute_result"
    }
   ],
   "source": [
    "log_mod.fit(X_train_final, y_train)"
   ]
  },
  {
   "cell_type": "code",
   "execution_count": 113,
   "metadata": {},
   "outputs": [],
   "source": [
    "y_pred_train2 = log_mod.predict(X_train_final)\n",
    "y_pred_val2 = log_mod.predict(X_val_final)"
   ]
  },
  {
   "cell_type": "code",
   "execution_count": 114,
   "metadata": {
    "scrolled": false
   },
   "outputs": [
    {
     "name": "stdout",
     "output_type": "stream",
     "text": [
      "\n",
      "         ========================================\n",
      "           CLASSIFICATION REPORT FOR TRAIN DATA\n",
      "         ========================================\n",
      "        \n",
      "              precision    recall  f1-score   support\n",
      "\n",
      "           0     0.9999    0.9707    0.9851     61100\n",
      "           1     0.0623    0.9675    0.1171       123\n",
      "\n",
      "    accuracy                         0.9707     61223\n",
      "   macro avg     0.5311    0.9691    0.5511     61223\n",
      "weighted avg     0.9980    0.9707    0.9833     61223\n",
      "\n",
      "\n",
      "             =============================================\n",
      "               CLASSIFICATION REPORT FOR VALIDATION DATA\n",
      "             =============================================\n",
      "            \n",
      "              precision    recall  f1-score   support\n",
      "\n",
      "           0     0.9999    0.9717    0.9856     15275\n",
      "           1     0.0649    0.9677    0.1217        31\n",
      "\n",
      "    accuracy                         0.9717     15306\n",
      "   macro avg     0.5324    0.9697    0.5537     15306\n",
      "weighted avg     0.9980    0.9717    0.9839     15306\n",
      "\n",
      "\n",
      "             ========================================\n",
      "               Confusion Matrix FOR TRAIN DATA\n",
      "             ========================================\n",
      "            \n",
      "[[59309  1791]\n",
      " [    4   119]]\n",
      "\n",
      "             =============================================\n",
      "               Confusion matrix FOR VALIDATION DATA\n",
      "             =============================================\n",
      "            \n",
      "[[14843   432]\n",
      " [    1    30]]\n"
     ]
    },
    {
     "data": {
      "text/html": [
       "<div>\n",
       "<style scoped>\n",
       "    .dataframe tbody tr th:only-of-type {\n",
       "        vertical-align: middle;\n",
       "    }\n",
       "\n",
       "    .dataframe tbody tr th {\n",
       "        vertical-align: top;\n",
       "    }\n",
       "\n",
       "    .dataframe thead th {\n",
       "        text-align: right;\n",
       "    }\n",
       "</style>\n",
       "<table border=\"1\" class=\"dataframe\">\n",
       "  <thead>\n",
       "    <tr style=\"text-align: right;\">\n",
       "      <th></th>\n",
       "      <th>Model</th>\n",
       "      <th>Train_Accuracy</th>\n",
       "      <th>Train_Recall</th>\n",
       "      <th>Train_Precision</th>\n",
       "      <th>Train_F1_Score</th>\n",
       "      <th>Test_Accuracy</th>\n",
       "      <th>Test_Recall</th>\n",
       "      <th>Test_Precision</th>\n",
       "      <th>Test_F1_Score</th>\n",
       "    </tr>\n",
       "  </thead>\n",
       "  <tbody>\n",
       "    <tr>\n",
       "      <th>0</th>\n",
       "      <td>LogisticRegression</td>\n",
       "      <td>0.998318</td>\n",
       "      <td>0.333333</td>\n",
       "      <td>0.661290</td>\n",
       "      <td>0.443243</td>\n",
       "      <td>0.998171</td>\n",
       "      <td>0.290323</td>\n",
       "      <td>0.600000</td>\n",
       "      <td>0.391304</td>\n",
       "    </tr>\n",
       "    <tr>\n",
       "      <th>1</th>\n",
       "      <td>LogisticRegression_Balanced</td>\n",
       "      <td>0.970681</td>\n",
       "      <td>0.967480</td>\n",
       "      <td>0.062304</td>\n",
       "      <td>0.117068</td>\n",
       "      <td>0.971710</td>\n",
       "      <td>0.967742</td>\n",
       "      <td>0.064935</td>\n",
       "      <td>0.121704</td>\n",
       "    </tr>\n",
       "  </tbody>\n",
       "</table>\n",
       "</div>"
      ],
      "text/plain": [
       "                         Model  Train_Accuracy  Train_Recall  Train_Precision  \\\n",
       "0           LogisticRegression        0.998318      0.333333         0.661290   \n",
       "1  LogisticRegression_Balanced        0.970681      0.967480         0.062304   \n",
       "\n",
       "   Train_F1_Score  Test_Accuracy  Test_Recall  Test_Precision  Test_F1_Score  \n",
       "0        0.443243       0.998171     0.290323        0.600000       0.391304  \n",
       "1        0.117068       0.971710     0.967742        0.064935       0.121704  "
      ]
     },
     "execution_count": 114,
     "metadata": {},
     "output_type": "execute_result"
    }
   ],
   "source": [
    "scores = get_metrics(y_train,y_pred_train2,y_val,y_pred_val2,\"LogisticRegression_Balanced\",scores)\n",
    "scores"
   ]
  },
  {
   "cell_type": "code",
   "execution_count": 115,
   "metadata": {},
   "outputs": [],
   "source": [
    "y_pred_test2 = log_mod.predict(Test_data_final)"
   ]
  },
  {
   "cell_type": "code",
   "execution_count": 116,
   "metadata": {},
   "outputs": [],
   "source": [
    "predictionLRW = pd.DataFrame(y_pred_test2, columns=['is_fraud']).to_csv('predictionLRW2.csv')"
   ]
  },
  {
   "cell_type": "markdown",
   "metadata": {},
   "source": [
    "Decision Tree Classifier"
   ]
  },
  {
   "cell_type": "code",
   "execution_count": 117,
   "metadata": {},
   "outputs": [
    {
     "data": {
      "text/plain": [
       "DecisionTreeClassifier(random_state=123)"
      ]
     },
     "execution_count": 117,
     "metadata": {},
     "output_type": "execute_result"
    }
   ],
   "source": [
    "# Create Decision Tree classifer object\n",
    "clf_dt = DecisionTreeClassifier(random_state=123)\n",
    "\n",
    "# Train Decision Tree Classifer\n",
    "clf_dt.fit(X_train_final,y_train)"
   ]
  },
  {
   "cell_type": "code",
   "execution_count": 118,
   "metadata": {},
   "outputs": [],
   "source": [
    "y_pred_train3 = clf_dt.predict(X_train_final)\n",
    "y_pred_val3 = clf_dt.predict(X_val_final)"
   ]
  },
  {
   "cell_type": "code",
   "execution_count": 119,
   "metadata": {
    "scrolled": false
   },
   "outputs": [
    {
     "name": "stdout",
     "output_type": "stream",
     "text": [
      "\n",
      "         ========================================\n",
      "           CLASSIFICATION REPORT FOR TRAIN DATA\n",
      "         ========================================\n",
      "        \n",
      "              precision    recall  f1-score   support\n",
      "\n",
      "           0     1.0000    1.0000    1.0000     61100\n",
      "           1     0.9836    0.9756    0.9796       123\n",
      "\n",
      "    accuracy                         0.9999     61223\n",
      "   macro avg     0.9918    0.9878    0.9898     61223\n",
      "weighted avg     0.9999    0.9999    0.9999     61223\n",
      "\n",
      "\n",
      "             =============================================\n",
      "               CLASSIFICATION REPORT FOR VALIDATION DATA\n",
      "             =============================================\n",
      "            \n",
      "              precision    recall  f1-score   support\n",
      "\n",
      "           0     0.9999    0.9998    0.9999     15275\n",
      "           1     0.9091    0.9677    0.9375        31\n",
      "\n",
      "    accuracy                         0.9997     15306\n",
      "   macro avg     0.9545    0.9838    0.9687     15306\n",
      "weighted avg     0.9998    0.9997    0.9997     15306\n",
      "\n",
      "\n",
      "             ========================================\n",
      "               Confusion Matrix FOR TRAIN DATA\n",
      "             ========================================\n",
      "            \n",
      "[[61098     2]\n",
      " [    3   120]]\n",
      "\n",
      "             =============================================\n",
      "               Confusion matrix FOR VALIDATION DATA\n",
      "             =============================================\n",
      "            \n",
      "[[15272     3]\n",
      " [    1    30]]\n"
     ]
    },
    {
     "data": {
      "text/html": [
       "<div>\n",
       "<style scoped>\n",
       "    .dataframe tbody tr th:only-of-type {\n",
       "        vertical-align: middle;\n",
       "    }\n",
       "\n",
       "    .dataframe tbody tr th {\n",
       "        vertical-align: top;\n",
       "    }\n",
       "\n",
       "    .dataframe thead th {\n",
       "        text-align: right;\n",
       "    }\n",
       "</style>\n",
       "<table border=\"1\" class=\"dataframe\">\n",
       "  <thead>\n",
       "    <tr style=\"text-align: right;\">\n",
       "      <th></th>\n",
       "      <th>Model</th>\n",
       "      <th>Train_Accuracy</th>\n",
       "      <th>Train_Recall</th>\n",
       "      <th>Train_Precision</th>\n",
       "      <th>Train_F1_Score</th>\n",
       "      <th>Test_Accuracy</th>\n",
       "      <th>Test_Recall</th>\n",
       "      <th>Test_Precision</th>\n",
       "      <th>Test_F1_Score</th>\n",
       "    </tr>\n",
       "  </thead>\n",
       "  <tbody>\n",
       "    <tr>\n",
       "      <th>0</th>\n",
       "      <td>LogisticRegression</td>\n",
       "      <td>0.998318</td>\n",
       "      <td>0.333333</td>\n",
       "      <td>0.661290</td>\n",
       "      <td>0.443243</td>\n",
       "      <td>0.998171</td>\n",
       "      <td>0.290323</td>\n",
       "      <td>0.600000</td>\n",
       "      <td>0.391304</td>\n",
       "    </tr>\n",
       "    <tr>\n",
       "      <th>1</th>\n",
       "      <td>LogisticRegression_Balanced</td>\n",
       "      <td>0.970681</td>\n",
       "      <td>0.967480</td>\n",
       "      <td>0.062304</td>\n",
       "      <td>0.117068</td>\n",
       "      <td>0.971710</td>\n",
       "      <td>0.967742</td>\n",
       "      <td>0.064935</td>\n",
       "      <td>0.121704</td>\n",
       "    </tr>\n",
       "    <tr>\n",
       "      <th>2</th>\n",
       "      <td>DecisionTree</td>\n",
       "      <td>0.999918</td>\n",
       "      <td>0.975610</td>\n",
       "      <td>0.983607</td>\n",
       "      <td>0.979592</td>\n",
       "      <td>0.999739</td>\n",
       "      <td>0.967742</td>\n",
       "      <td>0.909091</td>\n",
       "      <td>0.937500</td>\n",
       "    </tr>\n",
       "  </tbody>\n",
       "</table>\n",
       "</div>"
      ],
      "text/plain": [
       "                         Model  Train_Accuracy  Train_Recall  Train_Precision  \\\n",
       "0           LogisticRegression        0.998318      0.333333         0.661290   \n",
       "1  LogisticRegression_Balanced        0.970681      0.967480         0.062304   \n",
       "2                 DecisionTree        0.999918      0.975610         0.983607   \n",
       "\n",
       "   Train_F1_Score  Test_Accuracy  Test_Recall  Test_Precision  Test_F1_Score  \n",
       "0        0.443243       0.998171     0.290323        0.600000       0.391304  \n",
       "1        0.117068       0.971710     0.967742        0.064935       0.121704  \n",
       "2        0.979592       0.999739     0.967742        0.909091       0.937500  "
      ]
     },
     "execution_count": 119,
     "metadata": {},
     "output_type": "execute_result"
    }
   ],
   "source": [
    "scores = get_metrics(y_train,y_pred_train3,y_val,y_pred_val3,\"DecisionTree\",scores)\n",
    "scores"
   ]
  },
  {
   "cell_type": "code",
   "execution_count": 120,
   "metadata": {},
   "outputs": [],
   "source": [
    "y_pred_test3 = clf_dt.predict(Test_data_final)"
   ]
  },
  {
   "cell_type": "code",
   "execution_count": 122,
   "metadata": {},
   "outputs": [],
   "source": [
    "predictionDT = pd.DataFrame(y_pred_test3, columns=['is_fraud']).to_csv('predictionDTc.csv')"
   ]
  },
  {
   "cell_type": "markdown",
   "metadata": {},
   "source": [
    "Decision Tree with RandomizedSearchCV - Hyper-parameter Tuning"
   ]
  },
  {
   "cell_type": "code",
   "execution_count": 123,
   "metadata": {},
   "outputs": [],
   "source": [
    "from sklearn.model_selection import RandomizedSearchCV\n",
    "from scipy.stats import uniform, truncnorm, randint\n",
    "\n",
    "clf3_dt = DecisionTreeClassifier(random_state=123, class_weight='balanced') "
   ]
  },
  {
   "cell_type": "code",
   "execution_count": 124,
   "metadata": {},
   "outputs": [
    {
     "name": "stdout",
     "output_type": "stream",
     "text": [
      "[4 5 3 4 4]\n",
      "[2 4 2 4]\n",
      "[3 4 2 2 2]\n"
     ]
    }
   ],
   "source": [
    "max_leaf_nodes = np.random.normal(loc=5, scale=1, size=5).astype(int)\n",
    "max_leaf_nodes[max_leaf_nodes <1] = 1\n",
    "print(max_leaf_nodes)\n",
    "max_depth = np.random.uniform(2,5,4).astype(int)\n",
    "print(max_depth)\n",
    "min_samples_split = np.random.uniform(2, 6, 5).astype(int)\n",
    "print(min_samples_split)"
   ]
  },
  {
   "cell_type": "code",
   "execution_count": 125,
   "metadata": {},
   "outputs": [],
   "source": [
    "## Set Up Hyperparameter Distributions\n",
    "\n",
    "# normally distributed max_leaf_nodes, with mean 5 stddev 1\n",
    "max_leaf_nodes = np.random.normal(loc=5, scale=1, size=5).astype(int)\n",
    "\n",
    "# uniform distribution from 2 to 5 \n",
    "max_depth = np.random.uniform(2,5,4).astype(int)\n",
    "\n",
    "# uniform distribution from 2 to 6\n",
    "min_samples_split = np.random.uniform(2, 6, 5).astype(int)\n",
    "\n",
    "model_params = {\n",
    "    'max_depth': list(max_depth),\n",
    "    'max_leaf_nodes': list(max_leaf_nodes),\n",
    "    'min_samples_split': list(min_samples_split)\n",
    "}"
   ]
  },
  {
   "cell_type": "code",
   "execution_count": 126,
   "metadata": {},
   "outputs": [
    {
     "name": "stderr",
     "output_type": "stream",
     "text": [
      "/usr/share/anaconda3/lib/python3.7/site-packages/sklearn/model_selection/_search.py:289: UserWarning: The total space of parameters 100 is smaller than n_iter=600. Running 100 iterations. For exhaustive searches, use GridSearchCV.\n",
      "  % (grid_size, self.n_iter, grid_size), UserWarning)\n"
     ]
    },
    {
     "data": {
      "text/plain": [
       "RandomizedSearchCV(cv=5,\n",
       "                   estimator=DecisionTreeClassifier(class_weight='balanced',\n",
       "                                                    random_state=123),\n",
       "                   n_iter=600, n_jobs=-1,\n",
       "                   param_distributions={'max_depth': [3, 2, 2, 3],\n",
       "                                        'max_leaf_nodes': [4, 3, 4, 5, 3],\n",
       "                                        'min_samples_split': [2, 5, 2, 5, 2]},\n",
       "                   scoring='recall')"
      ]
     },
     "execution_count": 126,
     "metadata": {},
     "output_type": "execute_result"
    }
   ],
   "source": [
    "clf_random = RandomizedSearchCV(estimator=clf3_dt, param_distributions=model_params, n_iter=600, cv=5, scoring='recall', n_jobs=-1)\n",
    "clf_random.fit(X_train_final, y_train)"
   ]
  },
  {
   "cell_type": "code",
   "execution_count": 127,
   "metadata": {},
   "outputs": [
    {
     "name": "stdout",
     "output_type": "stream",
     "text": [
      "0.984 {'min_samples_split': 2, 'max_leaf_nodes': 4, 'max_depth': 3}\n"
     ]
    }
   ],
   "source": [
    "print(clf_random.best_score_, clf_random.best_params_)"
   ]
  },
  {
   "cell_type": "code",
   "execution_count": 128,
   "metadata": {},
   "outputs": [
    {
     "name": "stdout",
     "output_type": "stream",
     "text": [
      "DecisionTreeClassifier(class_weight='balanced', max_depth=3, max_leaf_nodes=4,\n",
      "                       random_state=123)\n"
     ]
    }
   ],
   "source": [
    "clf_dt_random = clf_random.best_estimator_\n",
    "print(clf_dt_random)"
   ]
  },
  {
   "cell_type": "code",
   "execution_count": 129,
   "metadata": {},
   "outputs": [],
   "source": [
    "y_pred_train4 = clf_dt_random.predict(X_train_final)\n",
    "y_pred_val4 = clf_dt_random.predict(X_val_final)"
   ]
  },
  {
   "cell_type": "code",
   "execution_count": 130,
   "metadata": {},
   "outputs": [
    {
     "name": "stdout",
     "output_type": "stream",
     "text": [
      "\n",
      "         ========================================\n",
      "           CLASSIFICATION REPORT FOR TRAIN DATA\n",
      "         ========================================\n",
      "        \n",
      "              precision    recall  f1-score   support\n",
      "\n",
      "           0     1.0000    0.9930    0.9965     61100\n",
      "           1     0.2204    0.9837    0.3601       123\n",
      "\n",
      "    accuracy                         0.9930     61223\n",
      "   macro avg     0.6102    0.9884    0.6783     61223\n",
      "weighted avg     0.9984    0.9930    0.9952     61223\n",
      "\n",
      "\n",
      "             =============================================\n",
      "               CLASSIFICATION REPORT FOR VALIDATION DATA\n",
      "             =============================================\n",
      "            \n",
      "              precision    recall  f1-score   support\n",
      "\n",
      "           0     0.9999    0.9937    0.9968     15275\n",
      "           1     0.2381    0.9677    0.3822        31\n",
      "\n",
      "    accuracy                         0.9937     15306\n",
      "   macro avg     0.6190    0.9807    0.6895     15306\n",
      "weighted avg     0.9984    0.9937    0.9956     15306\n",
      "\n",
      "\n",
      "             ========================================\n",
      "               Confusion Matrix FOR TRAIN DATA\n",
      "             ========================================\n",
      "            \n",
      "[[60672   428]\n",
      " [    2   121]]\n",
      "\n",
      "             =============================================\n",
      "               Confusion matrix FOR VALIDATION DATA\n",
      "             =============================================\n",
      "            \n",
      "[[15179    96]\n",
      " [    1    30]]\n"
     ]
    },
    {
     "data": {
      "text/html": [
       "<div>\n",
       "<style scoped>\n",
       "    .dataframe tbody tr th:only-of-type {\n",
       "        vertical-align: middle;\n",
       "    }\n",
       "\n",
       "    .dataframe tbody tr th {\n",
       "        vertical-align: top;\n",
       "    }\n",
       "\n",
       "    .dataframe thead th {\n",
       "        text-align: right;\n",
       "    }\n",
       "</style>\n",
       "<table border=\"1\" class=\"dataframe\">\n",
       "  <thead>\n",
       "    <tr style=\"text-align: right;\">\n",
       "      <th></th>\n",
       "      <th>Model</th>\n",
       "      <th>Train_Accuracy</th>\n",
       "      <th>Train_Recall</th>\n",
       "      <th>Train_Precision</th>\n",
       "      <th>Train_F1_Score</th>\n",
       "      <th>Test_Accuracy</th>\n",
       "      <th>Test_Recall</th>\n",
       "      <th>Test_Precision</th>\n",
       "      <th>Test_F1_Score</th>\n",
       "    </tr>\n",
       "  </thead>\n",
       "  <tbody>\n",
       "    <tr>\n",
       "      <th>0</th>\n",
       "      <td>LogisticRegression</td>\n",
       "      <td>0.998318</td>\n",
       "      <td>0.333333</td>\n",
       "      <td>0.661290</td>\n",
       "      <td>0.443243</td>\n",
       "      <td>0.998171</td>\n",
       "      <td>0.290323</td>\n",
       "      <td>0.600000</td>\n",
       "      <td>0.391304</td>\n",
       "    </tr>\n",
       "    <tr>\n",
       "      <th>1</th>\n",
       "      <td>LogisticRegression_Balanced</td>\n",
       "      <td>0.970681</td>\n",
       "      <td>0.967480</td>\n",
       "      <td>0.062304</td>\n",
       "      <td>0.117068</td>\n",
       "      <td>0.971710</td>\n",
       "      <td>0.967742</td>\n",
       "      <td>0.064935</td>\n",
       "      <td>0.121704</td>\n",
       "    </tr>\n",
       "    <tr>\n",
       "      <th>2</th>\n",
       "      <td>DecisionTree</td>\n",
       "      <td>0.999918</td>\n",
       "      <td>0.975610</td>\n",
       "      <td>0.983607</td>\n",
       "      <td>0.979592</td>\n",
       "      <td>0.999739</td>\n",
       "      <td>0.967742</td>\n",
       "      <td>0.909091</td>\n",
       "      <td>0.937500</td>\n",
       "    </tr>\n",
       "    <tr>\n",
       "      <th>3</th>\n",
       "      <td>DecisionTree_BestParameters</td>\n",
       "      <td>0.992976</td>\n",
       "      <td>0.983740</td>\n",
       "      <td>0.220401</td>\n",
       "      <td>0.360119</td>\n",
       "      <td>0.993663</td>\n",
       "      <td>0.967742</td>\n",
       "      <td>0.238095</td>\n",
       "      <td>0.382166</td>\n",
       "    </tr>\n",
       "  </tbody>\n",
       "</table>\n",
       "</div>"
      ],
      "text/plain": [
       "                         Model  Train_Accuracy  Train_Recall  Train_Precision  \\\n",
       "0           LogisticRegression        0.998318      0.333333         0.661290   \n",
       "1  LogisticRegression_Balanced        0.970681      0.967480         0.062304   \n",
       "2                 DecisionTree        0.999918      0.975610         0.983607   \n",
       "3  DecisionTree_BestParameters        0.992976      0.983740         0.220401   \n",
       "\n",
       "   Train_F1_Score  Test_Accuracy  Test_Recall  Test_Precision  Test_F1_Score  \n",
       "0        0.443243       0.998171     0.290323        0.600000       0.391304  \n",
       "1        0.117068       0.971710     0.967742        0.064935       0.121704  \n",
       "2        0.979592       0.999739     0.967742        0.909091       0.937500  \n",
       "3        0.360119       0.993663     0.967742        0.238095       0.382166  "
      ]
     },
     "execution_count": 130,
     "metadata": {},
     "output_type": "execute_result"
    }
   ],
   "source": [
    "scores = get_metrics(y_train,y_pred_train4,y_val,y_pred_val4,\"DecisionTree_BestParameters\",scores)\n",
    "scores"
   ]
  },
  {
   "cell_type": "markdown",
   "metadata": {},
   "source": [
    "Adaboost Classifier"
   ]
  },
  {
   "cell_type": "code",
   "execution_count": 132,
   "metadata": {},
   "outputs": [
    {
     "data": {
      "text/plain": [
       "AdaBoostClassifier(base_estimator=DecisionTreeClassifier(class_weight='balanced'),\n",
       "                   learning_rate=0.4, n_estimators=100, random_state=123)"
      ]
     },
     "execution_count": 132,
     "metadata": {},
     "output_type": "execute_result"
    }
   ],
   "source": [
    "clf_ada = AdaBoostClassifier(DecisionTreeClassifier(criterion=\"gini\",class_weight='balanced'),n_estimators=100,learning_rate = 0.4,random_state=123)\n",
    "clf_ada.fit(X_train_final, y_train)"
   ]
  },
  {
   "cell_type": "code",
   "execution_count": 133,
   "metadata": {},
   "outputs": [],
   "source": [
    "y_pred_train5 = clf_ada.predict(X_train_final)\n",
    "y_pred_val5 = clf_ada.predict(X_val_final)"
   ]
  },
  {
   "cell_type": "code",
   "execution_count": 134,
   "metadata": {
    "scrolled": false
   },
   "outputs": [
    {
     "name": "stdout",
     "output_type": "stream",
     "text": [
      "\n",
      "         ========================================\n",
      "           CLASSIFICATION REPORT FOR TRAIN DATA\n",
      "         ========================================\n",
      "        \n",
      "              precision    recall  f1-score   support\n",
      "\n",
      "           0     1.0000    0.9999    1.0000     61100\n",
      "           1     0.9609    1.0000    0.9801       123\n",
      "\n",
      "    accuracy                         0.9999     61223\n",
      "   macro avg     0.9805    1.0000    0.9900     61223\n",
      "weighted avg     0.9999    0.9999    0.9999     61223\n",
      "\n",
      "\n",
      "             =============================================\n",
      "               CLASSIFICATION REPORT FOR VALIDATION DATA\n",
      "             =============================================\n",
      "            \n",
      "              precision    recall  f1-score   support\n",
      "\n",
      "           0     0.9997    0.9997    0.9997     15275\n",
      "           1     0.8387    0.8387    0.8387        31\n",
      "\n",
      "    accuracy                         0.9993     15306\n",
      "   macro avg     0.9192    0.9192    0.9192     15306\n",
      "weighted avg     0.9993    0.9993    0.9993     15306\n",
      "\n",
      "\n",
      "             ========================================\n",
      "               Confusion Matrix FOR TRAIN DATA\n",
      "             ========================================\n",
      "            \n",
      "[[61095     5]\n",
      " [    0   123]]\n",
      "\n",
      "             =============================================\n",
      "               Confusion matrix FOR VALIDATION DATA\n",
      "             =============================================\n",
      "            \n",
      "[[15270     5]\n",
      " [    5    26]]\n"
     ]
    },
    {
     "data": {
      "text/html": [
       "<div>\n",
       "<style scoped>\n",
       "    .dataframe tbody tr th:only-of-type {\n",
       "        vertical-align: middle;\n",
       "    }\n",
       "\n",
       "    .dataframe tbody tr th {\n",
       "        vertical-align: top;\n",
       "    }\n",
       "\n",
       "    .dataframe thead th {\n",
       "        text-align: right;\n",
       "    }\n",
       "</style>\n",
       "<table border=\"1\" class=\"dataframe\">\n",
       "  <thead>\n",
       "    <tr style=\"text-align: right;\">\n",
       "      <th></th>\n",
       "      <th>Model</th>\n",
       "      <th>Train_Accuracy</th>\n",
       "      <th>Train_Recall</th>\n",
       "      <th>Train_Precision</th>\n",
       "      <th>Train_F1_Score</th>\n",
       "      <th>Test_Accuracy</th>\n",
       "      <th>Test_Recall</th>\n",
       "      <th>Test_Precision</th>\n",
       "      <th>Test_F1_Score</th>\n",
       "    </tr>\n",
       "  </thead>\n",
       "  <tbody>\n",
       "    <tr>\n",
       "      <th>0</th>\n",
       "      <td>LogisticRegression</td>\n",
       "      <td>0.998318</td>\n",
       "      <td>0.333333</td>\n",
       "      <td>0.661290</td>\n",
       "      <td>0.443243</td>\n",
       "      <td>0.998171</td>\n",
       "      <td>0.290323</td>\n",
       "      <td>0.600000</td>\n",
       "      <td>0.391304</td>\n",
       "    </tr>\n",
       "    <tr>\n",
       "      <th>1</th>\n",
       "      <td>LogisticRegression_Balanced</td>\n",
       "      <td>0.970681</td>\n",
       "      <td>0.967480</td>\n",
       "      <td>0.062304</td>\n",
       "      <td>0.117068</td>\n",
       "      <td>0.971710</td>\n",
       "      <td>0.967742</td>\n",
       "      <td>0.064935</td>\n",
       "      <td>0.121704</td>\n",
       "    </tr>\n",
       "    <tr>\n",
       "      <th>2</th>\n",
       "      <td>DecisionTree</td>\n",
       "      <td>0.999918</td>\n",
       "      <td>0.975610</td>\n",
       "      <td>0.983607</td>\n",
       "      <td>0.979592</td>\n",
       "      <td>0.999739</td>\n",
       "      <td>0.967742</td>\n",
       "      <td>0.909091</td>\n",
       "      <td>0.937500</td>\n",
       "    </tr>\n",
       "    <tr>\n",
       "      <th>3</th>\n",
       "      <td>DecisionTree_BestParameters</td>\n",
       "      <td>0.992976</td>\n",
       "      <td>0.983740</td>\n",
       "      <td>0.220401</td>\n",
       "      <td>0.360119</td>\n",
       "      <td>0.993663</td>\n",
       "      <td>0.967742</td>\n",
       "      <td>0.238095</td>\n",
       "      <td>0.382166</td>\n",
       "    </tr>\n",
       "    <tr>\n",
       "      <th>4</th>\n",
       "      <td>Adaboost</td>\n",
       "      <td>0.999918</td>\n",
       "      <td>1.000000</td>\n",
       "      <td>0.960938</td>\n",
       "      <td>0.980080</td>\n",
       "      <td>0.999347</td>\n",
       "      <td>0.838710</td>\n",
       "      <td>0.838710</td>\n",
       "      <td>0.838710</td>\n",
       "    </tr>\n",
       "  </tbody>\n",
       "</table>\n",
       "</div>"
      ],
      "text/plain": [
       "                         Model  Train_Accuracy  Train_Recall  Train_Precision  \\\n",
       "0           LogisticRegression        0.998318      0.333333         0.661290   \n",
       "1  LogisticRegression_Balanced        0.970681      0.967480         0.062304   \n",
       "2                 DecisionTree        0.999918      0.975610         0.983607   \n",
       "3  DecisionTree_BestParameters        0.992976      0.983740         0.220401   \n",
       "4                     Adaboost        0.999918      1.000000         0.960938   \n",
       "\n",
       "   Train_F1_Score  Test_Accuracy  Test_Recall  Test_Precision  Test_F1_Score  \n",
       "0        0.443243       0.998171     0.290323        0.600000       0.391304  \n",
       "1        0.117068       0.971710     0.967742        0.064935       0.121704  \n",
       "2        0.979592       0.999739     0.967742        0.909091       0.937500  \n",
       "3        0.360119       0.993663     0.967742        0.238095       0.382166  \n",
       "4        0.980080       0.999347     0.838710        0.838710       0.838710  "
      ]
     },
     "execution_count": 134,
     "metadata": {},
     "output_type": "execute_result"
    }
   ],
   "source": [
    "scores = get_metrics(y_train,y_pred_train5,y_val,y_pred_val5,\"Adaboost\",scores)\n",
    "scores"
   ]
  },
  {
   "cell_type": "markdown",
   "metadata": {},
   "source": [
    "Adaboost Classifier with Grid Search CV"
   ]
  },
  {
   "cell_type": "code",
   "execution_count": null,
   "metadata": {},
   "outputs": [],
   "source": [
    "# GridSearchCV\n",
    "param_grid = {'n_estimators' : [100, 200, 300],\n",
    "              'learning_rate' : [0.2, 0.3, 0.4]}\n",
    "\n",
    "clf_grid_ada = GridSearchCV(AdaBoostClassifier(DecisionTreeClassifier()), param_grid, scoring='recall',n_jobs=-1)\n"
   ]
  },
  {
   "cell_type": "code",
   "execution_count": null,
   "metadata": {},
   "outputs": [],
   "source": [
    "clf_grid_ada.fit(Train_data_final, Train_data_y)"
   ]
  },
  {
   "cell_type": "code",
   "execution_count": null,
   "metadata": {},
   "outputs": [],
   "source": [
    "best_ada_model = clf_grid_ada.best_estimator_\n",
    "print(best_ada_model)\n",
    "print (clf_grid_ada.best_score_, clf_grid_ada.best_params_) "
   ]
  },
  {
   "cell_type": "code",
   "execution_count": null,
   "metadata": {},
   "outputs": [],
   "source": [
    "y_pred_train = best_ada_model.predict(Train_data_final)\n",
    "y_pred_val = best_ada_model.predict(Test_data_final)"
   ]
  },
  {
   "cell_type": "code",
   "execution_count": null,
   "metadata": {},
   "outputs": [],
   "source": []
  },
  {
   "cell_type": "markdown",
   "metadata": {},
   "source": [
    "Gradient Boosting Classifier"
   ]
  },
  {
   "cell_type": "code",
   "execution_count": 135,
   "metadata": {},
   "outputs": [],
   "source": [
    "clf_GBM = GradientBoostingClassifier(n_estimators=50,\n",
    "                                       learning_rate=0.3,\n",
    "                                       subsample=0.8)"
   ]
  },
  {
   "cell_type": "code",
   "execution_count": 136,
   "metadata": {},
   "outputs": [
    {
     "data": {
      "text/plain": [
       "GradientBoostingClassifier(learning_rate=0.3, n_estimators=50, subsample=0.8)"
      ]
     },
     "execution_count": 136,
     "metadata": {},
     "output_type": "execute_result"
    }
   ],
   "source": [
    "clf_GBM.fit(X=X_train_final, y=y_train)"
   ]
  },
  {
   "cell_type": "code",
   "execution_count": 137,
   "metadata": {},
   "outputs": [],
   "source": [
    "y_pred_train6 = clf_GBM.predict(X_train_final)\n",
    "y_pred_val6 = clf_GBM.predict(X_val_final)"
   ]
  },
  {
   "cell_type": "code",
   "execution_count": 138,
   "metadata": {
    "scrolled": false
   },
   "outputs": [
    {
     "name": "stdout",
     "output_type": "stream",
     "text": [
      "\n",
      "         ========================================\n",
      "           CLASSIFICATION REPORT FOR TRAIN DATA\n",
      "         ========================================\n",
      "        \n",
      "              precision    recall  f1-score   support\n",
      "\n",
      "           0     0.9991    1.0000    0.9995     61100\n",
      "           1     0.9855    0.5528    0.7083       123\n",
      "\n",
      "    accuracy                         0.9991     61223\n",
      "   macro avg     0.9923    0.7764    0.8539     61223\n",
      "weighted avg     0.9991    0.9991    0.9990     61223\n",
      "\n",
      "\n",
      "             =============================================\n",
      "               CLASSIFICATION REPORT FOR VALIDATION DATA\n",
      "             =============================================\n",
      "            \n",
      "              precision    recall  f1-score   support\n",
      "\n",
      "           0     0.9993    0.9999    0.9996     15275\n",
      "           1     0.9524    0.6452    0.7692        31\n",
      "\n",
      "    accuracy                         0.9992     15306\n",
      "   macro avg     0.9758    0.8225    0.8844     15306\n",
      "weighted avg     0.9992    0.9992    0.9991     15306\n",
      "\n",
      "\n",
      "             ========================================\n",
      "               Confusion Matrix FOR TRAIN DATA\n",
      "             ========================================\n",
      "            \n",
      "[[61099     1]\n",
      " [   55    68]]\n",
      "\n",
      "             =============================================\n",
      "               Confusion matrix FOR VALIDATION DATA\n",
      "             =============================================\n",
      "            \n",
      "[[15274     1]\n",
      " [   11    20]]\n"
     ]
    },
    {
     "data": {
      "text/html": [
       "<div>\n",
       "<style scoped>\n",
       "    .dataframe tbody tr th:only-of-type {\n",
       "        vertical-align: middle;\n",
       "    }\n",
       "\n",
       "    .dataframe tbody tr th {\n",
       "        vertical-align: top;\n",
       "    }\n",
       "\n",
       "    .dataframe thead th {\n",
       "        text-align: right;\n",
       "    }\n",
       "</style>\n",
       "<table border=\"1\" class=\"dataframe\">\n",
       "  <thead>\n",
       "    <tr style=\"text-align: right;\">\n",
       "      <th></th>\n",
       "      <th>Model</th>\n",
       "      <th>Train_Accuracy</th>\n",
       "      <th>Train_Recall</th>\n",
       "      <th>Train_Precision</th>\n",
       "      <th>Train_F1_Score</th>\n",
       "      <th>Test_Accuracy</th>\n",
       "      <th>Test_Recall</th>\n",
       "      <th>Test_Precision</th>\n",
       "      <th>Test_F1_Score</th>\n",
       "    </tr>\n",
       "  </thead>\n",
       "  <tbody>\n",
       "    <tr>\n",
       "      <th>0</th>\n",
       "      <td>LogisticRegression</td>\n",
       "      <td>0.998318</td>\n",
       "      <td>0.333333</td>\n",
       "      <td>0.661290</td>\n",
       "      <td>0.443243</td>\n",
       "      <td>0.998171</td>\n",
       "      <td>0.290323</td>\n",
       "      <td>0.600000</td>\n",
       "      <td>0.391304</td>\n",
       "    </tr>\n",
       "    <tr>\n",
       "      <th>1</th>\n",
       "      <td>LogisticRegression_Balanced</td>\n",
       "      <td>0.970681</td>\n",
       "      <td>0.967480</td>\n",
       "      <td>0.062304</td>\n",
       "      <td>0.117068</td>\n",
       "      <td>0.971710</td>\n",
       "      <td>0.967742</td>\n",
       "      <td>0.064935</td>\n",
       "      <td>0.121704</td>\n",
       "    </tr>\n",
       "    <tr>\n",
       "      <th>2</th>\n",
       "      <td>DecisionTree</td>\n",
       "      <td>0.999918</td>\n",
       "      <td>0.975610</td>\n",
       "      <td>0.983607</td>\n",
       "      <td>0.979592</td>\n",
       "      <td>0.999739</td>\n",
       "      <td>0.967742</td>\n",
       "      <td>0.909091</td>\n",
       "      <td>0.937500</td>\n",
       "    </tr>\n",
       "    <tr>\n",
       "      <th>3</th>\n",
       "      <td>DecisionTree_BestParameters</td>\n",
       "      <td>0.992976</td>\n",
       "      <td>0.983740</td>\n",
       "      <td>0.220401</td>\n",
       "      <td>0.360119</td>\n",
       "      <td>0.993663</td>\n",
       "      <td>0.967742</td>\n",
       "      <td>0.238095</td>\n",
       "      <td>0.382166</td>\n",
       "    </tr>\n",
       "    <tr>\n",
       "      <th>4</th>\n",
       "      <td>Adaboost</td>\n",
       "      <td>0.999918</td>\n",
       "      <td>1.000000</td>\n",
       "      <td>0.960938</td>\n",
       "      <td>0.980080</td>\n",
       "      <td>0.999347</td>\n",
       "      <td>0.838710</td>\n",
       "      <td>0.838710</td>\n",
       "      <td>0.838710</td>\n",
       "    </tr>\n",
       "    <tr>\n",
       "      <th>5</th>\n",
       "      <td>GBM</td>\n",
       "      <td>0.999085</td>\n",
       "      <td>0.552846</td>\n",
       "      <td>0.985507</td>\n",
       "      <td>0.708333</td>\n",
       "      <td>0.999216</td>\n",
       "      <td>0.645161</td>\n",
       "      <td>0.952381</td>\n",
       "      <td>0.769231</td>\n",
       "    </tr>\n",
       "  </tbody>\n",
       "</table>\n",
       "</div>"
      ],
      "text/plain": [
       "                         Model  Train_Accuracy  Train_Recall  Train_Precision  \\\n",
       "0           LogisticRegression        0.998318      0.333333         0.661290   \n",
       "1  LogisticRegression_Balanced        0.970681      0.967480         0.062304   \n",
       "2                 DecisionTree        0.999918      0.975610         0.983607   \n",
       "3  DecisionTree_BestParameters        0.992976      0.983740         0.220401   \n",
       "4                     Adaboost        0.999918      1.000000         0.960938   \n",
       "5                          GBM        0.999085      0.552846         0.985507   \n",
       "\n",
       "   Train_F1_Score  Test_Accuracy  Test_Recall  Test_Precision  Test_F1_Score  \n",
       "0        0.443243       0.998171     0.290323        0.600000       0.391304  \n",
       "1        0.117068       0.971710     0.967742        0.064935       0.121704  \n",
       "2        0.979592       0.999739     0.967742        0.909091       0.937500  \n",
       "3        0.360119       0.993663     0.967742        0.238095       0.382166  \n",
       "4        0.980080       0.999347     0.838710        0.838710       0.838710  \n",
       "5        0.708333       0.999216     0.645161        0.952381       0.769231  "
      ]
     },
     "execution_count": 138,
     "metadata": {},
     "output_type": "execute_result"
    }
   ],
   "source": [
    "scores = get_metrics(y_train,y_pred_train6,y_val,y_pred_val6,\"GBM\",scores)\n",
    "scores"
   ]
  },
  {
   "cell_type": "code",
   "execution_count": 139,
   "metadata": {},
   "outputs": [],
   "source": [
    "predictionGBM = pd.DataFrame(y_pred_val6, columns=['is_fraud']).to_csv('predictionGBM.csv')"
   ]
  },
  {
   "cell_type": "markdown",
   "metadata": {},
   "source": [
    "Random forest"
   ]
  },
  {
   "cell_type": "code",
   "execution_count": 140,
   "metadata": {},
   "outputs": [],
   "source": [
    "RF = RandomForestClassifier(n_estimators=100)"
   ]
  },
  {
   "cell_type": "code",
   "execution_count": 141,
   "metadata": {},
   "outputs": [
    {
     "data": {
      "text/plain": [
       "RandomForestClassifier()"
      ]
     },
     "execution_count": 141,
     "metadata": {},
     "output_type": "execute_result"
    }
   ],
   "source": [
    "RF.fit(X_train_final, y_train)"
   ]
  },
  {
   "cell_type": "code",
   "execution_count": 142,
   "metadata": {},
   "outputs": [],
   "source": [
    "y_pred_train7 = RF.predict(X_train_final)\n",
    "y_pred_val7 = RF.predict(X_val_final)"
   ]
  },
  {
   "cell_type": "code",
   "execution_count": 143,
   "metadata": {},
   "outputs": [
    {
     "name": "stdout",
     "output_type": "stream",
     "text": [
      "\n",
      "         ========================================\n",
      "           CLASSIFICATION REPORT FOR TRAIN DATA\n",
      "         ========================================\n",
      "        \n",
      "              precision    recall  f1-score   support\n",
      "\n",
      "           0     1.0000    1.0000    1.0000     61100\n",
      "           1     0.9758    0.9837    0.9798       123\n",
      "\n",
      "    accuracy                         0.9999     61223\n",
      "   macro avg     0.9879    0.9918    0.9899     61223\n",
      "weighted avg     0.9999    0.9999    0.9999     61223\n",
      "\n",
      "\n",
      "             =============================================\n",
      "               CLASSIFICATION REPORT FOR VALIDATION DATA\n",
      "             =============================================\n",
      "            \n",
      "              precision    recall  f1-score   support\n",
      "\n",
      "           0     0.9997    0.9997    0.9997     15275\n",
      "           1     0.8667    0.8387    0.8525        31\n",
      "\n",
      "    accuracy                         0.9994     15306\n",
      "   macro avg     0.9332    0.9192    0.9261     15306\n",
      "weighted avg     0.9994    0.9994    0.9994     15306\n",
      "\n",
      "\n",
      "             ========================================\n",
      "               Confusion Matrix FOR TRAIN DATA\n",
      "             ========================================\n",
      "            \n",
      "[[61097     3]\n",
      " [    2   121]]\n",
      "\n",
      "             =============================================\n",
      "               Confusion matrix FOR VALIDATION DATA\n",
      "             =============================================\n",
      "            \n",
      "[[15271     4]\n",
      " [    5    26]]\n"
     ]
    },
    {
     "data": {
      "text/html": [
       "<div>\n",
       "<style scoped>\n",
       "    .dataframe tbody tr th:only-of-type {\n",
       "        vertical-align: middle;\n",
       "    }\n",
       "\n",
       "    .dataframe tbody tr th {\n",
       "        vertical-align: top;\n",
       "    }\n",
       "\n",
       "    .dataframe thead th {\n",
       "        text-align: right;\n",
       "    }\n",
       "</style>\n",
       "<table border=\"1\" class=\"dataframe\">\n",
       "  <thead>\n",
       "    <tr style=\"text-align: right;\">\n",
       "      <th></th>\n",
       "      <th>Model</th>\n",
       "      <th>Train_Accuracy</th>\n",
       "      <th>Train_Recall</th>\n",
       "      <th>Train_Precision</th>\n",
       "      <th>Train_F1_Score</th>\n",
       "      <th>Test_Accuracy</th>\n",
       "      <th>Test_Recall</th>\n",
       "      <th>Test_Precision</th>\n",
       "      <th>Test_F1_Score</th>\n",
       "    </tr>\n",
       "  </thead>\n",
       "  <tbody>\n",
       "    <tr>\n",
       "      <th>0</th>\n",
       "      <td>LogisticRegression</td>\n",
       "      <td>0.998318</td>\n",
       "      <td>0.333333</td>\n",
       "      <td>0.661290</td>\n",
       "      <td>0.443243</td>\n",
       "      <td>0.998171</td>\n",
       "      <td>0.290323</td>\n",
       "      <td>0.600000</td>\n",
       "      <td>0.391304</td>\n",
       "    </tr>\n",
       "    <tr>\n",
       "      <th>1</th>\n",
       "      <td>LogisticRegression_Balanced</td>\n",
       "      <td>0.970681</td>\n",
       "      <td>0.967480</td>\n",
       "      <td>0.062304</td>\n",
       "      <td>0.117068</td>\n",
       "      <td>0.971710</td>\n",
       "      <td>0.967742</td>\n",
       "      <td>0.064935</td>\n",
       "      <td>0.121704</td>\n",
       "    </tr>\n",
       "    <tr>\n",
       "      <th>2</th>\n",
       "      <td>DecisionTree</td>\n",
       "      <td>0.999918</td>\n",
       "      <td>0.975610</td>\n",
       "      <td>0.983607</td>\n",
       "      <td>0.979592</td>\n",
       "      <td>0.999739</td>\n",
       "      <td>0.967742</td>\n",
       "      <td>0.909091</td>\n",
       "      <td>0.937500</td>\n",
       "    </tr>\n",
       "    <tr>\n",
       "      <th>3</th>\n",
       "      <td>DecisionTree_BestParameters</td>\n",
       "      <td>0.992976</td>\n",
       "      <td>0.983740</td>\n",
       "      <td>0.220401</td>\n",
       "      <td>0.360119</td>\n",
       "      <td>0.993663</td>\n",
       "      <td>0.967742</td>\n",
       "      <td>0.238095</td>\n",
       "      <td>0.382166</td>\n",
       "    </tr>\n",
       "    <tr>\n",
       "      <th>4</th>\n",
       "      <td>Adaboost</td>\n",
       "      <td>0.999918</td>\n",
       "      <td>1.000000</td>\n",
       "      <td>0.960938</td>\n",
       "      <td>0.980080</td>\n",
       "      <td>0.999347</td>\n",
       "      <td>0.838710</td>\n",
       "      <td>0.838710</td>\n",
       "      <td>0.838710</td>\n",
       "    </tr>\n",
       "    <tr>\n",
       "      <th>5</th>\n",
       "      <td>GBM</td>\n",
       "      <td>0.999085</td>\n",
       "      <td>0.552846</td>\n",
       "      <td>0.985507</td>\n",
       "      <td>0.708333</td>\n",
       "      <td>0.999216</td>\n",
       "      <td>0.645161</td>\n",
       "      <td>0.952381</td>\n",
       "      <td>0.769231</td>\n",
       "    </tr>\n",
       "    <tr>\n",
       "      <th>6</th>\n",
       "      <td>RT</td>\n",
       "      <td>0.999918</td>\n",
       "      <td>0.983740</td>\n",
       "      <td>0.975806</td>\n",
       "      <td>0.979757</td>\n",
       "      <td>0.999412</td>\n",
       "      <td>0.838710</td>\n",
       "      <td>0.866667</td>\n",
       "      <td>0.852459</td>\n",
       "    </tr>\n",
       "  </tbody>\n",
       "</table>\n",
       "</div>"
      ],
      "text/plain": [
       "                         Model  Train_Accuracy  Train_Recall  Train_Precision  \\\n",
       "0           LogisticRegression        0.998318      0.333333         0.661290   \n",
       "1  LogisticRegression_Balanced        0.970681      0.967480         0.062304   \n",
       "2                 DecisionTree        0.999918      0.975610         0.983607   \n",
       "3  DecisionTree_BestParameters        0.992976      0.983740         0.220401   \n",
       "4                     Adaboost        0.999918      1.000000         0.960938   \n",
       "5                          GBM        0.999085      0.552846         0.985507   \n",
       "6                           RT        0.999918      0.983740         0.975806   \n",
       "\n",
       "   Train_F1_Score  Test_Accuracy  Test_Recall  Test_Precision  Test_F1_Score  \n",
       "0        0.443243       0.998171     0.290323        0.600000       0.391304  \n",
       "1        0.117068       0.971710     0.967742        0.064935       0.121704  \n",
       "2        0.979592       0.999739     0.967742        0.909091       0.937500  \n",
       "3        0.360119       0.993663     0.967742        0.238095       0.382166  \n",
       "4        0.980080       0.999347     0.838710        0.838710       0.838710  \n",
       "5        0.708333       0.999216     0.645161        0.952381       0.769231  \n",
       "6        0.979757       0.999412     0.838710        0.866667       0.852459  "
      ]
     },
     "execution_count": 143,
     "metadata": {},
     "output_type": "execute_result"
    }
   ],
   "source": [
    "scores = get_metrics(y_train,y_pred_train7,y_val,y_pred_val7,\"RT\",scores)\n",
    "scores"
   ]
  },
  {
   "cell_type": "code",
   "execution_count": null,
   "metadata": {},
   "outputs": [],
   "source": []
  },
  {
   "cell_type": "code",
   "execution_count": 156,
   "metadata": {},
   "outputs": [],
   "source": [
    "RF1 = RandomForestClassifier(n_estimators=1000)"
   ]
  },
  {
   "cell_type": "code",
   "execution_count": 157,
   "metadata": {},
   "outputs": [
    {
     "data": {
      "text/plain": [
       "RandomForestClassifier(n_estimators=1000)"
      ]
     },
     "execution_count": 157,
     "metadata": {},
     "output_type": "execute_result"
    }
   ],
   "source": [
    "RF1.fit(X_train_final, y_train)"
   ]
  },
  {
   "cell_type": "code",
   "execution_count": 158,
   "metadata": {},
   "outputs": [],
   "source": [
    "y_pred_train8 = RF.predict(X_train_final)\n",
    "y_pred_val8 = RF.predict(X_val_final)"
   ]
  },
  {
   "cell_type": "code",
   "execution_count": 159,
   "metadata": {},
   "outputs": [
    {
     "name": "stdout",
     "output_type": "stream",
     "text": [
      "\n",
      "         ========================================\n",
      "           CLASSIFICATION REPORT FOR TRAIN DATA\n",
      "         ========================================\n",
      "        \n",
      "              precision    recall  f1-score   support\n",
      "\n",
      "           0     1.0000    1.0000    1.0000     61100\n",
      "           1     0.9758    0.9837    0.9798       123\n",
      "\n",
      "    accuracy                         0.9999     61223\n",
      "   macro avg     0.9879    0.9918    0.9899     61223\n",
      "weighted avg     0.9999    0.9999    0.9999     61223\n",
      "\n",
      "\n",
      "             =============================================\n",
      "               CLASSIFICATION REPORT FOR VALIDATION DATA\n",
      "             =============================================\n",
      "            \n",
      "              precision    recall  f1-score   support\n",
      "\n",
      "           0     0.9997    0.9997    0.9997     15275\n",
      "           1     0.8667    0.8387    0.8525        31\n",
      "\n",
      "    accuracy                         0.9994     15306\n",
      "   macro avg     0.9332    0.9192    0.9261     15306\n",
      "weighted avg     0.9994    0.9994    0.9994     15306\n",
      "\n",
      "\n",
      "             ========================================\n",
      "               Confusion Matrix FOR TRAIN DATA\n",
      "             ========================================\n",
      "            \n",
      "[[61097     3]\n",
      " [    2   121]]\n",
      "\n",
      "             =============================================\n",
      "               Confusion matrix FOR VALIDATION DATA\n",
      "             =============================================\n",
      "            \n",
      "[[15271     4]\n",
      " [    5    26]]\n"
     ]
    },
    {
     "data": {
      "text/html": [
       "<div>\n",
       "<style scoped>\n",
       "    .dataframe tbody tr th:only-of-type {\n",
       "        vertical-align: middle;\n",
       "    }\n",
       "\n",
       "    .dataframe tbody tr th {\n",
       "        vertical-align: top;\n",
       "    }\n",
       "\n",
       "    .dataframe thead th {\n",
       "        text-align: right;\n",
       "    }\n",
       "</style>\n",
       "<table border=\"1\" class=\"dataframe\">\n",
       "  <thead>\n",
       "    <tr style=\"text-align: right;\">\n",
       "      <th></th>\n",
       "      <th>Model</th>\n",
       "      <th>Train_Accuracy</th>\n",
       "      <th>Train_Recall</th>\n",
       "      <th>Train_Precision</th>\n",
       "      <th>Train_F1_Score</th>\n",
       "      <th>Test_Accuracy</th>\n",
       "      <th>Test_Recall</th>\n",
       "      <th>Test_Precision</th>\n",
       "      <th>Test_F1_Score</th>\n",
       "    </tr>\n",
       "  </thead>\n",
       "  <tbody>\n",
       "    <tr>\n",
       "      <th>0</th>\n",
       "      <td>LogisticRegression</td>\n",
       "      <td>0.998318</td>\n",
       "      <td>0.333333</td>\n",
       "      <td>0.661290</td>\n",
       "      <td>0.443243</td>\n",
       "      <td>0.998171</td>\n",
       "      <td>0.290323</td>\n",
       "      <td>0.600000</td>\n",
       "      <td>0.391304</td>\n",
       "    </tr>\n",
       "    <tr>\n",
       "      <th>1</th>\n",
       "      <td>LogisticRegression_Balanced</td>\n",
       "      <td>0.970681</td>\n",
       "      <td>0.967480</td>\n",
       "      <td>0.062304</td>\n",
       "      <td>0.117068</td>\n",
       "      <td>0.971710</td>\n",
       "      <td>0.967742</td>\n",
       "      <td>0.064935</td>\n",
       "      <td>0.121704</td>\n",
       "    </tr>\n",
       "    <tr>\n",
       "      <th>2</th>\n",
       "      <td>DecisionTree</td>\n",
       "      <td>0.999918</td>\n",
       "      <td>0.975610</td>\n",
       "      <td>0.983607</td>\n",
       "      <td>0.979592</td>\n",
       "      <td>0.999739</td>\n",
       "      <td>0.967742</td>\n",
       "      <td>0.909091</td>\n",
       "      <td>0.937500</td>\n",
       "    </tr>\n",
       "    <tr>\n",
       "      <th>3</th>\n",
       "      <td>DecisionTree_BestParameters</td>\n",
       "      <td>0.992976</td>\n",
       "      <td>0.983740</td>\n",
       "      <td>0.220401</td>\n",
       "      <td>0.360119</td>\n",
       "      <td>0.993663</td>\n",
       "      <td>0.967742</td>\n",
       "      <td>0.238095</td>\n",
       "      <td>0.382166</td>\n",
       "    </tr>\n",
       "    <tr>\n",
       "      <th>4</th>\n",
       "      <td>Adaboost</td>\n",
       "      <td>0.999918</td>\n",
       "      <td>1.000000</td>\n",
       "      <td>0.960938</td>\n",
       "      <td>0.980080</td>\n",
       "      <td>0.999347</td>\n",
       "      <td>0.838710</td>\n",
       "      <td>0.838710</td>\n",
       "      <td>0.838710</td>\n",
       "    </tr>\n",
       "    <tr>\n",
       "      <th>5</th>\n",
       "      <td>GBM</td>\n",
       "      <td>0.999085</td>\n",
       "      <td>0.552846</td>\n",
       "      <td>0.985507</td>\n",
       "      <td>0.708333</td>\n",
       "      <td>0.999216</td>\n",
       "      <td>0.645161</td>\n",
       "      <td>0.952381</td>\n",
       "      <td>0.769231</td>\n",
       "    </tr>\n",
       "    <tr>\n",
       "      <th>6</th>\n",
       "      <td>RT</td>\n",
       "      <td>0.999918</td>\n",
       "      <td>0.983740</td>\n",
       "      <td>0.975806</td>\n",
       "      <td>0.979757</td>\n",
       "      <td>0.999412</td>\n",
       "      <td>0.838710</td>\n",
       "      <td>0.866667</td>\n",
       "      <td>0.852459</td>\n",
       "    </tr>\n",
       "    <tr>\n",
       "      <th>7</th>\n",
       "      <td>RF1</td>\n",
       "      <td>0.999918</td>\n",
       "      <td>0.983740</td>\n",
       "      <td>0.975806</td>\n",
       "      <td>0.979757</td>\n",
       "      <td>0.999412</td>\n",
       "      <td>0.838710</td>\n",
       "      <td>0.866667</td>\n",
       "      <td>0.852459</td>\n",
       "    </tr>\n",
       "  </tbody>\n",
       "</table>\n",
       "</div>"
      ],
      "text/plain": [
       "                         Model  Train_Accuracy  Train_Recall  Train_Precision  \\\n",
       "0           LogisticRegression        0.998318      0.333333         0.661290   \n",
       "1  LogisticRegression_Balanced        0.970681      0.967480         0.062304   \n",
       "2                 DecisionTree        0.999918      0.975610         0.983607   \n",
       "3  DecisionTree_BestParameters        0.992976      0.983740         0.220401   \n",
       "4                     Adaboost        0.999918      1.000000         0.960938   \n",
       "5                          GBM        0.999085      0.552846         0.985507   \n",
       "6                           RT        0.999918      0.983740         0.975806   \n",
       "7                          RF1        0.999918      0.983740         0.975806   \n",
       "\n",
       "   Train_F1_Score  Test_Accuracy  Test_Recall  Test_Precision  Test_F1_Score  \n",
       "0        0.443243       0.998171     0.290323        0.600000       0.391304  \n",
       "1        0.117068       0.971710     0.967742        0.064935       0.121704  \n",
       "2        0.979592       0.999739     0.967742        0.909091       0.937500  \n",
       "3        0.360119       0.993663     0.967742        0.238095       0.382166  \n",
       "4        0.980080       0.999347     0.838710        0.838710       0.838710  \n",
       "5        0.708333       0.999216     0.645161        0.952381       0.769231  \n",
       "6        0.979757       0.999412     0.838710        0.866667       0.852459  \n",
       "7        0.979757       0.999412     0.838710        0.866667       0.852459  "
      ]
     },
     "execution_count": 159,
     "metadata": {},
     "output_type": "execute_result"
    }
   ],
   "source": [
    "scores = get_metrics(y_train,y_pred_train8,y_val,y_pred_val8,\"RF1\",scores)\n",
    "scores"
   ]
  },
  {
   "cell_type": "code",
   "execution_count": 161,
   "metadata": {},
   "outputs": [],
   "source": [
    "y_test_val8 = RF1.predict(Test_data_final)"
   ]
  },
  {
   "cell_type": "code",
   "execution_count": 162,
   "metadata": {},
   "outputs": [],
   "source": [
    "predictionRF1 = pd.DataFrame(y_pred_val8, columns=['is_fraud']).to_csv('predictionRF1.csv')"
   ]
  }
 ],
 "metadata": {
  "kernelspec": {
   "display_name": "Python 3",
   "language": "python",
   "name": "python3"
  },
  "language_info": {
   "codemirror_mode": {
    "name": "ipython",
    "version": 3
   },
   "file_extension": ".py",
   "mimetype": "text/x-python",
   "name": "python",
   "nbconvert_exporter": "python",
   "pygments_lexer": "ipython3",
   "version": "3.7.6"
  }
 },
 "nbformat": 4,
 "nbformat_minor": 4
}
