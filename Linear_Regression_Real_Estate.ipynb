{
  "nbformat": 4,
  "nbformat_minor": 0,
  "metadata": {
    "colab": {
      "name": "Linear_Regression_Real_Estate.ipynb",
      "provenance": [],
      "collapsed_sections": [],
      "authorship_tag": "ABX9TyPzQ3rFDimGbEuxLA8wF9Ul",
      "include_colab_link": true
    },
    "kernelspec": {
      "name": "python3",
      "display_name": "Python 3"
    },
    "language_info": {
      "name": "python"
    }
  },
  "cells": [
    {
      "cell_type": "markdown",
      "metadata": {
        "id": "view-in-github",
        "colab_type": "text"
      },
      "source": [
        "<a href=\"https://colab.research.google.com/github/Amrutha-GR/AGR/blob/main/Linear_Regression_Real_Estate.ipynb\" target=\"_parent\"><img src=\"https://colab.research.google.com/assets/colab-badge.svg\" alt=\"Open In Colab\"/></a>"
      ]
    },
    {
      "cell_type": "code",
      "source": [
        "import numpy as np\n",
        "import pandas as pd"
      ],
      "metadata": {
        "id": "ZCtxkqJAvvS6"
      },
      "execution_count": null,
      "outputs": []
    },
    {
      "cell_type": "markdown",
      "source": [
        "Load Data"
      ],
      "metadata": {
        "id": "vFf0dmkquURZ"
      }
    },
    {
      "cell_type": "code",
      "execution_count": null,
      "metadata": {
        "colab": {
          "base_uri": "https://localhost:8080/"
        },
        "id": "XDD2Pv56tkZQ",
        "outputId": "3668e668-dd99-47c4-a065-54abb01bc7aa"
      },
      "outputs": [
        {
          "output_type": "stream",
          "name": "stdout",
          "text": [
            "Mounted at /content/drive\n"
          ]
        }
      ],
      "source": [
        "from google.colab import files\n",
        "from google.colab import drive\n",
        "drive.mount('/content/drive')"
      ]
    },
    {
      "cell_type": "code",
      "source": [
        "Real_Estate_df = pd.read_csv('/content/drive/MyDrive/Data_Science/DATA/RealEstateData.csv')"
      ],
      "metadata": {
        "id": "XdFzn6RvwFCZ"
      },
      "execution_count": null,
      "outputs": []
    },
    {
      "cell_type": "markdown",
      "source": [
        "Viewing the head and tail of data"
      ],
      "metadata": {
        "id": "H3ODty6vwdE6"
      }
    },
    {
      "cell_type": "code",
      "source": [
        "Real_Estate_df.head()"
      ],
      "metadata": {
        "colab": {
          "base_uri": "https://localhost:8080/",
          "height": 270
        },
        "id": "dLtWCCUcwE_o",
        "outputId": "468d1e4e-ac01-495d-aaa6-90b2f21d31b3"
      },
      "execution_count": null,
      "outputs": [
        {
          "output_type": "execute_result",
          "data": {
            "text/plain": [
              "   Crime.Rate.in.the.Area  Ratio.of.Commercial...Residential.Properties  \\\n",
              "0                 0.00632                                          2.31   \n",
              "1                 0.02731                                          7.07   \n",
              "2                 0.02729                                          7.07   \n",
              "3                 0.03237                                          2.18   \n",
              "4                 0.06905                                          2.18   \n",
              "\n",
              "   Number.of.Rooms  Age.of.Property  Distance...Nearest.Emp.hub  \\\n",
              "0              4.0             65.0                      4.0900   \n",
              "1              4.0             78.0                      4.9671   \n",
              "2              5.0             61.0                      4.9671   \n",
              "3              4.0             45.0                      6.0622   \n",
              "4              5.0             54.0                      6.0622   \n",
              "\n",
              "   Ratio.of.Lower.Income.people.in.area  Sale.Price.of.House  \n",
              "0                                  4.98            24.000000  \n",
              "1                                  9.14            21.600000  \n",
              "2                                  4.03            34.700001  \n",
              "3                                  2.94            33.400002  \n",
              "4                                  5.33            36.200001  "
            ],
            "text/html": [
              "\n",
              "  <div id=\"df-f71cdd5d-c0b2-4b45-9c5c-edac0f6fe59e\">\n",
              "    <div class=\"colab-df-container\">\n",
              "      <div>\n",
              "<style scoped>\n",
              "    .dataframe tbody tr th:only-of-type {\n",
              "        vertical-align: middle;\n",
              "    }\n",
              "\n",
              "    .dataframe tbody tr th {\n",
              "        vertical-align: top;\n",
              "    }\n",
              "\n",
              "    .dataframe thead th {\n",
              "        text-align: right;\n",
              "    }\n",
              "</style>\n",
              "<table border=\"1\" class=\"dataframe\">\n",
              "  <thead>\n",
              "    <tr style=\"text-align: right;\">\n",
              "      <th></th>\n",
              "      <th>Crime.Rate.in.the.Area</th>\n",
              "      <th>Ratio.of.Commercial...Residential.Properties</th>\n",
              "      <th>Number.of.Rooms</th>\n",
              "      <th>Age.of.Property</th>\n",
              "      <th>Distance...Nearest.Emp.hub</th>\n",
              "      <th>Ratio.of.Lower.Income.people.in.area</th>\n",
              "      <th>Sale.Price.of.House</th>\n",
              "    </tr>\n",
              "  </thead>\n",
              "  <tbody>\n",
              "    <tr>\n",
              "      <th>0</th>\n",
              "      <td>0.00632</td>\n",
              "      <td>2.31</td>\n",
              "      <td>4.0</td>\n",
              "      <td>65.0</td>\n",
              "      <td>4.0900</td>\n",
              "      <td>4.98</td>\n",
              "      <td>24.000000</td>\n",
              "    </tr>\n",
              "    <tr>\n",
              "      <th>1</th>\n",
              "      <td>0.02731</td>\n",
              "      <td>7.07</td>\n",
              "      <td>4.0</td>\n",
              "      <td>78.0</td>\n",
              "      <td>4.9671</td>\n",
              "      <td>9.14</td>\n",
              "      <td>21.600000</td>\n",
              "    </tr>\n",
              "    <tr>\n",
              "      <th>2</th>\n",
              "      <td>0.02729</td>\n",
              "      <td>7.07</td>\n",
              "      <td>5.0</td>\n",
              "      <td>61.0</td>\n",
              "      <td>4.9671</td>\n",
              "      <td>4.03</td>\n",
              "      <td>34.700001</td>\n",
              "    </tr>\n",
              "    <tr>\n",
              "      <th>3</th>\n",
              "      <td>0.03237</td>\n",
              "      <td>2.18</td>\n",
              "      <td>4.0</td>\n",
              "      <td>45.0</td>\n",
              "      <td>6.0622</td>\n",
              "      <td>2.94</td>\n",
              "      <td>33.400002</td>\n",
              "    </tr>\n",
              "    <tr>\n",
              "      <th>4</th>\n",
              "      <td>0.06905</td>\n",
              "      <td>2.18</td>\n",
              "      <td>5.0</td>\n",
              "      <td>54.0</td>\n",
              "      <td>6.0622</td>\n",
              "      <td>5.33</td>\n",
              "      <td>36.200001</td>\n",
              "    </tr>\n",
              "  </tbody>\n",
              "</table>\n",
              "</div>\n",
              "      <button class=\"colab-df-convert\" onclick=\"convertToInteractive('df-f71cdd5d-c0b2-4b45-9c5c-edac0f6fe59e')\"\n",
              "              title=\"Convert this dataframe to an interactive table.\"\n",
              "              style=\"display:none;\">\n",
              "        \n",
              "  <svg xmlns=\"http://www.w3.org/2000/svg\" height=\"24px\"viewBox=\"0 0 24 24\"\n",
              "       width=\"24px\">\n",
              "    <path d=\"M0 0h24v24H0V0z\" fill=\"none\"/>\n",
              "    <path d=\"M18.56 5.44l.94 2.06.94-2.06 2.06-.94-2.06-.94-.94-2.06-.94 2.06-2.06.94zm-11 1L8.5 8.5l.94-2.06 2.06-.94-2.06-.94L8.5 2.5l-.94 2.06-2.06.94zm10 10l.94 2.06.94-2.06 2.06-.94-2.06-.94-.94-2.06-.94 2.06-2.06.94z\"/><path d=\"M17.41 7.96l-1.37-1.37c-.4-.4-.92-.59-1.43-.59-.52 0-1.04.2-1.43.59L10.3 9.45l-7.72 7.72c-.78.78-.78 2.05 0 2.83L4 21.41c.39.39.9.59 1.41.59.51 0 1.02-.2 1.41-.59l7.78-7.78 2.81-2.81c.8-.78.8-2.07 0-2.86zM5.41 20L4 18.59l7.72-7.72 1.47 1.35L5.41 20z\"/>\n",
              "  </svg>\n",
              "      </button>\n",
              "      \n",
              "  <style>\n",
              "    .colab-df-container {\n",
              "      display:flex;\n",
              "      flex-wrap:wrap;\n",
              "      gap: 12px;\n",
              "    }\n",
              "\n",
              "    .colab-df-convert {\n",
              "      background-color: #E8F0FE;\n",
              "      border: none;\n",
              "      border-radius: 50%;\n",
              "      cursor: pointer;\n",
              "      display: none;\n",
              "      fill: #1967D2;\n",
              "      height: 32px;\n",
              "      padding: 0 0 0 0;\n",
              "      width: 32px;\n",
              "    }\n",
              "\n",
              "    .colab-df-convert:hover {\n",
              "      background-color: #E2EBFA;\n",
              "      box-shadow: 0px 1px 2px rgba(60, 64, 67, 0.3), 0px 1px 3px 1px rgba(60, 64, 67, 0.15);\n",
              "      fill: #174EA6;\n",
              "    }\n",
              "\n",
              "    [theme=dark] .colab-df-convert {\n",
              "      background-color: #3B4455;\n",
              "      fill: #D2E3FC;\n",
              "    }\n",
              "\n",
              "    [theme=dark] .colab-df-convert:hover {\n",
              "      background-color: #434B5C;\n",
              "      box-shadow: 0px 1px 3px 1px rgba(0, 0, 0, 0.15);\n",
              "      filter: drop-shadow(0px 1px 2px rgba(0, 0, 0, 0.3));\n",
              "      fill: #FFFFFF;\n",
              "    }\n",
              "  </style>\n",
              "\n",
              "      <script>\n",
              "        const buttonEl =\n",
              "          document.querySelector('#df-f71cdd5d-c0b2-4b45-9c5c-edac0f6fe59e button.colab-df-convert');\n",
              "        buttonEl.style.display =\n",
              "          google.colab.kernel.accessAllowed ? 'block' : 'none';\n",
              "\n",
              "        async function convertToInteractive(key) {\n",
              "          const element = document.querySelector('#df-f71cdd5d-c0b2-4b45-9c5c-edac0f6fe59e');\n",
              "          const dataTable =\n",
              "            await google.colab.kernel.invokeFunction('convertToInteractive',\n",
              "                                                     [key], {});\n",
              "          if (!dataTable) return;\n",
              "\n",
              "          const docLinkHtml = 'Like what you see? Visit the ' +\n",
              "            '<a target=\"_blank\" href=https://colab.research.google.com/notebooks/data_table.ipynb>data table notebook</a>'\n",
              "            + ' to learn more about interactive tables.';\n",
              "          element.innerHTML = '';\n",
              "          dataTable['output_type'] = 'display_data';\n",
              "          await google.colab.output.renderOutput(dataTable, element);\n",
              "          const docLink = document.createElement('div');\n",
              "          docLink.innerHTML = docLinkHtml;\n",
              "          element.appendChild(docLink);\n",
              "        }\n",
              "      </script>\n",
              "    </div>\n",
              "  </div>\n",
              "  "
            ]
          },
          "metadata": {},
          "execution_count": 4
        }
      ]
    },
    {
      "cell_type": "code",
      "source": [
        "Real_Estate_df.tail()"
      ],
      "metadata": {
        "colab": {
          "base_uri": "https://localhost:8080/",
          "height": 270
        },
        "id": "4pUK1vNCwE7f",
        "outputId": "08e4b8b2-a27f-469b-f561-11669841fd0c"
      },
      "execution_count": null,
      "outputs": [
        {
          "output_type": "execute_result",
          "data": {
            "text/plain": [
              "     Crime.Rate.in.the.Area  Ratio.of.Commercial...Residential.Properties  \\\n",
              "495                 0.06263                                         11.93   \n",
              "496                 0.04527                                         11.93   \n",
              "497                 0.06076                                         11.93   \n",
              "498                 0.10959                                         11.93   \n",
              "499                 0.04741                                         11.93   \n",
              "\n",
              "     Number.of.Rooms  Age.of.Property  Distance...Nearest.Emp.hub  \\\n",
              "495              4.0             69.0                      2.4786   \n",
              "496              4.0             76.0                      2.2875   \n",
              "497              4.0             91.0                      2.1675   \n",
              "498              4.0             89.0                      2.3889   \n",
              "499              4.0             80.0                      2.5050   \n",
              "\n",
              "     Ratio.of.Lower.Income.people.in.area  Sale.Price.of.House  \n",
              "495                                  9.67                 22.4  \n",
              "496                                  9.08                 20.6  \n",
              "497                                  5.64                 23.9  \n",
              "498                                  6.48                 22.0  \n",
              "499                                  7.88                 11.9  "
            ],
            "text/html": [
              "\n",
              "  <div id=\"df-bb65becc-75e9-4235-afb9-e94edb833644\">\n",
              "    <div class=\"colab-df-container\">\n",
              "      <div>\n",
              "<style scoped>\n",
              "    .dataframe tbody tr th:only-of-type {\n",
              "        vertical-align: middle;\n",
              "    }\n",
              "\n",
              "    .dataframe tbody tr th {\n",
              "        vertical-align: top;\n",
              "    }\n",
              "\n",
              "    .dataframe thead th {\n",
              "        text-align: right;\n",
              "    }\n",
              "</style>\n",
              "<table border=\"1\" class=\"dataframe\">\n",
              "  <thead>\n",
              "    <tr style=\"text-align: right;\">\n",
              "      <th></th>\n",
              "      <th>Crime.Rate.in.the.Area</th>\n",
              "      <th>Ratio.of.Commercial...Residential.Properties</th>\n",
              "      <th>Number.of.Rooms</th>\n",
              "      <th>Age.of.Property</th>\n",
              "      <th>Distance...Nearest.Emp.hub</th>\n",
              "      <th>Ratio.of.Lower.Income.people.in.area</th>\n",
              "      <th>Sale.Price.of.House</th>\n",
              "    </tr>\n",
              "  </thead>\n",
              "  <tbody>\n",
              "    <tr>\n",
              "      <th>495</th>\n",
              "      <td>0.06263</td>\n",
              "      <td>11.93</td>\n",
              "      <td>4.0</td>\n",
              "      <td>69.0</td>\n",
              "      <td>2.4786</td>\n",
              "      <td>9.67</td>\n",
              "      <td>22.4</td>\n",
              "    </tr>\n",
              "    <tr>\n",
              "      <th>496</th>\n",
              "      <td>0.04527</td>\n",
              "      <td>11.93</td>\n",
              "      <td>4.0</td>\n",
              "      <td>76.0</td>\n",
              "      <td>2.2875</td>\n",
              "      <td>9.08</td>\n",
              "      <td>20.6</td>\n",
              "    </tr>\n",
              "    <tr>\n",
              "      <th>497</th>\n",
              "      <td>0.06076</td>\n",
              "      <td>11.93</td>\n",
              "      <td>4.0</td>\n",
              "      <td>91.0</td>\n",
              "      <td>2.1675</td>\n",
              "      <td>5.64</td>\n",
              "      <td>23.9</td>\n",
              "    </tr>\n",
              "    <tr>\n",
              "      <th>498</th>\n",
              "      <td>0.10959</td>\n",
              "      <td>11.93</td>\n",
              "      <td>4.0</td>\n",
              "      <td>89.0</td>\n",
              "      <td>2.3889</td>\n",
              "      <td>6.48</td>\n",
              "      <td>22.0</td>\n",
              "    </tr>\n",
              "    <tr>\n",
              "      <th>499</th>\n",
              "      <td>0.04741</td>\n",
              "      <td>11.93</td>\n",
              "      <td>4.0</td>\n",
              "      <td>80.0</td>\n",
              "      <td>2.5050</td>\n",
              "      <td>7.88</td>\n",
              "      <td>11.9</td>\n",
              "    </tr>\n",
              "  </tbody>\n",
              "</table>\n",
              "</div>\n",
              "      <button class=\"colab-df-convert\" onclick=\"convertToInteractive('df-bb65becc-75e9-4235-afb9-e94edb833644')\"\n",
              "              title=\"Convert this dataframe to an interactive table.\"\n",
              "              style=\"display:none;\">\n",
              "        \n",
              "  <svg xmlns=\"http://www.w3.org/2000/svg\" height=\"24px\"viewBox=\"0 0 24 24\"\n",
              "       width=\"24px\">\n",
              "    <path d=\"M0 0h24v24H0V0z\" fill=\"none\"/>\n",
              "    <path d=\"M18.56 5.44l.94 2.06.94-2.06 2.06-.94-2.06-.94-.94-2.06-.94 2.06-2.06.94zm-11 1L8.5 8.5l.94-2.06 2.06-.94-2.06-.94L8.5 2.5l-.94 2.06-2.06.94zm10 10l.94 2.06.94-2.06 2.06-.94-2.06-.94-.94-2.06-.94 2.06-2.06.94z\"/><path d=\"M17.41 7.96l-1.37-1.37c-.4-.4-.92-.59-1.43-.59-.52 0-1.04.2-1.43.59L10.3 9.45l-7.72 7.72c-.78.78-.78 2.05 0 2.83L4 21.41c.39.39.9.59 1.41.59.51 0 1.02-.2 1.41-.59l7.78-7.78 2.81-2.81c.8-.78.8-2.07 0-2.86zM5.41 20L4 18.59l7.72-7.72 1.47 1.35L5.41 20z\"/>\n",
              "  </svg>\n",
              "      </button>\n",
              "      \n",
              "  <style>\n",
              "    .colab-df-container {\n",
              "      display:flex;\n",
              "      flex-wrap:wrap;\n",
              "      gap: 12px;\n",
              "    }\n",
              "\n",
              "    .colab-df-convert {\n",
              "      background-color: #E8F0FE;\n",
              "      border: none;\n",
              "      border-radius: 50%;\n",
              "      cursor: pointer;\n",
              "      display: none;\n",
              "      fill: #1967D2;\n",
              "      height: 32px;\n",
              "      padding: 0 0 0 0;\n",
              "      width: 32px;\n",
              "    }\n",
              "\n",
              "    .colab-df-convert:hover {\n",
              "      background-color: #E2EBFA;\n",
              "      box-shadow: 0px 1px 2px rgba(60, 64, 67, 0.3), 0px 1px 3px 1px rgba(60, 64, 67, 0.15);\n",
              "      fill: #174EA6;\n",
              "    }\n",
              "\n",
              "    [theme=dark] .colab-df-convert {\n",
              "      background-color: #3B4455;\n",
              "      fill: #D2E3FC;\n",
              "    }\n",
              "\n",
              "    [theme=dark] .colab-df-convert:hover {\n",
              "      background-color: #434B5C;\n",
              "      box-shadow: 0px 1px 3px 1px rgba(0, 0, 0, 0.15);\n",
              "      filter: drop-shadow(0px 1px 2px rgba(0, 0, 0, 0.3));\n",
              "      fill: #FFFFFF;\n",
              "    }\n",
              "  </style>\n",
              "\n",
              "      <script>\n",
              "        const buttonEl =\n",
              "          document.querySelector('#df-bb65becc-75e9-4235-afb9-e94edb833644 button.colab-df-convert');\n",
              "        buttonEl.style.display =\n",
              "          google.colab.kernel.accessAllowed ? 'block' : 'none';\n",
              "\n",
              "        async function convertToInteractive(key) {\n",
              "          const element = document.querySelector('#df-bb65becc-75e9-4235-afb9-e94edb833644');\n",
              "          const dataTable =\n",
              "            await google.colab.kernel.invokeFunction('convertToInteractive',\n",
              "                                                     [key], {});\n",
              "          if (!dataTable) return;\n",
              "\n",
              "          const docLinkHtml = 'Like what you see? Visit the ' +\n",
              "            '<a target=\"_blank\" href=https://colab.research.google.com/notebooks/data_table.ipynb>data table notebook</a>'\n",
              "            + ' to learn more about interactive tables.';\n",
              "          element.innerHTML = '';\n",
              "          dataTable['output_type'] = 'display_data';\n",
              "          await google.colab.output.renderOutput(dataTable, element);\n",
              "          const docLink = document.createElement('div');\n",
              "          docLink.innerHTML = docLinkHtml;\n",
              "          element.appendChild(docLink);\n",
              "        }\n",
              "      </script>\n",
              "    </div>\n",
              "  </div>\n",
              "  "
            ]
          },
          "metadata": {},
          "execution_count": 5
        }
      ]
    },
    {
      "cell_type": "markdown",
      "source": [
        "Observation, Attributes and Data shape"
      ],
      "metadata": {
        "id": "Zoojn0mCypd7"
      }
    },
    {
      "cell_type": "code",
      "source": [
        "type(Real_Estate_df)"
      ],
      "metadata": {
        "colab": {
          "base_uri": "https://localhost:8080/"
        },
        "id": "oTQWaN8nyDwr",
        "outputId": "31727de0-3bc9-4d58-ffed-31454662f0a3"
      },
      "execution_count": null,
      "outputs": [
        {
          "output_type": "execute_result",
          "data": {
            "text/plain": [
              "pandas.core.frame.DataFrame"
            ]
          },
          "metadata": {},
          "execution_count": 6
        }
      ]
    },
    {
      "cell_type": "code",
      "source": [
        "len(Real_Estate_df)"
      ],
      "metadata": {
        "colab": {
          "base_uri": "https://localhost:8080/"
        },
        "id": "wC3lQfOAwE5q",
        "outputId": "95c04e0d-fac9-4af2-dc30-2c01000af51a"
      },
      "execution_count": null,
      "outputs": [
        {
          "output_type": "execute_result",
          "data": {
            "text/plain": [
              "500"
            ]
          },
          "metadata": {},
          "execution_count": 7
        }
      ]
    },
    {
      "cell_type": "code",
      "source": [
        "Real_Estate_df.shape"
      ],
      "metadata": {
        "colab": {
          "base_uri": "https://localhost:8080/"
        },
        "id": "fqZqZwgcyNAQ",
        "outputId": "9a38b761-5685-4035-a5aa-cb435dfc6bef"
      },
      "execution_count": null,
      "outputs": [
        {
          "output_type": "execute_result",
          "data": {
            "text/plain": [
              "(500, 7)"
            ]
          },
          "metadata": {},
          "execution_count": 8
        }
      ]
    },
    {
      "cell_type": "code",
      "source": [
        "Real_Estate_df.size"
      ],
      "metadata": {
        "colab": {
          "base_uri": "https://localhost:8080/"
        },
        "id": "X79X8fYwygzv",
        "outputId": "18d9c45e-3d49-42dd-8f4e-e804428c30b1"
      },
      "execution_count": null,
      "outputs": [
        {
          "output_type": "execute_result",
          "data": {
            "text/plain": [
              "3500"
            ]
          },
          "metadata": {},
          "execution_count": 9
        }
      ]
    },
    {
      "cell_type": "code",
      "source": [
        "Real_Estate_df.ndim"
      ],
      "metadata": {
        "colab": {
          "base_uri": "https://localhost:8080/"
        },
        "id": "D2tYV_hMy2R6",
        "outputId": "858ba640-7fcf-41f8-e400-f763f83988ae"
      },
      "execution_count": null,
      "outputs": [
        {
          "output_type": "execute_result",
          "data": {
            "text/plain": [
              "2"
            ]
          },
          "metadata": {},
          "execution_count": 10
        }
      ]
    },
    {
      "cell_type": "markdown",
      "source": [
        "Structure of data"
      ],
      "metadata": {
        "id": "_AfWCLrVx4Od"
      }
    },
    {
      "cell_type": "code",
      "source": [
        "Real_Estate_df.info()"
      ],
      "metadata": {
        "colab": {
          "base_uri": "https://localhost:8080/"
        },
        "id": "QVk3potDwE0I",
        "outputId": "a80322a8-6568-4161-db7e-bb8d13f38ea5"
      },
      "execution_count": null,
      "outputs": [
        {
          "output_type": "stream",
          "name": "stdout",
          "text": [
            "<class 'pandas.core.frame.DataFrame'>\n",
            "RangeIndex: 500 entries, 0 to 499\n",
            "Data columns (total 7 columns):\n",
            " #   Column                                        Non-Null Count  Dtype  \n",
            "---  ------                                        --------------  -----  \n",
            " 0   Crime.Rate.in.the.Area                        493 non-null    float64\n",
            " 1   Ratio.of.Commercial...Residential.Properties  496 non-null    float64\n",
            " 2   Number.of.Rooms                               496 non-null    float64\n",
            " 3   Age.of.Property                               497 non-null    float64\n",
            " 4   Distance...Nearest.Emp.hub                    496 non-null    float64\n",
            " 5   Ratio.of.Lower.Income.people.in.area          494 non-null    float64\n",
            " 6   Sale.Price.of.House                           500 non-null    float64\n",
            "dtypes: float64(7)\n",
            "memory usage: 27.5 KB\n"
          ]
        }
      ]
    },
    {
      "cell_type": "markdown",
      "source": [
        "Summary Statistics"
      ],
      "metadata": {
        "id": "LIlXRafEz_B9"
      }
    },
    {
      "cell_type": "code",
      "source": [
        "Real_Estate_df.describe()"
      ],
      "metadata": {
        "colab": {
          "base_uri": "https://localhost:8080/",
          "height": 364
        },
        "id": "79m82eB2wEwz",
        "outputId": "3cb19b52-da0c-45a4-8be3-fa9496caa1ad"
      },
      "execution_count": null,
      "outputs": [
        {
          "output_type": "execute_result",
          "data": {
            "text/plain": [
              "       Crime.Rate.in.the.Area  Ratio.of.Commercial...Residential.Properties  \\\n",
              "count              493.000000                                    496.000000   \n",
              "mean                 3.655323                                     11.124819   \n",
              "std                  8.695102                                      6.862173   \n",
              "min                  0.006320                                      0.460000   \n",
              "25%                  0.081990                                      5.190000   \n",
              "50%                  0.261690                                      9.690000   \n",
              "75%                  3.678220                                     18.100000   \n",
              "max                 88.976196                                     27.740000   \n",
              "\n",
              "       Number.of.Rooms  Age.of.Property  Distance...Nearest.Emp.hub  \\\n",
              "count       496.000000       497.000000                  496.000000   \n",
              "mean          3.780242        68.156942                    3.785060   \n",
              "std           0.782442        28.236678                    2.104649   \n",
              "min           1.000000         2.000000                    1.129600   \n",
              "25%           3.000000        44.000000                    2.097050   \n",
              "50%           4.000000        77.000000                    3.190950   \n",
              "75%           4.000000        94.000000                    5.118000   \n",
              "max           6.000000       100.000000                   12.126500   \n",
              "\n",
              "       Ratio.of.Lower.Income.people.in.area  Sale.Price.of.House  \n",
              "count                            494.000000           500.000000  \n",
              "mean                              12.648178            22.564400  \n",
              "std                                7.117030             9.236213  \n",
              "min                                1.730000             5.000000  \n",
              "25%                                6.950000            17.075000  \n",
              "50%                               11.430000            21.200001  \n",
              "75%                               16.954999            25.000000  \n",
              "max                               37.970001            50.000000  "
            ],
            "text/html": [
              "\n",
              "  <div id=\"df-f7bbe8de-c4bb-4b51-bafc-1dce398010f3\">\n",
              "    <div class=\"colab-df-container\">\n",
              "      <div>\n",
              "<style scoped>\n",
              "    .dataframe tbody tr th:only-of-type {\n",
              "        vertical-align: middle;\n",
              "    }\n",
              "\n",
              "    .dataframe tbody tr th {\n",
              "        vertical-align: top;\n",
              "    }\n",
              "\n",
              "    .dataframe thead th {\n",
              "        text-align: right;\n",
              "    }\n",
              "</style>\n",
              "<table border=\"1\" class=\"dataframe\">\n",
              "  <thead>\n",
              "    <tr style=\"text-align: right;\">\n",
              "      <th></th>\n",
              "      <th>Crime.Rate.in.the.Area</th>\n",
              "      <th>Ratio.of.Commercial...Residential.Properties</th>\n",
              "      <th>Number.of.Rooms</th>\n",
              "      <th>Age.of.Property</th>\n",
              "      <th>Distance...Nearest.Emp.hub</th>\n",
              "      <th>Ratio.of.Lower.Income.people.in.area</th>\n",
              "      <th>Sale.Price.of.House</th>\n",
              "    </tr>\n",
              "  </thead>\n",
              "  <tbody>\n",
              "    <tr>\n",
              "      <th>count</th>\n",
              "      <td>493.000000</td>\n",
              "      <td>496.000000</td>\n",
              "      <td>496.000000</td>\n",
              "      <td>497.000000</td>\n",
              "      <td>496.000000</td>\n",
              "      <td>494.000000</td>\n",
              "      <td>500.000000</td>\n",
              "    </tr>\n",
              "    <tr>\n",
              "      <th>mean</th>\n",
              "      <td>3.655323</td>\n",
              "      <td>11.124819</td>\n",
              "      <td>3.780242</td>\n",
              "      <td>68.156942</td>\n",
              "      <td>3.785060</td>\n",
              "      <td>12.648178</td>\n",
              "      <td>22.564400</td>\n",
              "    </tr>\n",
              "    <tr>\n",
              "      <th>std</th>\n",
              "      <td>8.695102</td>\n",
              "      <td>6.862173</td>\n",
              "      <td>0.782442</td>\n",
              "      <td>28.236678</td>\n",
              "      <td>2.104649</td>\n",
              "      <td>7.117030</td>\n",
              "      <td>9.236213</td>\n",
              "    </tr>\n",
              "    <tr>\n",
              "      <th>min</th>\n",
              "      <td>0.006320</td>\n",
              "      <td>0.460000</td>\n",
              "      <td>1.000000</td>\n",
              "      <td>2.000000</td>\n",
              "      <td>1.129600</td>\n",
              "      <td>1.730000</td>\n",
              "      <td>5.000000</td>\n",
              "    </tr>\n",
              "    <tr>\n",
              "      <th>25%</th>\n",
              "      <td>0.081990</td>\n",
              "      <td>5.190000</td>\n",
              "      <td>3.000000</td>\n",
              "      <td>44.000000</td>\n",
              "      <td>2.097050</td>\n",
              "      <td>6.950000</td>\n",
              "      <td>17.075000</td>\n",
              "    </tr>\n",
              "    <tr>\n",
              "      <th>50%</th>\n",
              "      <td>0.261690</td>\n",
              "      <td>9.690000</td>\n",
              "      <td>4.000000</td>\n",
              "      <td>77.000000</td>\n",
              "      <td>3.190950</td>\n",
              "      <td>11.430000</td>\n",
              "      <td>21.200001</td>\n",
              "    </tr>\n",
              "    <tr>\n",
              "      <th>75%</th>\n",
              "      <td>3.678220</td>\n",
              "      <td>18.100000</td>\n",
              "      <td>4.000000</td>\n",
              "      <td>94.000000</td>\n",
              "      <td>5.118000</td>\n",
              "      <td>16.954999</td>\n",
              "      <td>25.000000</td>\n",
              "    </tr>\n",
              "    <tr>\n",
              "      <th>max</th>\n",
              "      <td>88.976196</td>\n",
              "      <td>27.740000</td>\n",
              "      <td>6.000000</td>\n",
              "      <td>100.000000</td>\n",
              "      <td>12.126500</td>\n",
              "      <td>37.970001</td>\n",
              "      <td>50.000000</td>\n",
              "    </tr>\n",
              "  </tbody>\n",
              "</table>\n",
              "</div>\n",
              "      <button class=\"colab-df-convert\" onclick=\"convertToInteractive('df-f7bbe8de-c4bb-4b51-bafc-1dce398010f3')\"\n",
              "              title=\"Convert this dataframe to an interactive table.\"\n",
              "              style=\"display:none;\">\n",
              "        \n",
              "  <svg xmlns=\"http://www.w3.org/2000/svg\" height=\"24px\"viewBox=\"0 0 24 24\"\n",
              "       width=\"24px\">\n",
              "    <path d=\"M0 0h24v24H0V0z\" fill=\"none\"/>\n",
              "    <path d=\"M18.56 5.44l.94 2.06.94-2.06 2.06-.94-2.06-.94-.94-2.06-.94 2.06-2.06.94zm-11 1L8.5 8.5l.94-2.06 2.06-.94-2.06-.94L8.5 2.5l-.94 2.06-2.06.94zm10 10l.94 2.06.94-2.06 2.06-.94-2.06-.94-.94-2.06-.94 2.06-2.06.94z\"/><path d=\"M17.41 7.96l-1.37-1.37c-.4-.4-.92-.59-1.43-.59-.52 0-1.04.2-1.43.59L10.3 9.45l-7.72 7.72c-.78.78-.78 2.05 0 2.83L4 21.41c.39.39.9.59 1.41.59.51 0 1.02-.2 1.41-.59l7.78-7.78 2.81-2.81c.8-.78.8-2.07 0-2.86zM5.41 20L4 18.59l7.72-7.72 1.47 1.35L5.41 20z\"/>\n",
              "  </svg>\n",
              "      </button>\n",
              "      \n",
              "  <style>\n",
              "    .colab-df-container {\n",
              "      display:flex;\n",
              "      flex-wrap:wrap;\n",
              "      gap: 12px;\n",
              "    }\n",
              "\n",
              "    .colab-df-convert {\n",
              "      background-color: #E8F0FE;\n",
              "      border: none;\n",
              "      border-radius: 50%;\n",
              "      cursor: pointer;\n",
              "      display: none;\n",
              "      fill: #1967D2;\n",
              "      height: 32px;\n",
              "      padding: 0 0 0 0;\n",
              "      width: 32px;\n",
              "    }\n",
              "\n",
              "    .colab-df-convert:hover {\n",
              "      background-color: #E2EBFA;\n",
              "      box-shadow: 0px 1px 2px rgba(60, 64, 67, 0.3), 0px 1px 3px 1px rgba(60, 64, 67, 0.15);\n",
              "      fill: #174EA6;\n",
              "    }\n",
              "\n",
              "    [theme=dark] .colab-df-convert {\n",
              "      background-color: #3B4455;\n",
              "      fill: #D2E3FC;\n",
              "    }\n",
              "\n",
              "    [theme=dark] .colab-df-convert:hover {\n",
              "      background-color: #434B5C;\n",
              "      box-shadow: 0px 1px 3px 1px rgba(0, 0, 0, 0.15);\n",
              "      filter: drop-shadow(0px 1px 2px rgba(0, 0, 0, 0.3));\n",
              "      fill: #FFFFFF;\n",
              "    }\n",
              "  </style>\n",
              "\n",
              "      <script>\n",
              "        const buttonEl =\n",
              "          document.querySelector('#df-f7bbe8de-c4bb-4b51-bafc-1dce398010f3 button.colab-df-convert');\n",
              "        buttonEl.style.display =\n",
              "          google.colab.kernel.accessAllowed ? 'block' : 'none';\n",
              "\n",
              "        async function convertToInteractive(key) {\n",
              "          const element = document.querySelector('#df-f7bbe8de-c4bb-4b51-bafc-1dce398010f3');\n",
              "          const dataTable =\n",
              "            await google.colab.kernel.invokeFunction('convertToInteractive',\n",
              "                                                     [key], {});\n",
              "          if (!dataTable) return;\n",
              "\n",
              "          const docLinkHtml = 'Like what you see? Visit the ' +\n",
              "            '<a target=\"_blank\" href=https://colab.research.google.com/notebooks/data_table.ipynb>data table notebook</a>'\n",
              "            + ' to learn more about interactive tables.';\n",
              "          element.innerHTML = '';\n",
              "          dataTable['output_type'] = 'display_data';\n",
              "          await google.colab.output.renderOutput(dataTable, element);\n",
              "          const docLink = document.createElement('div');\n",
              "          docLink.innerHTML = docLinkHtml;\n",
              "          element.appendChild(docLink);\n",
              "        }\n",
              "      </script>\n",
              "    </div>\n",
              "  </div>\n",
              "  "
            ]
          },
          "metadata": {},
          "execution_count": 12
        }
      ]
    },
    {
      "cell_type": "markdown",
      "source": [
        "Calculate average age of property"
      ],
      "metadata": {
        "id": "wfAygymG1V47"
      }
    },
    {
      "cell_type": "code",
      "source": [
        "Real_Estate_df['Age.of.Property'].mean()"
      ],
      "metadata": {
        "colab": {
          "base_uri": "https://localhost:8080/"
        },
        "id": "7_bi9n2L1VUl",
        "outputId": "04f1ef46-78fa-4f8f-d1a2-00fe9da2f12a"
      },
      "execution_count": null,
      "outputs": [
        {
          "output_type": "execute_result",
          "data": {
            "text/plain": [
              "68.1569416498994"
            ]
          },
          "metadata": {},
          "execution_count": 13
        }
      ]
    },
    {
      "cell_type": "markdown",
      "source": [
        "Missing Value treatment "
      ],
      "metadata": {
        "id": "sICWmVKy19Ty"
      }
    },
    {
      "cell_type": "code",
      "source": [
        "Real_Estate_df.isnull().sum()"
      ],
      "metadata": {
        "colab": {
          "base_uri": "https://localhost:8080/"
        },
        "id": "RrssDwT-180g",
        "outputId": "f8851aaa-f679-48ab-ba61-80e4c70b7b80"
      },
      "execution_count": null,
      "outputs": [
        {
          "output_type": "execute_result",
          "data": {
            "text/plain": [
              "Crime.Rate.in.the.Area                          7\n",
              "Ratio.of.Commercial...Residential.Properties    4\n",
              "Number.of.Rooms                                 4\n",
              "Age.of.Property                                 3\n",
              "Distance...Nearest.Emp.hub                      4\n",
              "Ratio.of.Lower.Income.people.in.area            6\n",
              "Sale.Price.of.House                             0\n",
              "dtype: int64"
            ]
          },
          "metadata": {},
          "execution_count": 14
        }
      ]
    },
    {
      "cell_type": "code",
      "source": [
        "Real_Estate_df = Real_Estate_df.fillna(Real_Estate_df.mean())"
      ],
      "metadata": {
        "id": "W0I50yngwErh"
      },
      "execution_count": null,
      "outputs": []
    },
    {
      "cell_type": "code",
      "source": [
        "Real_Estate_df.isnull().sum()"
      ],
      "metadata": {
        "colab": {
          "base_uri": "https://localhost:8080/"
        },
        "id": "v7eB86wzwEqT",
        "outputId": "40ab64e3-1ba3-43f5-bb18-3d976945b8f1"
      },
      "execution_count": null,
      "outputs": [
        {
          "output_type": "execute_result",
          "data": {
            "text/plain": [
              "Crime.Rate.in.the.Area                          0\n",
              "Ratio.of.Commercial...Residential.Properties    0\n",
              "Number.of.Rooms                                 0\n",
              "Age.of.Property                                 0\n",
              "Distance...Nearest.Emp.hub                      0\n",
              "Ratio.of.Lower.Income.people.in.area            0\n",
              "Sale.Price.of.House                             0\n",
              "dtype: int64"
            ]
          },
          "metadata": {},
          "execution_count": 16
        }
      ]
    },
    {
      "cell_type": "markdown",
      "source": [
        "Exploratory Data Analysis"
      ],
      "metadata": {
        "id": "mVB8Vyyk7rgK"
      }
    },
    {
      "cell_type": "markdown",
      "source": [
        "Would more commercial property in the area make the house more expensive"
      ],
      "metadata": {
        "id": "PEtxkm41nasp"
      }
    },
    {
      "cell_type": "code",
      "source": [
        "import matplotlib.pyplot as plt\n",
        "%matplotlib inline"
      ],
      "metadata": {
        "id": "KIo8xQrNpX2y"
      },
      "execution_count": null,
      "outputs": []
    },
    {
      "cell_type": "code",
      "source": [
        "Real_Estate_df.plot(kind = 'scatter', x = 'Ratio.of.Commercial...Residential.Properties', y = 'Sale.Price.of.House' , title = \"Ratio of Residential/Commerical vs Sale Price\")"
      ],
      "metadata": {
        "id": "PwSH7P0twEmL",
        "colab": {
          "base_uri": "https://localhost:8080/",
          "height": 312
        },
        "outputId": "e8585575-d9d2-450d-c5a2-90824a0b5b86"
      },
      "execution_count": null,
      "outputs": [
        {
          "output_type": "execute_result",
          "data": {
            "text/plain": [
              "<matplotlib.axes._subplots.AxesSubplot at 0x7fd7dbb64fd0>"
            ]
          },
          "metadata": {},
          "execution_count": 18
        },
        {
          "output_type": "display_data",
          "data": {
            "text/plain": [
              "<Figure size 432x288 with 1 Axes>"
            ],
            "image/png": "[encoded data removed]"
          },
          "metadata": {
            "needs_background": "light"
          }
        }
      ]
    },
    {
      "cell_type": "code",
      "source": [
        "plt.scatter(Real_Estate_df['Ratio.of.Commercial...Residential.Properties'], Real_Estate_df['Sale.Price.of.House'])\n",
        "plt.title('Ratio of Residential/Commerical vs Sale Price' , loc ='left')\n",
        "plt.xlabel('Ratio.of.Commercial...Residential.Properties')\n",
        "plt.ylabel('Sale.Price.of.House')\n",
        "plt.show()"
      ],
      "metadata": {
        "id": "dcRB8dXgwEjv",
        "colab": {
          "base_uri": "https://localhost:8080/",
          "height": 295
        },
        "outputId": "e6d57aac-fa09-4b85-aa6f-d8cf6518108c"
      },
      "execution_count": null,
      "outputs": [
        {
          "output_type": "display_data",
          "data": {
            "text/plain": [
              "<Figure size 432x288 with 1 Axes>"
            ],
            "image/png": "[encoded data removed]"
          },
          "metadata": {
            "needs_background": "light"
          }
        }
      ]
    },
    {
      "cell_type": "code",
      "source": [
        "Real_Estate_df['Ratio.of.Commercial...Residential.Properties'].cov(Real_Estate_df['Sale.Price.of.House'])"
      ],
      "metadata": {
        "id": "n6peoDmG7-ll",
        "colab": {
          "base_uri": "https://localhost:8080/"
        },
        "outputId": "cec03b90-b243-4623-9f36-78862dbdd56d"
      },
      "execution_count": null,
      "outputs": [
        {
          "output_type": "execute_result",
          "data": {
            "text/plain": [
              "-30.531507065872265"
            ]
          },
          "metadata": {},
          "execution_count": 20
        }
      ]
    },
    {
      "cell_type": "code",
      "source": [
        "Real_Estate_df['Ratio.of.Commercial...Residential.Properties'].corr(Real_Estate_df['Sale.Price.of.House'])"
      ],
      "metadata": {
        "id": "7Qs0Dcx_7-gK",
        "colab": {
          "base_uri": "https://localhost:8080/"
        },
        "outputId": "36007e49-eb7b-480d-f809-e6f21b41051c"
      },
      "execution_count": null,
      "outputs": [
        {
          "output_type": "execute_result",
          "data": {
            "text/plain": [
              "-0.48366012878994497"
            ]
          },
          "metadata": {},
          "execution_count": 22
        }
      ]
    },
    {
      "cell_type": "markdown",
      "source": [
        "Would less lower income people in the area make the house more costly"
      ],
      "metadata": {
        "id": "LXha2iGRzrL3"
      }
    },
    {
      "cell_type": "code",
      "source": [
        "plt.scatter(Real_Estate_df['Ratio.of.Lower.Income.people.in.area'], Real_Estate_df['Sale.Price.of.House'])\n",
        "plt.title('Ratio of lower income people vs Sale Price' , loc ='left')\n",
        "plt.xlabel('Ratio.of.Lower.Income.people.in.area')\n",
        "plt.ylabel('Sale.Price.of.House')\n",
        "plt.show()"
      ],
      "metadata": {
        "id": "NCs0TWNA7-dX",
        "colab": {
          "base_uri": "https://localhost:8080/",
          "height": 295
        },
        "outputId": "ef303fc3-fc49-4763-b79c-2b51cde7b33e"
      },
      "execution_count": null,
      "outputs": [
        {
          "output_type": "display_data",
          "data": {
            "text/plain": [
              "<Figure size 432x288 with 1 Axes>"
            ],
            "image/png": "[encoded data removed]"
          },
          "metadata": {
            "needs_background": "light"
          }
        }
      ]
    },
    {
      "cell_type": "code",
      "source": [
        "Real_Estate_df['Ratio.of.Lower.Income.people.in.area'].cov(Real_Estate_df['Sale.Price.of.House'])"
      ],
      "metadata": {
        "id": "RsDMlyPa7-Z8",
        "colab": {
          "base_uri": "https://localhost:8080/"
        },
        "outputId": "6acfafa2-6774-48fd-b7a2-8cc1ca5fe6b9"
      },
      "execution_count": null,
      "outputs": [
        {
          "output_type": "execute_result",
          "data": {
            "text/plain": [
              "-48.316185263164684"
            ]
          },
          "metadata": {},
          "execution_count": 24
        }
      ]
    },
    {
      "cell_type": "code",
      "source": [
        "Real_Estate_df['Ratio.of.Lower.Income.people.in.area'].corr(Real_Estate_df['Sale.Price.of.House'])"
      ],
      "metadata": {
        "id": "CFBrjfZ67-YM",
        "colab": {
          "base_uri": "https://localhost:8080/"
        },
        "outputId": "01ab0cab-bb4e-4551-8022-c897d9ab4448"
      },
      "execution_count": null,
      "outputs": [
        {
          "output_type": "execute_result",
          "data": {
            "text/plain": [
              "-0.7394804684248601"
            ]
          },
          "metadata": {},
          "execution_count": 25
        }
      ]
    },
    {
      "cell_type": "markdown",
      "source": [
        "Relation between Crime rate in the area and Sales price of house"
      ],
      "metadata": {
        "id": "__hXI7DE0nZ9"
      }
    },
    {
      "cell_type": "code",
      "source": [
        "plt.scatter(Real_Estate_df['Crime.Rate.in.the.Area'], Real_Estate_df['Sale.Price.of.House'])\n",
        "plt.title('Crime rate in the area vs Sale Price' , loc ='left')\n",
        "plt.xlabel('Crime.Rate.in.the.Area')\n",
        "plt.ylabel('Sale.Price.of.House')\n",
        "plt.show()"
      ],
      "metadata": {
        "id": "Xsz-1qUS7-UA",
        "colab": {
          "base_uri": "https://localhost:8080/",
          "height": 295
        },
        "outputId": "094be846-87e9-4a9f-ca70-ce4f811c3227"
      },
      "execution_count": null,
      "outputs": [
        {
          "output_type": "display_data",
          "data": {
            "text/plain": [
              "<Figure size 432x288 with 1 Axes>"
            ],
            "image/png": "[encoded data removed]"
          },
          "metadata": {
            "needs_background": "light"
          }
        }
      ]
    },
    {
      "cell_type": "code",
      "source": [
        "Real_Estate_df['Crime.Rate.in.the.Area'].cov(Real_Estate_df['Sale.Price.of.House'])"
      ],
      "metadata": {
        "id": "eYGlLhkL7-SX",
        "colab": {
          "base_uri": "https://localhost:8080/"
        },
        "outputId": "81f7c7c1-a0c7-4aa7-8454-c9859604e4d2"
      },
      "execution_count": null,
      "outputs": [
        {
          "output_type": "execute_result",
          "data": {
            "text/plain": [
              "-30.91922300055223"
            ]
          },
          "metadata": {},
          "execution_count": 27
        }
      ]
    },
    {
      "cell_type": "code",
      "source": [
        "Real_Estate_df['Crime.Rate.in.the.Area'].corr(Real_Estate_df['Sale.Price.of.House'])"
      ],
      "metadata": {
        "id": "DB2ajY6v79oB",
        "colab": {
          "base_uri": "https://localhost:8080/"
        },
        "outputId": "a83c0e64-93a9-4e0b-dae6-a02f5e0b9838"
      },
      "execution_count": null,
      "outputs": [
        {
          "output_type": "execute_result",
          "data": {
            "text/plain": [
              "-0.3877284641465176"
            ]
          },
          "metadata": {},
          "execution_count": 28
        }
      ]
    },
    {
      "cell_type": "markdown",
      "source": [
        "Relationship and Strength of relationship between Age of property and Price of house"
      ],
      "metadata": {
        "id": "nsalXIo31cW4"
      }
    },
    {
      "cell_type": "code",
      "source": [
        "plt.scatter(Real_Estate_df['Age.of.Property'], Real_Estate_df['Sale.Price.of.House'])\n",
        "plt.title('Age of Property vs Sale Price' , loc ='left')\n",
        "plt.xlabel('Age.of.Property')\n",
        "plt.ylabel('Sale.Price.of.House')\n",
        "plt.show()"
      ],
      "metadata": {
        "colab": {
          "base_uri": "https://localhost:8080/",
          "height": 295
        },
        "id": "uKUxZgKQ1b1a",
        "outputId": "cc7846b2-a2ea-4b54-ae08-238a3a2dc388"
      },
      "execution_count": null,
      "outputs": [
        {
          "output_type": "display_data",
          "data": {
            "text/plain": [
              "<Figure size 432x288 with 1 Axes>"
            ],
            "image/png": "[encoded data removed]"
          },
          "metadata": {
            "needs_background": "light"
          }
        }
      ]
    },
    {
      "cell_type": "code",
      "source": [
        "Real_Estate_df['Age.of.Property'].cov(Real_Estate_df['Sale.Price.of.House'])"
      ],
      "metadata": {
        "colab": {
          "base_uri": "https://localhost:8080/"
        },
        "id": "oQHwwuJy0gOW",
        "outputId": "2d4ac56b-da3f-4d8d-9f56-f7f6997a34cf"
      },
      "execution_count": null,
      "outputs": [
        {
          "output_type": "execute_result",
          "data": {
            "text/plain": [
              "-99.28395037722161"
            ]
          },
          "metadata": {},
          "execution_count": 30
        }
      ]
    },
    {
      "cell_type": "code",
      "source": [
        "Real_Estate_df['Age.of.Property'].corr(Real_Estate_df['Sale.Price.of.House'])"
      ],
      "metadata": {
        "colab": {
          "base_uri": "https://localhost:8080/"
        },
        "id": "MpDLI-MY0gLF",
        "outputId": "c90d627f-1e5d-45fe-e7f8-5c22d1946b92"
      },
      "execution_count": null,
      "outputs": [
        {
          "output_type": "execute_result",
          "data": {
            "text/plain": [
              "-0.3818395809234209"
            ]
          },
          "metadata": {},
          "execution_count": 31
        }
      ]
    },
    {
      "cell_type": "markdown",
      "source": [
        "Relationship between all the variables and the strength of the relationship between them"
      ],
      "metadata": {
        "id": "DZqow-3P2ZP2"
      }
    },
    {
      "cell_type": "code",
      "source": [
        "covariance = Real_Estate_df.cov()\n",
        "covariance"
      ],
      "metadata": {
        "id": "p73yOvc_0gIJ",
        "colab": {
          "base_uri": "https://localhost:8080/",
          "height": 333
        },
        "outputId": "dd8d223f-042a-4bb1-878b-b7ece7e8cb40"
      },
      "execution_count": 40,
      "outputs": [
        {
          "output_type": "execute_result",
          "data": {
            "text/plain": [
              "                                              Crime.Rate.in.the.Area  \\\n",
              "Crime.Rate.in.the.Area                                     74.544208   \n",
              "Ratio.of.Commercial...Residential.Properties               23.682228   \n",
              "Number.of.Rooms                                            -1.404383   \n",
              "Age.of.Property                                            84.965516   \n",
              "Distance...Nearest.Emp.hub                                 -6.740306   \n",
              "Ratio.of.Lower.Income.people.in.area                       27.952074   \n",
              "Sale.Price.of.House                                       -30.919223   \n",
              "\n",
              "                                              Ratio.of.Commercial...Residential.Properties  \\\n",
              "Crime.Rate.in.the.Area                                                           23.682228   \n",
              "Ratio.of.Commercial...Residential.Properties                                     46.711955   \n",
              "Number.of.Rooms                                                                  -1.926816   \n",
              "Age.of.Property                                                                 122.698931   \n",
              "Distance...Nearest.Emp.hub                                                      -10.031752   \n",
              "Ratio.of.Lower.Income.people.in.area                                             29.224539   \n",
              "Sale.Price.of.House                                                             -30.531507   \n",
              "\n",
              "                                              Number.of.Rooms  \\\n",
              "Crime.Rate.in.the.Area                              -1.404383   \n",
              "Ratio.of.Commercial...Residential.Properties        -1.926816   \n",
              "Number.of.Rooms                                      0.607307   \n",
              "Age.of.Property                                     -4.503689   \n",
              "Distance...Nearest.Emp.hub                           0.288939   \n",
              "Ratio.of.Lower.Income.people.in.area                -3.094307   \n",
              "Sale.Price.of.House                                  4.482653   \n",
              "\n",
              "                                              Age.of.Property  \\\n",
              "Crime.Rate.in.the.Area                              84.965516   \n",
              "Ratio.of.Commercial...Residential.Properties       122.698931   \n",
              "Number.of.Rooms                                     -4.503689   \n",
              "Age.of.Property                                    792.516550   \n",
              "Distance...Nearest.Emp.hub                         -43.697344   \n",
              "Ratio.of.Lower.Income.people.in.area               119.027064   \n",
              "Sale.Price.of.House                                -99.283950   \n",
              "\n",
              "                                              Distance...Nearest.Emp.hub  \\\n",
              "Crime.Rate.in.the.Area                                         -6.740306   \n",
              "Ratio.of.Commercial...Residential.Properties                  -10.031752   \n",
              "Number.of.Rooms                                                 0.288939   \n",
              "Age.of.Property                                               -43.697344   \n",
              "Distance...Nearest.Emp.hub                                      4.394041   \n",
              "Ratio.of.Lower.Income.people.in.area                           -7.355475   \n",
              "Sale.Price.of.House                                             4.791190   \n",
              "\n",
              "                                              Ratio.of.Lower.Income.people.in.area  \\\n",
              "Crime.Rate.in.the.Area                                                   27.952074   \n",
              "Ratio.of.Commercial...Residential.Properties                             29.224539   \n",
              "Number.of.Rooms                                                          -3.094307   \n",
              "Age.of.Property                                                         119.027064   \n",
              "Distance...Nearest.Emp.hub                                               -7.355475   \n",
              "Ratio.of.Lower.Income.people.in.area                                     50.043076   \n",
              "Sale.Price.of.House                                                     -48.316185   \n",
              "\n",
              "                                              Sale.Price.of.House  \n",
              "Crime.Rate.in.the.Area                                 -30.919223  \n",
              "Ratio.of.Commercial...Residential.Properties           -30.531507  \n",
              "Number.of.Rooms                                          4.482653  \n",
              "Age.of.Property                                        -99.283950  \n",
              "Distance...Nearest.Emp.hub                               4.791190  \n",
              "Ratio.of.Lower.Income.people.in.area                   -48.316185  \n",
              "Sale.Price.of.House                                     85.307628  "
            ],
            "text/html": [
              "\n",
              "  <div id=\"df-6d5d4ba5-758d-4dd4-8c09-57bf2c6af7bf\">\n",
              "    <div class=\"colab-df-container\">\n",
              "      <div>\n",
              "<style scoped>\n",
              "    .dataframe tbody tr th:only-of-type {\n",
              "        vertical-align: middle;\n",
              "    }\n",
              "\n",
              "    .dataframe tbody tr th {\n",
              "        vertical-align: top;\n",
              "    }\n",
              "\n",
              "    .dataframe thead th {\n",
              "        text-align: right;\n",
              "    }\n",
              "</style>\n",
              "<table border=\"1\" class=\"dataframe\">\n",
              "  <thead>\n",
              "    <tr style=\"text-align: right;\">\n",
              "      <th></th>\n",
              "      <th>Crime.Rate.in.the.Area</th>\n",
              "      <th>Ratio.of.Commercial...Residential.Properties</th>\n",
              "      <th>Number.of.Rooms</th>\n",
              "      <th>Age.of.Property</th>\n",
              "      <th>Distance...Nearest.Emp.hub</th>\n",
              "      <th>Ratio.of.Lower.Income.people.in.area</th>\n",
              "      <th>Sale.Price.of.House</th>\n",
              "    </tr>\n",
              "  </thead>\n",
              "  <tbody>\n",
              "    <tr>\n",
              "      <th>Crime.Rate.in.the.Area</th>\n",
              "      <td>74.544208</td>\n",
              "      <td>23.682228</td>\n",
              "      <td>-1.404383</td>\n",
              "      <td>84.965516</td>\n",
              "      <td>-6.740306</td>\n",
              "      <td>27.952074</td>\n",
              "      <td>-30.919223</td>\n",
              "    </tr>\n",
              "    <tr>\n",
              "      <th>Ratio.of.Commercial...Residential.Properties</th>\n",
              "      <td>23.682228</td>\n",
              "      <td>46.711955</td>\n",
              "      <td>-1.926816</td>\n",
              "      <td>122.698931</td>\n",
              "      <td>-10.031752</td>\n",
              "      <td>29.224539</td>\n",
              "      <td>-30.531507</td>\n",
              "    </tr>\n",
              "    <tr>\n",
              "      <th>Number.of.Rooms</th>\n",
              "      <td>-1.404383</td>\n",
              "      <td>-1.926816</td>\n",
              "      <td>0.607307</td>\n",
              "      <td>-4.503689</td>\n",
              "      <td>0.288939</td>\n",
              "      <td>-3.094307</td>\n",
              "      <td>4.482653</td>\n",
              "    </tr>\n",
              "    <tr>\n",
              "      <th>Age.of.Property</th>\n",
              "      <td>84.965516</td>\n",
              "      <td>122.698931</td>\n",
              "      <td>-4.503689</td>\n",
              "      <td>792.516550</td>\n",
              "      <td>-43.697344</td>\n",
              "      <td>119.027064</td>\n",
              "      <td>-99.283950</td>\n",
              "    </tr>\n",
              "    <tr>\n",
              "      <th>Distance...Nearest.Emp.hub</th>\n",
              "      <td>-6.740306</td>\n",
              "      <td>-10.031752</td>\n",
              "      <td>0.288939</td>\n",
              "      <td>-43.697344</td>\n",
              "      <td>4.394041</td>\n",
              "      <td>-7.355475</td>\n",
              "      <td>4.791190</td>\n",
              "    </tr>\n",
              "    <tr>\n",
              "      <th>Ratio.of.Lower.Income.people.in.area</th>\n",
              "      <td>27.952074</td>\n",
              "      <td>29.224539</td>\n",
              "      <td>-3.094307</td>\n",
              "      <td>119.027064</td>\n",
              "      <td>-7.355475</td>\n",
              "      <td>50.043076</td>\n",
              "      <td>-48.316185</td>\n",
              "    </tr>\n",
              "    <tr>\n",
              "      <th>Sale.Price.of.House</th>\n",
              "      <td>-30.919223</td>\n",
              "      <td>-30.531507</td>\n",
              "      <td>4.482653</td>\n",
              "      <td>-99.283950</td>\n",
              "      <td>4.791190</td>\n",
              "      <td>-48.316185</td>\n",
              "      <td>85.307628</td>\n",
              "    </tr>\n",
              "  </tbody>\n",
              "</table>\n",
              "</div>\n",
              "      <button class=\"colab-df-convert\" onclick=\"convertToInteractive('df-6d5d4ba5-758d-4dd4-8c09-57bf2c6af7bf')\"\n",
              "              title=\"Convert this dataframe to an interactive table.\"\n",
              "              style=\"display:none;\">\n",
              "        \n",
              "  <svg xmlns=\"http://www.w3.org/2000/svg\" height=\"24px\"viewBox=\"0 0 24 24\"\n",
              "       width=\"24px\">\n",
              "    <path d=\"M0 0h24v24H0V0z\" fill=\"none\"/>\n",
              "    <path d=\"M18.56 5.44l.94 2.06.94-2.06 2.06-.94-2.06-.94-.94-2.06-.94 2.06-2.06.94zm-11 1L8.5 8.5l.94-2.06 2.06-.94-2.06-.94L8.5 2.5l-.94 2.06-2.06.94zm10 10l.94 2.06.94-2.06 2.06-.94-2.06-.94-.94-2.06-.94 2.06-2.06.94z\"/><path d=\"M17.41 7.96l-1.37-1.37c-.4-.4-.92-.59-1.43-.59-.52 0-1.04.2-1.43.59L10.3 9.45l-7.72 7.72c-.78.78-.78 2.05 0 2.83L4 21.41c.39.39.9.59 1.41.59.51 0 1.02-.2 1.41-.59l7.78-7.78 2.81-2.81c.8-.78.8-2.07 0-2.86zM5.41 20L4 18.59l7.72-7.72 1.47 1.35L5.41 20z\"/>\n",
              "  </svg>\n",
              "      </button>\n",
              "      \n",
              "  <style>\n",
              "    .colab-df-container {\n",
              "      display:flex;\n",
              "      flex-wrap:wrap;\n",
              "      gap: 12px;\n",
              "    }\n",
              "\n",
              "    .colab-df-convert {\n",
              "      background-color: #E8F0FE;\n",
              "      border: none;\n",
              "      border-radius: 50%;\n",
              "      cursor: pointer;\n",
              "      display: none;\n",
              "      fill: #1967D2;\n",
              "      height: 32px;\n",
              "      padding: 0 0 0 0;\n",
              "      width: 32px;\n",
              "    }\n",
              "\n",
              "    .colab-df-convert:hover {\n",
              "      background-color: #E2EBFA;\n",
              "      box-shadow: 0px 1px 2px rgba(60, 64, 67, 0.3), 0px 1px 3px 1px rgba(60, 64, 67, 0.15);\n",
              "      fill: #174EA6;\n",
              "    }\n",
              "\n",
              "    [theme=dark] .colab-df-convert {\n",
              "      background-color: #3B4455;\n",
              "      fill: #D2E3FC;\n",
              "    }\n",
              "\n",
              "    [theme=dark] .colab-df-convert:hover {\n",
              "      background-color: #434B5C;\n",
              "      box-shadow: 0px 1px 3px 1px rgba(0, 0, 0, 0.15);\n",
              "      filter: drop-shadow(0px 1px 2px rgba(0, 0, 0, 0.3));\n",
              "      fill: #FFFFFF;\n",
              "    }\n",
              "  </style>\n",
              "\n",
              "      <script>\n",
              "        const buttonEl =\n",
              "          document.querySelector('#df-6d5d4ba5-758d-4dd4-8c09-57bf2c6af7bf button.colab-df-convert');\n",
              "        buttonEl.style.display =\n",
              "          google.colab.kernel.accessAllowed ? 'block' : 'none';\n",
              "\n",
              "        async function convertToInteractive(key) {\n",
              "          const element = document.querySelector('#df-6d5d4ba5-758d-4dd4-8c09-57bf2c6af7bf');\n",
              "          const dataTable =\n",
              "            await google.colab.kernel.invokeFunction('convertToInteractive',\n",
              "                                                     [key], {});\n",
              "          if (!dataTable) return;\n",
              "\n",
              "          const docLinkHtml = 'Like what you see? Visit the ' +\n",
              "            '<a target=\"_blank\" href=https://colab.research.google.com/notebooks/data_table.ipynb>data table notebook</a>'\n",
              "            + ' to learn more about interactive tables.';\n",
              "          element.innerHTML = '';\n",
              "          dataTable['output_type'] = 'display_data';\n",
              "          await google.colab.output.renderOutput(dataTable, element);\n",
              "          const docLink = document.createElement('div');\n",
              "          docLink.innerHTML = docLinkHtml;\n",
              "          element.appendChild(docLink);\n",
              "        }\n",
              "      </script>\n",
              "    </div>\n",
              "  </div>\n",
              "  "
            ]
          },
          "metadata": {},
          "execution_count": 40
        }
      ]
    },
    {
      "cell_type": "code",
      "source": [
        "correlation = Real_Estate_df.corr()\n",
        "correlation"
      ],
      "metadata": {
        "id": "GA4h4o7R0gGW",
        "colab": {
          "base_uri": "https://localhost:8080/",
          "height": 333
        },
        "outputId": "9a000073-6386-4fa8-f7fa-f2fa592799b3"
      },
      "execution_count": 41,
      "outputs": [
        {
          "output_type": "execute_result",
          "data": {
            "text/plain": [
              "                                              Crime.Rate.in.the.Area  \\\n",
              "Crime.Rate.in.the.Area                                      1.000000   \n",
              "Ratio.of.Commercial...Residential.Properties                0.401330   \n",
              "Number.of.Rooms                                            -0.208725   \n",
              "Age.of.Property                                             0.349568   \n",
              "Distance...Nearest.Emp.hub                                 -0.372427   \n",
              "Ratio.of.Lower.Income.people.in.area                        0.457652   \n",
              "Sale.Price.of.House                                        -0.387728   \n",
              "\n",
              "                                              Ratio.of.Commercial...Residential.Properties  \\\n",
              "Crime.Rate.in.the.Area                                                            0.401330   \n",
              "Ratio.of.Commercial...Residential.Properties                                      1.000000   \n",
              "Number.of.Rooms                                                                  -0.361761   \n",
              "Age.of.Property                                                                   0.637709   \n",
              "Distance...Nearest.Emp.hub                                                       -0.700214   \n",
              "Ratio.of.Lower.Income.people.in.area                                              0.604452   \n",
              "Sale.Price.of.House                                                              -0.483660   \n",
              "\n",
              "                                              Number.of.Rooms  \\\n",
              "Crime.Rate.in.the.Area                              -0.208725   \n",
              "Ratio.of.Commercial...Residential.Properties        -0.361761   \n",
              "Number.of.Rooms                                      1.000000   \n",
              "Age.of.Property                                     -0.205286   \n",
              "Distance...Nearest.Emp.hub                           0.176877   \n",
              "Ratio.of.Lower.Income.people.in.area                -0.561290   \n",
              "Sale.Price.of.House                                  0.622783   \n",
              "\n",
              "                                              Age.of.Property  \\\n",
              "Crime.Rate.in.the.Area                               0.349568   \n",
              "Ratio.of.Commercial...Residential.Properties         0.637709   \n",
              "Number.of.Rooms                                     -0.205286   \n",
              "Age.of.Property                                      1.000000   \n",
              "Distance...Nearest.Emp.hub                          -0.740489   \n",
              "Ratio.of.Lower.Income.people.in.area                 0.597681   \n",
              "Sale.Price.of.House                                 -0.381840   \n",
              "\n",
              "                                              Distance...Nearest.Emp.hub  \\\n",
              "Crime.Rate.in.the.Area                                         -0.372427   \n",
              "Ratio.of.Commercial...Residential.Properties                   -0.700214   \n",
              "Number.of.Rooms                                                 0.176877   \n",
              "Age.of.Property                                                -0.740489   \n",
              "Distance...Nearest.Emp.hub                                      1.000000   \n",
              "Ratio.of.Lower.Income.people.in.area                           -0.496029   \n",
              "Sale.Price.of.House                                             0.247467   \n",
              "\n",
              "                                              Ratio.of.Lower.Income.people.in.area  \\\n",
              "Crime.Rate.in.the.Area                                                    0.457652   \n",
              "Ratio.of.Commercial...Residential.Properties                              0.604452   \n",
              "Number.of.Rooms                                                          -0.561290   \n",
              "Age.of.Property                                                           0.597681   \n",
              "Distance...Nearest.Emp.hub                                               -0.496029   \n",
              "Ratio.of.Lower.Income.people.in.area                                      1.000000   \n",
              "Sale.Price.of.House                                                      -0.739480   \n",
              "\n",
              "                                              Sale.Price.of.House  \n",
              "Crime.Rate.in.the.Area                                  -0.387728  \n",
              "Ratio.of.Commercial...Residential.Properties            -0.483660  \n",
              "Number.of.Rooms                                          0.622783  \n",
              "Age.of.Property                                         -0.381840  \n",
              "Distance...Nearest.Emp.hub                               0.247467  \n",
              "Ratio.of.Lower.Income.people.in.area                    -0.739480  \n",
              "Sale.Price.of.House                                      1.000000  "
            ],
            "text/html": [
              "\n",
              "  <div id=\"df-6c26076c-8629-4b56-a2f1-639c8d41dafc\">\n",
              "    <div class=\"colab-df-container\">\n",
              "      <div>\n",
              "<style scoped>\n",
              "    .dataframe tbody tr th:only-of-type {\n",
              "        vertical-align: middle;\n",
              "    }\n",
              "\n",
              "    .dataframe tbody tr th {\n",
              "        vertical-align: top;\n",
              "    }\n",
              "\n",
              "    .dataframe thead th {\n",
              "        text-align: right;\n",
              "    }\n",
              "</style>\n",
              "<table border=\"1\" class=\"dataframe\">\n",
              "  <thead>\n",
              "    <tr style=\"text-align: right;\">\n",
              "      <th></th>\n",
              "      <th>Crime.Rate.in.the.Area</th>\n",
              "      <th>Ratio.of.Commercial...Residential.Properties</th>\n",
              "      <th>Number.of.Rooms</th>\n",
              "      <th>Age.of.Property</th>\n",
              "      <th>Distance...Nearest.Emp.hub</th>\n",
              "      <th>Ratio.of.Lower.Income.people.in.area</th>\n",
              "      <th>Sale.Price.of.House</th>\n",
              "    </tr>\n",
              "  </thead>\n",
              "  <tbody>\n",
              "    <tr>\n",
              "      <th>Crime.Rate.in.the.Area</th>\n",
              "      <td>1.000000</td>\n",
              "      <td>0.401330</td>\n",
              "      <td>-0.208725</td>\n",
              "      <td>0.349568</td>\n",
              "      <td>-0.372427</td>\n",
              "      <td>0.457652</td>\n",
              "      <td>-0.387728</td>\n",
              "    </tr>\n",
              "    <tr>\n",
              "      <th>Ratio.of.Commercial...Residential.Properties</th>\n",
              "      <td>0.401330</td>\n",
              "      <td>1.000000</td>\n",
              "      <td>-0.361761</td>\n",
              "      <td>0.637709</td>\n",
              "      <td>-0.700214</td>\n",
              "      <td>0.604452</td>\n",
              "      <td>-0.483660</td>\n",
              "    </tr>\n",
              "    <tr>\n",
              "      <th>Number.of.Rooms</th>\n",
              "      <td>-0.208725</td>\n",
              "      <td>-0.361761</td>\n",
              "      <td>1.000000</td>\n",
              "      <td>-0.205286</td>\n",
              "      <td>0.176877</td>\n",
              "      <td>-0.561290</td>\n",
              "      <td>0.622783</td>\n",
              "    </tr>\n",
              "    <tr>\n",
              "      <th>Age.of.Property</th>\n",
              "      <td>0.349568</td>\n",
              "      <td>0.637709</td>\n",
              "      <td>-0.205286</td>\n",
              "      <td>1.000000</td>\n",
              "      <td>-0.740489</td>\n",
              "      <td>0.597681</td>\n",
              "      <td>-0.381840</td>\n",
              "    </tr>\n",
              "    <tr>\n",
              "      <th>Distance...Nearest.Emp.hub</th>\n",
              "      <td>-0.372427</td>\n",
              "      <td>-0.700214</td>\n",
              "      <td>0.176877</td>\n",
              "      <td>-0.740489</td>\n",
              "      <td>1.000000</td>\n",
              "      <td>-0.496029</td>\n",
              "      <td>0.247467</td>\n",
              "    </tr>\n",
              "    <tr>\n",
              "      <th>Ratio.of.Lower.Income.people.in.area</th>\n",
              "      <td>0.457652</td>\n",
              "      <td>0.604452</td>\n",
              "      <td>-0.561290</td>\n",
              "      <td>0.597681</td>\n",
              "      <td>-0.496029</td>\n",
              "      <td>1.000000</td>\n",
              "      <td>-0.739480</td>\n",
              "    </tr>\n",
              "    <tr>\n",
              "      <th>Sale.Price.of.House</th>\n",
              "      <td>-0.387728</td>\n",
              "      <td>-0.483660</td>\n",
              "      <td>0.622783</td>\n",
              "      <td>-0.381840</td>\n",
              "      <td>0.247467</td>\n",
              "      <td>-0.739480</td>\n",
              "      <td>1.000000</td>\n",
              "    </tr>\n",
              "  </tbody>\n",
              "</table>\n",
              "</div>\n",
              "      <button class=\"colab-df-convert\" onclick=\"convertToInteractive('df-6c26076c-8629-4b56-a2f1-639c8d41dafc')\"\n",
              "              title=\"Convert this dataframe to an interactive table.\"\n",
              "              style=\"display:none;\">\n",
              "        \n",
              "  <svg xmlns=\"http://www.w3.org/2000/svg\" height=\"24px\"viewBox=\"0 0 24 24\"\n",
              "       width=\"24px\">\n",
              "    <path d=\"M0 0h24v24H0V0z\" fill=\"none\"/>\n",
              "    <path d=\"M18.56 5.44l.94 2.06.94-2.06 2.06-.94-2.06-.94-.94-2.06-.94 2.06-2.06.94zm-11 1L8.5 8.5l.94-2.06 2.06-.94-2.06-.94L8.5 2.5l-.94 2.06-2.06.94zm10 10l.94 2.06.94-2.06 2.06-.94-2.06-.94-.94-2.06-.94 2.06-2.06.94z\"/><path d=\"M17.41 7.96l-1.37-1.37c-.4-.4-.92-.59-1.43-.59-.52 0-1.04.2-1.43.59L10.3 9.45l-7.72 7.72c-.78.78-.78 2.05 0 2.83L4 21.41c.39.39.9.59 1.41.59.51 0 1.02-.2 1.41-.59l7.78-7.78 2.81-2.81c.8-.78.8-2.07 0-2.86zM5.41 20L4 18.59l7.72-7.72 1.47 1.35L5.41 20z\"/>\n",
              "  </svg>\n",
              "      </button>\n",
              "      \n",
              "  <style>\n",
              "    .colab-df-container {\n",
              "      display:flex;\n",
              "      flex-wrap:wrap;\n",
              "      gap: 12px;\n",
              "    }\n",
              "\n",
              "    .colab-df-convert {\n",
              "      background-color: #E8F0FE;\n",
              "      border: none;\n",
              "      border-radius: 50%;\n",
              "      cursor: pointer;\n",
              "      display: none;\n",
              "      fill: #1967D2;\n",
              "      height: 32px;\n",
              "      padding: 0 0 0 0;\n",
              "      width: 32px;\n",
              "    }\n",
              "\n",
              "    .colab-df-convert:hover {\n",
              "      background-color: #E2EBFA;\n",
              "      box-shadow: 0px 1px 2px rgba(60, 64, 67, 0.3), 0px 1px 3px 1px rgba(60, 64, 67, 0.15);\n",
              "      fill: #174EA6;\n",
              "    }\n",
              "\n",
              "    [theme=dark] .colab-df-convert {\n",
              "      background-color: #3B4455;\n",
              "      fill: #D2E3FC;\n",
              "    }\n",
              "\n",
              "    [theme=dark] .colab-df-convert:hover {\n",
              "      background-color: #434B5C;\n",
              "      box-shadow: 0px 1px 3px 1px rgba(0, 0, 0, 0.15);\n",
              "      filter: drop-shadow(0px 1px 2px rgba(0, 0, 0, 0.3));\n",
              "      fill: #FFFFFF;\n",
              "    }\n",
              "  </style>\n",
              "\n",
              "      <script>\n",
              "        const buttonEl =\n",
              "          document.querySelector('#df-6c26076c-8629-4b56-a2f1-639c8d41dafc button.colab-df-convert');\n",
              "        buttonEl.style.display =\n",
              "          google.colab.kernel.accessAllowed ? 'block' : 'none';\n",
              "\n",
              "        async function convertToInteractive(key) {\n",
              "          const element = document.querySelector('#df-6c26076c-8629-4b56-a2f1-639c8d41dafc');\n",
              "          const dataTable =\n",
              "            await google.colab.kernel.invokeFunction('convertToInteractive',\n",
              "                                                     [key], {});\n",
              "          if (!dataTable) return;\n",
              "\n",
              "          const docLinkHtml = 'Like what you see? Visit the ' +\n",
              "            '<a target=\"_blank\" href=https://colab.research.google.com/notebooks/data_table.ipynb>data table notebook</a>'\n",
              "            + ' to learn more about interactive tables.';\n",
              "          element.innerHTML = '';\n",
              "          dataTable['output_type'] = 'display_data';\n",
              "          await google.colab.output.renderOutput(dataTable, element);\n",
              "          const docLink = document.createElement('div');\n",
              "          docLink.innerHTML = docLinkHtml;\n",
              "          element.appendChild(docLink);\n",
              "        }\n",
              "      </script>\n",
              "    </div>\n",
              "  </div>\n",
              "  "
            ]
          },
          "metadata": {},
          "execution_count": 41
        }
      ]
    },
    {
      "cell_type": "code",
      "source": [
        "correlation.style.background_gradient(cmap='coolwarm')\n"
      ],
      "metadata": {
        "id": "0MQInG2b0gCp",
        "colab": {
          "base_uri": "https://localhost:8080/",
          "height": 289
        },
        "outputId": "f7e1fd8f-bf5d-45c3-e061-cca824ed1f6f"
      },
      "execution_count": 46,
      "outputs": [
        {
          "output_type": "execute_result",
          "data": {
            "text/plain": [
              "<pandas.io.formats.style.Styler at 0x7fd7d9010310>"
            ],
            "text/html": [
              "<style type=\"text/css\">\n",
              "#T_76681_row0_col0, #T_76681_row1_col1, #T_76681_row2_col2, #T_76681_row3_col3, #T_76681_row4_col4, #T_76681_row5_col5, #T_76681_row6_col6 {\n",
              "  background-color: #b40426;\n",
              "  color: #f1f1f1;\n",
              "}\n",
              "#T_76681_row0_col1 {\n",
              "  background-color: #f6bea4;\n",
              "  color: #000000;\n",
              "}\n",
              "#T_76681_row0_col2 {\n",
              "  background-color: #84a7fc;\n",
              "  color: #f1f1f1;\n",
              "}\n",
              "#T_76681_row0_col3 {\n",
              "  background-color: #f5c4ac;\n",
              "  color: #000000;\n",
              "}\n",
              "#T_76681_row0_col4 {\n",
              "  background-color: #80a3fa;\n",
              "  color: #f1f1f1;\n",
              "}\n",
              "#T_76681_row0_col5 {\n",
              "  background-color: #f7b093;\n",
              "  color: #000000;\n",
              "}\n",
              "#T_76681_row0_col6 {\n",
              "  background-color: #7b9ff9;\n",
              "  color: #f1f1f1;\n",
              "}\n",
              "#T_76681_row1_col0, #T_76681_row4_col6, #T_76681_row6_col4 {\n",
              "  background-color: #edd2c3;\n",
              "  color: #000000;\n",
              "}\n",
              "#T_76681_row1_col2, #T_76681_row6_col1 {\n",
              "  background-color: #6282ea;\n",
              "  color: #f1f1f1;\n",
              "}\n",
              "#T_76681_row1_col3 {\n",
              "  background-color: #ef886b;\n",
              "  color: #f1f1f1;\n",
              "}\n",
              "#T_76681_row1_col4 {\n",
              "  background-color: #4055c8;\n",
              "  color: #f1f1f1;\n",
              "}\n",
              "#T_76681_row1_col5 {\n",
              "  background-color: #f29072;\n",
              "  color: #f1f1f1;\n",
              "}\n",
              "#T_76681_row1_col6 {\n",
              "  background-color: #688aef;\n",
              "  color: #f1f1f1;\n",
              "}\n",
              "#T_76681_row2_col0 {\n",
              "  background-color: #6384eb;\n",
              "  color: #f1f1f1;\n",
              "}\n",
              "#T_76681_row2_col1 {\n",
              "  background-color: #7a9df8;\n",
              "  color: #f1f1f1;\n",
              "}\n",
              "#T_76681_row2_col3 {\n",
              "  background-color: #a1c0ff;\n",
              "  color: #000000;\n",
              "}\n",
              "#T_76681_row2_col4 {\n",
              "  background-color: #e3d9d3;\n",
              "  color: #000000;\n",
              "}\n",
              "#T_76681_row2_col5 {\n",
              "  background-color: #5a78e4;\n",
              "  color: #f1f1f1;\n",
              "}\n",
              "#T_76681_row2_col6 {\n",
              "  background-color: #f08b6e;\n",
              "  color: #f1f1f1;\n",
              "}\n",
              "#T_76681_row3_col0 {\n",
              "  background-color: #e5d8d1;\n",
              "  color: #000000;\n",
              "}\n",
              "#T_76681_row3_col1 {\n",
              "  background-color: #f08a6c;\n",
              "  color: #f1f1f1;\n",
              "}\n",
              "#T_76681_row3_col2 {\n",
              "  background-color: #85a8fc;\n",
              "  color: #f1f1f1;\n",
              "}\n",
              "#T_76681_row3_col4, #T_76681_row4_col1, #T_76681_row4_col3, #T_76681_row5_col2, #T_76681_row5_col6, #T_76681_row6_col0, #T_76681_row6_col5 {\n",
              "  background-color: #3b4cc0;\n",
              "  color: #f1f1f1;\n",
              "}\n",
              "#T_76681_row3_col5, #T_76681_row5_col1, #T_76681_row5_col3 {\n",
              "  background-color: #f29274;\n",
              "  color: #f1f1f1;\n",
              "}\n",
              "#T_76681_row3_col6, #T_76681_row6_col3 {\n",
              "  background-color: #7da0f9;\n",
              "  color: #f1f1f1;\n",
              "}\n",
              "#T_76681_row4_col0 {\n",
              "  background-color: #3d50c3;\n",
              "  color: #f1f1f1;\n",
              "}\n",
              "#T_76681_row4_col2 {\n",
              "  background-color: #d6dce4;\n",
              "  color: #000000;\n",
              "}\n",
              "#T_76681_row4_col5, #T_76681_row5_col4 {\n",
              "  background-color: #6687ed;\n",
              "  color: #f1f1f1;\n",
              "}\n",
              "#T_76681_row5_col0 {\n",
              "  background-color: #f2c9b4;\n",
              "  color: #000000;\n",
              "}\n",
              "#T_76681_row6_col2 {\n",
              "  background-color: #f39577;\n",
              "  color: #000000;\n",
              "}\n",
              "</style>\n",
              "<table id=\"T_76681_\" class=\"dataframe\">\n",
              "  <thead>\n",
              "    <tr>\n",
              "      <th class=\"blank level0\" >&nbsp;</th>\n",
              "      <th class=\"col_heading level0 col0\" >Crime.Rate.in.the.Area</th>\n",
              "      <th class=\"col_heading level0 col1\" >Ratio.of.Commercial...Residential.Properties</th>\n",
              "      <th class=\"col_heading level0 col2\" >Number.of.Rooms</th>\n",
              "      <th class=\"col_heading level0 col3\" >Age.of.Property</th>\n",
              "      <th class=\"col_heading level0 col4\" >Distance...Nearest.Emp.hub</th>\n",
              "      <th class=\"col_heading level0 col5\" >Ratio.of.Lower.Income.people.in.area</th>\n",
              "      <th class=\"col_heading level0 col6\" >Sale.Price.of.House</th>\n",
              "    </tr>\n",
              "  </thead>\n",
              "  <tbody>\n",
              "    <tr>\n",
              "      <th id=\"T_76681_level0_row0\" class=\"row_heading level0 row0\" >Crime.Rate.in.the.Area</th>\n",
              "      <td id=\"T_76681_row0_col0\" class=\"data row0 col0\" >1.000000</td>\n",
              "      <td id=\"T_76681_row0_col1\" class=\"data row0 col1\" >0.401330</td>\n",
              "      <td id=\"T_76681_row0_col2\" class=\"data row0 col2\" >-0.208725</td>\n",
              "      <td id=\"T_76681_row0_col3\" class=\"data row0 col3\" >0.349568</td>\n",
              "      <td id=\"T_76681_row0_col4\" class=\"data row0 col4\" >-0.372427</td>\n",
              "      <td id=\"T_76681_row0_col5\" class=\"data row0 col5\" >0.457652</td>\n",
              "      <td id=\"T_76681_row0_col6\" class=\"data row0 col6\" >-0.387728</td>\n",
              "    </tr>\n",
              "    <tr>\n",
              "      <th id=\"T_76681_level0_row1\" class=\"row_heading level0 row1\" >Ratio.of.Commercial...Residential.Properties</th>\n",
              "      <td id=\"T_76681_row1_col0\" class=\"data row1 col0\" >0.401330</td>\n",
              "      <td id=\"T_76681_row1_col1\" class=\"data row1 col1\" >1.000000</td>\n",
              "      <td id=\"T_76681_row1_col2\" class=\"data row1 col2\" >-0.361761</td>\n",
              "      <td id=\"T_76681_row1_col3\" class=\"data row1 col3\" >0.637709</td>\n",
              "      <td id=\"T_76681_row1_col4\" class=\"data row1 col4\" >-0.700214</td>\n",
              "      <td id=\"T_76681_row1_col5\" class=\"data row1 col5\" >0.604452</td>\n",
              "      <td id=\"T_76681_row1_col6\" class=\"data row1 col6\" >-0.483660</td>\n",
              "    </tr>\n",
              "    <tr>\n",
              "      <th id=\"T_76681_level0_row2\" class=\"row_heading level0 row2\" >Number.of.Rooms</th>\n",
              "      <td id=\"T_76681_row2_col0\" class=\"data row2 col0\" >-0.208725</td>\n",
              "      <td id=\"T_76681_row2_col1\" class=\"data row2 col1\" >-0.361761</td>\n",
              "      <td id=\"T_76681_row2_col2\" class=\"data row2 col2\" >1.000000</td>\n",
              "      <td id=\"T_76681_row2_col3\" class=\"data row2 col3\" >-0.205286</td>\n",
              "      <td id=\"T_76681_row2_col4\" class=\"data row2 col4\" >0.176877</td>\n",
              "      <td id=\"T_76681_row2_col5\" class=\"data row2 col5\" >-0.561290</td>\n",
              "      <td id=\"T_76681_row2_col6\" class=\"data row2 col6\" >0.622783</td>\n",
              "    </tr>\n",
              "    <tr>\n",
              "      <th id=\"T_76681_level0_row3\" class=\"row_heading level0 row3\" >Age.of.Property</th>\n",
              "      <td id=\"T_76681_row3_col0\" class=\"data row3 col0\" >0.349568</td>\n",
              "      <td id=\"T_76681_row3_col1\" class=\"data row3 col1\" >0.637709</td>\n",
              "      <td id=\"T_76681_row3_col2\" class=\"data row3 col2\" >-0.205286</td>\n",
              "      <td id=\"T_76681_row3_col3\" class=\"data row3 col3\" >1.000000</td>\n",
              "      <td id=\"T_76681_row3_col4\" class=\"data row3 col4\" >-0.740489</td>\n",
              "      <td id=\"T_76681_row3_col5\" class=\"data row3 col5\" >0.597681</td>\n",
              "      <td id=\"T_76681_row3_col6\" class=\"data row3 col6\" >-0.381840</td>\n",
              "    </tr>\n",
              "    <tr>\n",
              "      <th id=\"T_76681_level0_row4\" class=\"row_heading level0 row4\" >Distance...Nearest.Emp.hub</th>\n",
              "      <td id=\"T_76681_row4_col0\" class=\"data row4 col0\" >-0.372427</td>\n",
              "      <td id=\"T_76681_row4_col1\" class=\"data row4 col1\" >-0.700214</td>\n",
              "      <td id=\"T_76681_row4_col2\" class=\"data row4 col2\" >0.176877</td>\n",
              "      <td id=\"T_76681_row4_col3\" class=\"data row4 col3\" >-0.740489</td>\n",
              "      <td id=\"T_76681_row4_col4\" class=\"data row4 col4\" >1.000000</td>\n",
              "      <td id=\"T_76681_row4_col5\" class=\"data row4 col5\" >-0.496029</td>\n",
              "      <td id=\"T_76681_row4_col6\" class=\"data row4 col6\" >0.247467</td>\n",
              "    </tr>\n",
              "    <tr>\n",
              "      <th id=\"T_76681_level0_row5\" class=\"row_heading level0 row5\" >Ratio.of.Lower.Income.people.in.area</th>\n",
              "      <td id=\"T_76681_row5_col0\" class=\"data row5 col0\" >0.457652</td>\n",
              "      <td id=\"T_76681_row5_col1\" class=\"data row5 col1\" >0.604452</td>\n",
              "      <td id=\"T_76681_row5_col2\" class=\"data row5 col2\" >-0.561290</td>\n",
              "      <td id=\"T_76681_row5_col3\" class=\"data row5 col3\" >0.597681</td>\n",
              "      <td id=\"T_76681_row5_col4\" class=\"data row5 col4\" >-0.496029</td>\n",
              "      <td id=\"T_76681_row5_col5\" class=\"data row5 col5\" >1.000000</td>\n",
              "      <td id=\"T_76681_row5_col6\" class=\"data row5 col6\" >-0.739480</td>\n",
              "    </tr>\n",
              "    <tr>\n",
              "      <th id=\"T_76681_level0_row6\" class=\"row_heading level0 row6\" >Sale.Price.of.House</th>\n",
              "      <td id=\"T_76681_row6_col0\" class=\"data row6 col0\" >-0.387728</td>\n",
              "      <td id=\"T_76681_row6_col1\" class=\"data row6 col1\" >-0.483660</td>\n",
              "      <td id=\"T_76681_row6_col2\" class=\"data row6 col2\" >0.622783</td>\n",
              "      <td id=\"T_76681_row6_col3\" class=\"data row6 col3\" >-0.381840</td>\n",
              "      <td id=\"T_76681_row6_col4\" class=\"data row6 col4\" >0.247467</td>\n",
              "      <td id=\"T_76681_row6_col5\" class=\"data row6 col5\" >-0.739480</td>\n",
              "      <td id=\"T_76681_row6_col6\" class=\"data row6 col6\" >1.000000</td>\n",
              "    </tr>\n",
              "  </tbody>\n",
              "</table>\n"
            ]
          },
          "metadata": {},
          "execution_count": 46
        }
      ]
    },
    {
      "cell_type": "code",
      "source": [
        ""
      ],
      "metadata": {
        "id": "-pyx4AiG0gAg"
      },
      "execution_count": null,
      "outputs": []
    },
    {
      "cell_type": "code",
      "source": [
        ""
      ],
      "metadata": {
        "id": "7TK3tizu6d3Z"
      },
      "execution_count": null,
      "outputs": []
    },
    {
      "cell_type": "code",
      "source": [
        ""
      ],
      "metadata": {
        "id": "1dKH5JAc6d0X"
      },
      "execution_count": null,
      "outputs": []
    },
    {
      "cell_type": "code",
      "source": [
        ""
      ],
      "metadata": {
        "id": "cVZN9CEq6dwv"
      },
      "execution_count": null,
      "outputs": []
    },
    {
      "cell_type": "code",
      "source": [
        ""
      ],
      "metadata": {
        "id": "mcO6zc6W6duC"
      },
      "execution_count": null,
      "outputs": []
    },
    {
      "cell_type": "code",
      "source": [
        ""
      ],
      "metadata": {
        "id": "zXHM97FQ6djS"
      },
      "execution_count": null,
      "outputs": []
    }
  ]
}