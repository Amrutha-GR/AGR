{
  "nbformat": 4,
  "nbformat_minor": 0,
  "metadata": {
    "colab": {
      "name": "SGD_BatchGD_MiniBatchGD.ipynb",
      "provenance": [],
      "collapsed_sections": [],
      "authorship_tag": "ABX9TyOhkxgUW5b4AIJm/xSqHtbD",
      "include_colab_link": true
    },
    "kernelspec": {
      "name": "python3",
      "display_name": "Python 3"
    },
    "language_info": {
      "name": "python"
    }
  },
  "cells": [
    {
      "cell_type": "markdown",
      "metadata": {
        "id": "view-in-github",
        "colab_type": "text"
      },
      "source": [
        "<a href=\"https://colab.research.google.com/github/Amrutha-GR/AGR/blob/AI/SGD_BatchGD_MiniBatchGD.ipynb\" target=\"_parent\"><img src=\"https://colab.research.google.com/assets/colab-badge.svg\" alt=\"Open In Colab\"/></a>"
      ]
    },
    {
      "cell_type": "code",
      "execution_count": 1,
      "metadata": {
        "id": "pcK8OowLMHF0"
      },
      "outputs": [],
      "source": [
        "import numpy as np\n",
        "import tensorflow as tf\n",
        "from tensorflow import keras\n",
        "import pandas as pd\n",
        "import matplotlib.pyplot as plt\n",
        "%matplotlib inline"
      ]
    },
    {
      "cell_type": "code",
      "source": [
        "from google.colab import files\n",
        "from google.colab import drive\n",
        "drive.mount('/content/drive')\n"
      ],
      "metadata": {
        "colab": {
          "base_uri": "https://localhost:8080/"
        },
        "id": "daN3p2chMVup",
        "outputId": "889cf64a-ffd1-4355-9708-b0b59135482c"
      },
      "execution_count": 2,
      "outputs": [
        {
          "output_type": "stream",
          "name": "stdout",
          "text": [
            "Mounted at /content/drive\n"
          ]
        }
      ]
    },
    {
      "cell_type": "code",
      "source": [
        "Home_Prices_df = pd.read_csv('/content/drive/MyDrive/Data_Science/DATA/homeprices_banglore.csv')\n",
        "Home_Prices_df.sample(5)"
      ],
      "metadata": {
        "colab": {
          "base_uri": "https://localhost:8080/",
          "height": 206
        },
        "id": "-LAXLiLwOwp2",
        "outputId": "aa876b26-99fe-4f2b-89c8-dad52796bac8"
      },
      "execution_count": 3,
      "outputs": [
        {
          "output_type": "execute_result",
          "data": {
            "text/plain": [
              "    area  bedrooms  price\n",
              "1   2600         4  120.0\n",
              "5   1170         2   38.0\n",
              "11  2785         4  140.0\n",
              "10  1800         3   82.0\n",
              "19   800         1   32.0"
            ],
            "text/html": [
              "\n",
              "  <div id=\"df-66f56a6e-bf14-4a2c-80a9-5a882b015841\">\n",
              "    <div class=\"colab-df-container\">\n",
              "      <div>\n",
              "<style scoped>\n",
              "    .dataframe tbody tr th:only-of-type {\n",
              "        vertical-align: middle;\n",
              "    }\n",
              "\n",
              "    .dataframe tbody tr th {\n",
              "        vertical-align: top;\n",
              "    }\n",
              "\n",
              "    .dataframe thead th {\n",
              "        text-align: right;\n",
              "    }\n",
              "</style>\n",
              "<table border=\"1\" class=\"dataframe\">\n",
              "  <thead>\n",
              "    <tr style=\"text-align: right;\">\n",
              "      <th></th>\n",
              "      <th>area</th>\n",
              "      <th>bedrooms</th>\n",
              "      <th>price</th>\n",
              "    </tr>\n",
              "  </thead>\n",
              "  <tbody>\n",
              "    <tr>\n",
              "      <th>1</th>\n",
              "      <td>2600</td>\n",
              "      <td>4</td>\n",
              "      <td>120.0</td>\n",
              "    </tr>\n",
              "    <tr>\n",
              "      <th>5</th>\n",
              "      <td>1170</td>\n",
              "      <td>2</td>\n",
              "      <td>38.0</td>\n",
              "    </tr>\n",
              "    <tr>\n",
              "      <th>11</th>\n",
              "      <td>2785</td>\n",
              "      <td>4</td>\n",
              "      <td>140.0</td>\n",
              "    </tr>\n",
              "    <tr>\n",
              "      <th>10</th>\n",
              "      <td>1800</td>\n",
              "      <td>3</td>\n",
              "      <td>82.0</td>\n",
              "    </tr>\n",
              "    <tr>\n",
              "      <th>19</th>\n",
              "      <td>800</td>\n",
              "      <td>1</td>\n",
              "      <td>32.0</td>\n",
              "    </tr>\n",
              "  </tbody>\n",
              "</table>\n",
              "</div>\n",
              "      <button class=\"colab-df-convert\" onclick=\"convertToInteractive('df-66f56a6e-bf14-4a2c-80a9-5a882b015841')\"\n",
              "              title=\"Convert this dataframe to an interactive table.\"\n",
              "              style=\"display:none;\">\n",
              "        \n",
              "  <svg xmlns=\"http://www.w3.org/2000/svg\" height=\"24px\"viewBox=\"0 0 24 24\"\n",
              "       width=\"24px\">\n",
              "    <path d=\"M0 0h24v24H0V0z\" fill=\"none\"/>\n",
              "    <path d=\"M18.56 5.44l.94 2.06.94-2.06 2.06-.94-2.06-.94-.94-2.06-.94 2.06-2.06.94zm-11 1L8.5 8.5l.94-2.06 2.06-.94-2.06-.94L8.5 2.5l-.94 2.06-2.06.94zm10 10l.94 2.06.94-2.06 2.06-.94-2.06-.94-.94-2.06-.94 2.06-2.06.94z\"/><path d=\"M17.41 7.96l-1.37-1.37c-.4-.4-.92-.59-1.43-.59-.52 0-1.04.2-1.43.59L10.3 9.45l-7.72 7.72c-.78.78-.78 2.05 0 2.83L4 21.41c.39.39.9.59 1.41.59.51 0 1.02-.2 1.41-.59l7.78-7.78 2.81-2.81c.8-.78.8-2.07 0-2.86zM5.41 20L4 18.59l7.72-7.72 1.47 1.35L5.41 20z\"/>\n",
              "  </svg>\n",
              "      </button>\n",
              "      \n",
              "  <style>\n",
              "    .colab-df-container {\n",
              "      display:flex;\n",
              "      flex-wrap:wrap;\n",
              "      gap: 12px;\n",
              "    }\n",
              "\n",
              "    .colab-df-convert {\n",
              "      background-color: #E8F0FE;\n",
              "      border: none;\n",
              "      border-radius: 50%;\n",
              "      cursor: pointer;\n",
              "      display: none;\n",
              "      fill: #1967D2;\n",
              "      height: 32px;\n",
              "      padding: 0 0 0 0;\n",
              "      width: 32px;\n",
              "    }\n",
              "\n",
              "    .colab-df-convert:hover {\n",
              "      background-color: #E2EBFA;\n",
              "      box-shadow: 0px 1px 2px rgba(60, 64, 67, 0.3), 0px 1px 3px 1px rgba(60, 64, 67, 0.15);\n",
              "      fill: #174EA6;\n",
              "    }\n",
              "\n",
              "    [theme=dark] .colab-df-convert {\n",
              "      background-color: #3B4455;\n",
              "      fill: #D2E3FC;\n",
              "    }\n",
              "\n",
              "    [theme=dark] .colab-df-convert:hover {\n",
              "      background-color: #434B5C;\n",
              "      box-shadow: 0px 1px 3px 1px rgba(0, 0, 0, 0.15);\n",
              "      filter: drop-shadow(0px 1px 2px rgba(0, 0, 0, 0.3));\n",
              "      fill: #FFFFFF;\n",
              "    }\n",
              "  </style>\n",
              "\n",
              "      <script>\n",
              "        const buttonEl =\n",
              "          document.querySelector('#df-66f56a6e-bf14-4a2c-80a9-5a882b015841 button.colab-df-convert');\n",
              "        buttonEl.style.display =\n",
              "          google.colab.kernel.accessAllowed ? 'block' : 'none';\n",
              "\n",
              "        async function convertToInteractive(key) {\n",
              "          const element = document.querySelector('#df-66f56a6e-bf14-4a2c-80a9-5a882b015841');\n",
              "          const dataTable =\n",
              "            await google.colab.kernel.invokeFunction('convertToInteractive',\n",
              "                                                     [key], {});\n",
              "          if (!dataTable) return;\n",
              "\n",
              "          const docLinkHtml = 'Like what you see? Visit the ' +\n",
              "            '<a target=\"_blank\" href=https://colab.research.google.com/notebooks/data_table.ipynb>data table notebook</a>'\n",
              "            + ' to learn more about interactive tables.';\n",
              "          element.innerHTML = '';\n",
              "          dataTable['output_type'] = 'display_data';\n",
              "          await google.colab.output.renderOutput(dataTable, element);\n",
              "          const docLink = document.createElement('div');\n",
              "          docLink.innerHTML = docLinkHtml;\n",
              "          element.appendChild(docLink);\n",
              "        }\n",
              "      </script>\n",
              "    </div>\n",
              "  </div>\n",
              "  "
            ]
          },
          "metadata": {},
          "execution_count": 3
        }
      ]
    },
    {
      "cell_type": "code",
      "source": [
        "from sklearn import preprocessing\n",
        "\n",
        "sx = preprocessing.StandardScaler()\n",
        "sy = preprocessing.StandardScaler()\n",
        "\n",
        "scaled_X = sx.fit_transform(Home_Prices_df.drop('price', axis = 1 ))\n",
        "scaled_X"
      ],
      "metadata": {
        "colab": {
          "base_uri": "https://localhost:8080/"
        },
        "id": "pOQI9-jGOwm4",
        "outputId": "2b8cc9bc-30e0-4cc4-b85e-f5bb285278ff"
      },
      "execution_count": 11,
      "outputs": [
        {
          "output_type": "execute_result",
          "data": {
            "text/plain": [
              "array([[-0.90830532, -0.95399809],\n",
              "       [ 0.92385017,  1.16599767],\n",
              "       [-0.45263971,  0.10599979],\n",
              "       [-0.35652274,  0.10599979],\n",
              "       [-0.73743072, -0.95399809],\n",
              "       [-0.7730296 , -0.95399809],\n",
              "       [ 1.08048522,  1.16599767],\n",
              "       [ 1.75449061,  1.16599767],\n",
              "       [-0.60690151,  0.10599979],\n",
              "       [ 2.22914229,  2.22599555],\n",
              "       [-0.0254532 ,  0.10599979],\n",
              "       [ 1.14337657,  1.16599767],\n",
              "       [-0.97475656, -0.95399809],\n",
              "       [-0.85609364, -0.95399809],\n",
              "       [ 0.50852995,  0.10599979],\n",
              "       [-0.76709645, -0.95399809],\n",
              "       [-0.7611633 ,  0.10599979],\n",
              "       [-0.33397679,  0.10599979],\n",
              "       [ 1.12557713,  0.10599979],\n",
              "       [-1.2120824 , -2.01399597]])"
            ]
          },
          "metadata": {},
          "execution_count": 11
        }
      ]
    },
    {
      "cell_type": "code",
      "source": [
        "scaled_y = sy.fit_transform(Home_Prices_df['price'].values.reshape(Home_Prices_df.shape[0],1))\n",
        "scaled_y"
      ],
      "metadata": {
        "colab": {
          "base_uri": "https://localhost:8080/"
        },
        "id": "23iOKqJmOwkU",
        "outputId": "ec7f8301-97ee-4e0b-e141-bde69d62d76c"
      },
      "execution_count": 12,
      "outputs": [
        {
          "output_type": "execute_result",
          "data": {
            "text/plain": [
              "array([[-0.93270651],\n",
              "       [ 0.96466144],\n",
              "       [-0.39512283],\n",
              "       [-0.0903436 ],\n",
              "       [-0.65301295],\n",
              "       [-0.95779218],\n",
              "       [ 1.31632978],\n",
              "       [ 1.78522091],\n",
              "       [-0.6764575 ],\n",
              "       [ 2.06655558],\n",
              "       [ 0.0737683 ],\n",
              "       [ 1.43355256],\n",
              "       [-0.95779218],\n",
              "       [-0.91090307],\n",
              "       [ 0.51921487],\n",
              "       [-0.86401396],\n",
              "       [-0.72334662],\n",
              "       [-0.44201194],\n",
              "       [ 0.54265942],\n",
              "       [-1.09845952]])"
            ]
          },
          "metadata": {},
          "execution_count": 12
        }
      ]
    },
    {
      "cell_type": "code",
      "source": [
        "np.ones(shape= (2))"
      ],
      "metadata": {
        "colab": {
          "base_uri": "https://localhost:8080/"
        },
        "id": "aB5BS4DFKVIO",
        "outputId": "bdb398b8-45fe-4eef-deae-9afdacfc360a"
      },
      "execution_count": 13,
      "outputs": [
        {
          "output_type": "execute_result",
          "data": {
            "text/plain": [
              "array([1., 1.])"
            ]
          },
          "metadata": {},
          "execution_count": 13
        }
      ]
    },
    {
      "cell_type": "code",
      "source": [
        "def batch_gradient_descent(X, y_true, epochs, learning_rate = 0.01):\n",
        "    number_of_features = X.shape[1]\n",
        "    w = np.ones(shape= (number_of_features))\n",
        "    b = 0\n",
        "    total_samples = X.shape[0]\n",
        "\n",
        "    cost_list = []\n",
        "    epoch_list = []\n",
        "\n",
        "    for i in range(epochs):\n",
        "        y_predict = np.dot(w, scaled_X.T) + b\n",
        "\n",
        "        w_grad = -(2/total_samples)*(X.T.dot(y_true - y_predict))\n",
        "        b_grad = -(2/total_samples)*np.sum(y_true - y_predict)\n",
        "\n",
        "        w = w - learning_rate*w_grad\n",
        "        b = b - learning_rate*b_grad\n",
        "\n",
        "        cost = np.mean(np.square(y_true- y_predict))\n",
        "\n",
        "        if i%10 == 0:\n",
        "            cost_list.append(cost)\n",
        "            epoch_list.append(i)\n",
        "    return w, b, cost, cost_list, epoch_list \n",
        "\n",
        "w, b, cost, cost_list, epoch_list = batch_gradient_descent(scaled_X,scaled_y.reshape(scaled_y.shape[0],),500)\n",
        "w, b, cost"
      ],
      "metadata": {
        "colab": {
          "base_uri": "https://localhost:8080/"
        },
        "id": "3CVpHXXrOwh2",
        "outputId": "074e3a4b-3eb0-4b39-f17d-c40dbe1ad32e"
      },
      "execution_count": 14,
      "outputs": [
        {
          "output_type": "execute_result",
          "data": {
            "text/plain": [
              "(array([0.73213678, 0.26743589]), 7.122080702970366e-17, 0.03189534147576348)"
            ]
          },
          "metadata": {},
          "execution_count": 14
        }
      ]
    },
    {
      "cell_type": "code",
      "source": [
        "plt.xlabel('epoch')\n",
        "plt.ylabel('cost')\n",
        "plt.plot(epoch_list, cost_list)\n",
        "plt.show()"
      ],
      "metadata": {
        "colab": {
          "base_uri": "https://localhost:8080/",
          "height": 279
        },
        "id": "myEZpOYEOwco",
        "outputId": "b0ff7b78-35d9-4238-fc9d-fdbe1707733c"
      },
      "execution_count": 15,
      "outputs": [
        {
          "output_type": "display_data",
          "data": {
            "text/plain": [
              "<Figure size 432x288 with 1 Axes>"
            ],
            "image/png": "[encoded data removed]"
          },
          "metadata": {
            "needs_background": "light"
          }
        }
      ]
    },
    {
      "cell_type": "code",
      "source": [
        "def predict(area, bedroom, w, b):\n",
        "    scaled_X = sx.transform([[area, bedroom]])[0]\n",
        "    scaled_price = w[0]*scaled_X[0] + w[1]*scaled_X[1] + b\n",
        "    return sy.inverse_transform([[scaled_price]])[0][0]\n",
        "    \n",
        "\n",
        "predict(2600, 4, w, b)"
      ],
      "metadata": {
        "colab": {
          "base_uri": "https://localhost:8080/"
        },
        "id": "y1U3hv4QOwaH",
        "outputId": "07551736-e527-4cf8-a248-5fac5d46a319"
      },
      "execution_count": 53,
      "outputs": [
        {
          "output_type": "stream",
          "name": "stderr",
          "text": [
            "/usr/local/lib/python3.7/dist-packages/sklearn/base.py:451: UserWarning: X does not have valid feature names, but StandardScaler was fitted with feature names\n",
            "  \"X does not have valid feature names, but\"\n"
          ]
        },
        {
          "output_type": "execute_result",
          "data": {
            "text/plain": [
              "121.00462015878352"
            ]
          },
          "metadata": {},
          "execution_count": 53
        }
      ]
    },
    {
      "cell_type": "code",
      "source": [
        "predict(1000, 2, w, b)"
      ],
      "metadata": {
        "colab": {
          "base_uri": "https://localhost:8080/"
        },
        "id": "xYBEMHtuOwVT",
        "outputId": "f95b8b95-a4de-4edd-d3c0-7f789e208d11"
      },
      "execution_count": 25,
      "outputs": [
        {
          "output_type": "stream",
          "name": "stderr",
          "text": [
            "/usr/local/lib/python3.7/dist-packages/sklearn/base.py:451: UserWarning: X does not have valid feature names, but StandardScaler was fitted with feature names\n",
            "  \"X does not have valid feature names, but\"\n"
          ]
        },
        {
          "output_type": "execute_result",
          "data": {
            "text/plain": [
              "37.53096679457114"
            ]
          },
          "metadata": {},
          "execution_count": 25
        }
      ]
    },
    {
      "cell_type": "code",
      "source": [
        "predict(1500, 3, w, b)"
      ],
      "metadata": {
        "colab": {
          "base_uri": "https://localhost:8080/"
        },
        "id": "lOc1w0LwMqDs",
        "outputId": "bb5acbea-1419-4650-c1f6-298eaa98e1d5"
      },
      "execution_count": 27,
      "outputs": [
        {
          "output_type": "stream",
          "name": "stderr",
          "text": [
            "/usr/local/lib/python3.7/dist-packages/sklearn/base.py:451: UserWarning: X does not have valid feature names, but StandardScaler was fitted with feature names\n",
            "  \"X does not have valid feature names, but\"\n"
          ]
        },
        {
          "output_type": "execute_result",
          "data": {
            "text/plain": [
              "68.15082198865382"
            ]
          },
          "metadata": {},
          "execution_count": 27
        }
      ]
    },
    {
      "cell_type": "code",
      "source": [
        ""
      ],
      "metadata": {
        "id": "dKxhJsueMp48"
      },
      "execution_count": null,
      "outputs": []
    },
    {
      "cell_type": "markdown",
      "source": [
        "Stocastic Gradient Descent"
      ],
      "metadata": {
        "id": "EPK0F5hENGnu"
      }
    },
    {
      "cell_type": "code",
      "source": [
        "def Stocastic_gradient_descent(X, y_true, epochs, learning_rate = 0.01):\n",
        "    number_of_features = X.shape[1]\n",
        "    w = np.ones(shape= (number_of_features))\n",
        "    b = 0\n",
        "    total_samples = X.shape[0]\n",
        "\n",
        "    cost_list = []\n",
        "    epoch_list = []\n",
        "\n",
        "    for i in range(epochs):\n",
        "        import random\n",
        "        random_index = random.randint(0, total_samples - 1)\n",
        "        sample_X = X[random_index]\n",
        "        sample_y = y_true[random_index]\n",
        "\n",
        "        y_predict = np.dot(w, sample_X.T) + b\n",
        "\n",
        "        w_grad = -(2/total_samples)*(sample_X.T.dot(sample_y - y_predict))\n",
        "        b_grad = -(2/total_samples)*(sample_y - y_predict)\n",
        "\n",
        "        w = w - learning_rate*w_grad\n",
        "        b = b - learning_rate*b_grad\n",
        "\n",
        "        cost = np.square(sample_y - y_predict)\n",
        "\n",
        "        if i%100 == 0:\n",
        "            cost_list.append(cost)\n",
        "            epoch_list.append(i)\n",
        "    return w, b, cost, cost_list, epoch_list \n",
        "\n",
        "w_sgd, b_sgd, cost_sgd, cost_list_sgd, epoch_list_sgd = Stocastic_gradient_descent(scaled_X,scaled_y.reshape(scaled_y.shape[0],),100000)\n",
        "w_sgd, b_sgd, cost_sgd"
      ],
      "metadata": {
        "colab": {
          "base_uri": "https://localhost:8080/"
        },
        "id": "hTiAxIPgNFns",
        "outputId": "709dcada-6e95-4925-dd0b-f1d4a2dd1947"
      },
      "execution_count": 49,
      "outputs": [
        {
          "output_type": "execute_result",
          "data": {
            "text/plain": [
              "(array([0.84720958, 0.14903911]), -0.001953561747142434, 0.0134947902475071)"
            ]
          },
          "metadata": {},
          "execution_count": 49
        }
      ]
    },
    {
      "cell_type": "code",
      "source": [
        "w, b, cost"
      ],
      "metadata": {
        "colab": {
          "base_uri": "https://localhost:8080/"
        },
        "id": "x_FTUSHNNFhL",
        "outputId": "25ac7db4-b291-4b65-933c-728e3bc5866e"
      },
      "execution_count": 50,
      "outputs": [
        {
          "output_type": "execute_result",
          "data": {
            "text/plain": [
              "(array([0.73213678, 0.26743589]), 7.122080702970366e-17, 0.03189534147576348)"
            ]
          },
          "metadata": {},
          "execution_count": 50
        }
      ]
    },
    {
      "cell_type": "code",
      "source": [
        "plt.xlabel('epoch')\n",
        "plt.ylabel('cost')\n",
        "plt.plot(epoch_list_sgd, cost_list_sgd)\n",
        "plt.show()"
      ],
      "metadata": {
        "colab": {
          "base_uri": "https://localhost:8080/",
          "height": 279
        },
        "id": "lFWgST2iNFfX",
        "outputId": "6616edc3-d842-4972-d85a-614b4a5660e4"
      },
      "execution_count": 51,
      "outputs": [
        {
          "output_type": "display_data",
          "data": {
            "text/plain": [
              "<Figure size 432x288 with 1 Axes>"
            ],
            "image/png": "[encoded data removed]"
          },
          "metadata": {
            "needs_background": "light"
          }
        }
      ]
    },
    {
      "cell_type": "code",
      "source": [
        "predict(2600, 4, w_sgd, b_sgd)"
      ],
      "metadata": {
        "colab": {
          "base_uri": "https://localhost:8080/"
        },
        "id": "zol2sorDTvkd",
        "outputId": "8988c60c-05de-45d9-b7b7-77a3cf001ff1"
      },
      "execution_count": 55,
      "outputs": [
        {
          "output_type": "stream",
          "name": "stderr",
          "text": [
            "/usr/local/lib/python3.7/dist-packages/sklearn/base.py:451: UserWarning: X does not have valid feature names, but StandardScaler was fitted with feature names\n",
            "  \"X does not have valid feature names, but\"\n"
          ]
        },
        {
          "output_type": "execute_result",
          "data": {
            "text/plain": [
              "119.56744654178746"
            ]
          },
          "metadata": {},
          "execution_count": 55
        }
      ]
    },
    {
      "cell_type": "code",
      "source": [
        "predict(1500, 3, w_sgd, b_sgd)"
      ],
      "metadata": {
        "colab": {
          "base_uri": "https://localhost:8080/"
        },
        "id": "AHDYJmU3UEpA",
        "outputId": "d2a8c630-8230-4414-f15f-67293f1a071a"
      },
      "execution_count": 56,
      "outputs": [
        {
          "output_type": "stream",
          "name": "stderr",
          "text": [
            "/usr/local/lib/python3.7/dist-packages/sklearn/base.py:451: UserWarning: X does not have valid feature names, but StandardScaler was fitted with feature names\n",
            "  \"X does not have valid feature names, but\"\n"
          ]
        },
        {
          "output_type": "execute_result",
          "data": {
            "text/plain": [
              "65.6599583447024"
            ]
          },
          "metadata": {},
          "execution_count": 56
        }
      ]
    },
    {
      "cell_type": "code",
      "source": [
        ""
      ],
      "metadata": {
        "id": "XP58LmVnUK4v"
      },
      "execution_count": null,
      "outputs": []
    },
    {
      "cell_type": "code",
      "source": [
        ""
      ],
      "metadata": {
        "id": "WIMTZFpslPEZ"
      },
      "execution_count": null,
      "outputs": []
    },
    {
      "cell_type": "code",
      "source": [
        "def Mini_batch_gradient_descent(X, y_true, epochs, batch_size, learning_rate = 0.01):\n",
        "    number_of_features = X.shape[1]\n",
        "    w = np.ones(shape= (number_of_features))\n",
        "    b = 0\n",
        "    total_samples = X.shape[0]\n",
        "\n",
        "    if batch_size > total_samples:\n",
        "        batch_size = total_samples\n",
        "\n",
        "    cost_list = []\n",
        "    epoch_list = []\n",
        "\n",
        "    number_of_batches = int(total_samples/batch_size)\n",
        "\n",
        "    for i in range(epochs):\n",
        "        random_index = np.random.permutation(total_samples)\n",
        "        mini_X = X[random_index]\n",
        "        mini_y = y_true[random_index]\n",
        "\n",
        "        for j in range(0, total_samples, batch_size):\n",
        "            Xj = mini_X[j: j+batch_size]\n",
        "            yj = mini_y[j: j+batch_size]\n",
        "\n",
        "            y_predict = np.dot(w, Xj.T) + b\n",
        "\n",
        "        w_grad = -(2/len(Xj))*(Xj.T.dot(yj - y_predict))\n",
        "        b_grad = -(2/len(Xj))*np.sum(yj - y_predict)\n",
        "\n",
        "        w = w - learning_rate*w_grad\n",
        "        b = b - learning_rate*b_grad\n",
        "\n",
        "        cost = np.mean(np.square(yj - y_predict))\n",
        "\n",
        "        if i%100 == 0:\n",
        "            cost_list.append(cost)\n",
        "            epoch_list.append(i)\n",
        "    return w, b, cost, cost_list, epoch_list \n",
        "\n",
        "w_mini, b_mini, cost_mini, cost_list_mini, epoch_list_mini = Mini_batch_gradient_descent(scaled_X,scaled_y.reshape(scaled_y.shape[0],),10000, 5)\n",
        "w_mini, b_mini, cost_mini"
      ],
      "metadata": {
        "colab": {
          "base_uri": "https://localhost:8080/"
        },
        "id": "yQBqXAo9lO3w",
        "outputId": "67d3460c-99cb-4296-9c56-c26501613634"
      },
      "execution_count": 69,
      "outputs": [
        {
          "output_type": "execute_result",
          "data": {
            "text/plain": [
              "(array([0.85554106, 0.14432251]), 0.005542358468229633, 0.0072924860342764766)"
            ]
          },
          "metadata": {},
          "execution_count": 69
        }
      ]
    },
    {
      "cell_type": "code",
      "source": [
        "plt.xlabel('epoch')\n",
        "plt.ylabel('cost')\n",
        "plt.plot(epoch_list_mini, cost_list_mini)\n",
        "plt.show()"
      ],
      "metadata": {
        "colab": {
          "base_uri": "https://localhost:8080/",
          "height": 280
        },
        "id": "e4PuFXeQpGzB",
        "outputId": "f01d801f-9329-443a-fdd3-96abb18be099"
      },
      "execution_count": 70,
      "outputs": [
        {
          "output_type": "display_data",
          "data": {
            "text/plain": [
              "<Figure size 432x288 with 1 Axes>"
            ],
            "image/png": "[encoded data removed]"
          },
          "metadata": {
            "needs_background": "light"
          }
        }
      ]
    },
    {
      "cell_type": "code",
      "source": [
        "predict(2600, 4, w_mini, b_mini)"
      ],
      "metadata": {
        "colab": {
          "base_uri": "https://localhost:8080/"
        },
        "id": "SjiVywYmpne0",
        "outputId": "72d8188c-5a04-4daa-a711-791f5edb67f4"
      },
      "execution_count": 71,
      "outputs": [
        {
          "output_type": "stream",
          "name": "stderr",
          "text": [
            "/usr/local/lib/python3.7/dist-packages/sklearn/base.py:451: UserWarning: X does not have valid feature names, but StandardScaler was fitted with feature names\n",
            "  \"X does not have valid feature names, but\"\n"
          ]
        },
        {
          "output_type": "execute_result",
          "data": {
            "text/plain": [
              "119.98090742733841"
            ]
          },
          "metadata": {},
          "execution_count": 71
        }
      ]
    }
  ]
}