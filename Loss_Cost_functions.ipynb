{
  "nbformat": 4,
  "nbformat_minor": 0,
  "metadata": {
    "colab": {
      "name": "Loss/Cost_functions.ipynb",
      "provenance": [],
      "collapsed_sections": [],
      "authorship_tag": "ABX9TyO20qHA/KmAsTNZYvB1gafA",
      "include_colab_link": true
    },
    "kernelspec": {
      "name": "python3",
      "display_name": "Python 3"
    },
    "language_info": {
      "name": "python"
    }
  },
  "cells": [
    {
      "cell_type": "markdown",
      "metadata": {
        "id": "view-in-github",
        "colab_type": "text"
      },
      "source": [
        "<a href=\"https://colab.research.google.com/github/Amrutha-GR/AGR/blob/main/Loss_Cost_functions.ipynb\" target=\"_parent\"><img src=\"https://colab.research.google.com/assets/colab-badge.svg\" alt=\"Open In Colab\"/></a>"
      ]
    },
    {
      "cell_type": "code",
      "execution_count": 1,
      "metadata": {
        "id": "pPNQT5zIGX70"
      },
      "outputs": [],
      "source": [
        "import numpy as np\n",
        "\n",
        "y_predict = np.array([1,1,0,0,1])\n",
        "y_true = np.array([0.30, 0.7,1, 0, 0.5])"
      ]
    },
    {
      "cell_type": "markdown",
      "source": [
        "Mean absolute error"
      ],
      "metadata": {
        "id": "HtMJecPTHTa4"
      }
    },
    {
      "cell_type": "code",
      "source": [
        "def mae(y_true, y_predict) :\n",
        "  total_error = 0\n",
        "  for yt, yp in zip(y_true, y_predict):\n",
        "    total_error += abs(yt - yp)\n",
        "  print(\"total error:\" , total_error)\n",
        "\n",
        "  mae = total_error/len(y_true)\n",
        "  print(\"MAE:\" , mae)\n",
        "  return mae"
      ],
      "metadata": {
        "id": "3jITpG-OHS6c"
      },
      "execution_count": 2,
      "outputs": []
    },
    {
      "cell_type": "code",
      "source": [
        "mae(y_true, y_predict)"
      ],
      "metadata": {
        "colab": {
          "base_uri": "https://localhost:8080/"
        },
        "id": "-49aKX3qHQXS",
        "outputId": "6d125fbe-b263-4781-da0e-748d64b1fbb5"
      },
      "execution_count": 3,
      "outputs": [
        {
          "output_type": "stream",
          "name": "stdout",
          "text": [
            "total error: 2.5\n",
            "MAE: 0.5\n"
          ]
        },
        {
          "output_type": "execute_result",
          "data": {
            "text/plain": [
              "0.5"
            ]
          },
          "metadata": {},
          "execution_count": 3
        }
      ]
    },
    {
      "cell_type": "code",
      "source": [
        "np.mean(np.abs(y_true - y_predict))"
      ],
      "metadata": {
        "colab": {
          "base_uri": "https://localhost:8080/"
        },
        "id": "819St4JrMe7d",
        "outputId": "261d5482-7181-42c8-a9fb-2d51d67a3bba"
      },
      "execution_count": 4,
      "outputs": [
        {
          "output_type": "execute_result",
          "data": {
            "text/plain": [
              "0.5"
            ]
          },
          "metadata": {},
          "execution_count": 4
        }
      ]
    },
    {
      "cell_type": "markdown",
      "source": [
        "Mean squared error"
      ],
      "metadata": {
        "id": "fo-BQvU7M9PL"
      }
    },
    {
      "cell_type": "code",
      "source": [
        "def mse(y_true, y_predict) :\n",
        "  total_squared_error = 0\n",
        "  for yt, yp in zip(y_true, y_predict):\n",
        "    total_squared_error += (yt - yp)**2\n",
        "  print(\"total squared error:\" , total_squared_error)\n",
        "\n",
        "  mse = total_squared_error/len(y_true)\n",
        "  print(\"MSE:\" , mse)\n",
        "  return mse"
      ],
      "metadata": {
        "id": "M4F9aR3iM8jL"
      },
      "execution_count": 5,
      "outputs": []
    },
    {
      "cell_type": "code",
      "source": [
        "mse(y_true, y_predict)"
      ],
      "metadata": {
        "colab": {
          "base_uri": "https://localhost:8080/"
        },
        "id": "72QRa4EzMewv",
        "outputId": "ed4e30ba-1d5d-4a9b-c789-7e56dd3e6d57"
      },
      "execution_count": 6,
      "outputs": [
        {
          "output_type": "stream",
          "name": "stdout",
          "text": [
            "total squared error: 1.83\n",
            "MSE: 0.366\n"
          ]
        },
        {
          "output_type": "execute_result",
          "data": {
            "text/plain": [
              "0.366"
            ]
          },
          "metadata": {},
          "execution_count": 6
        }
      ]
    },
    {
      "cell_type": "code",
      "source": [
        "np.mean(np.square(y_true - y_predict))"
      ],
      "metadata": {
        "colab": {
          "base_uri": "https://localhost:8080/"
        },
        "id": "IwU9Mh6nMerK",
        "outputId": "688120ab-f3ec-40d3-ebb8-3245133c49dc"
      },
      "execution_count": 7,
      "outputs": [
        {
          "output_type": "execute_result",
          "data": {
            "text/plain": [
              "0.366"
            ]
          },
          "metadata": {},
          "execution_count": 7
        }
      ]
    },
    {
      "cell_type": "markdown",
      "source": [
        "Log Loss or binary cross entropy"
      ],
      "metadata": {
        "id": "jRGfXknpTLNy"
      }
    },
    {
      "cell_type": "code",
      "source": [
        "np.log([0.0000000000000000001])"
      ],
      "metadata": {
        "colab": {
          "base_uri": "https://localhost:8080/"
        },
        "id": "PritstAjTKHI",
        "outputId": "0c32864d-d26a-4306-de54-f40b533bc419"
      },
      "execution_count": 8,
      "outputs": [
        {
          "output_type": "execute_result",
          "data": {
            "text/plain": [
              "array([-43.74911677])"
            ]
          },
          "metadata": {},
          "execution_count": 8
        }
      ]
    },
    {
      "cell_type": "code",
      "source": [
        ""
      ],
      "metadata": {
        "id": "iDvWMduqMd-Q"
      },
      "execution_count": null,
      "outputs": []
    },
    {
      "cell_type": "code",
      "source": [
        "epsilon = 1e-15"
      ],
      "metadata": {
        "id": "aiffNm72TnTy"
      },
      "execution_count": 9,
      "outputs": []
    },
    {
      "cell_type": "code",
      "source": [
        "y_predict_new = [max(i, epsilon) for i in y_predict]\n",
        "y_predict_new"
      ],
      "metadata": {
        "colab": {
          "base_uri": "https://localhost:8080/"
        },
        "id": "V6rroHxDTncH",
        "outputId": "80b22909-e4f3-48f0-f958-104e60823582"
      },
      "execution_count": 15,
      "outputs": [
        {
          "output_type": "execute_result",
          "data": {
            "text/plain": [
              "[1, 1, 1e-15, 1e-15, 1]"
            ]
          },
          "metadata": {},
          "execution_count": 15
        }
      ]
    },
    {
      "cell_type": "code",
      "source": [
        "y_predict_new = [min(i, 1-epsilon) for i in y_predict_new]\n",
        "y_predict_new"
      ],
      "metadata": {
        "colab": {
          "base_uri": "https://localhost:8080/"
        },
        "id": "CLe_u4SbTnhp",
        "outputId": "23ffd890-8f8d-4d8d-f87a-3697d0864309"
      },
      "execution_count": 16,
      "outputs": [
        {
          "output_type": "execute_result",
          "data": {
            "text/plain": [
              "[0.999999999999999, 0.999999999999999, 1e-15, 1e-15, 0.999999999999999]"
            ]
          },
          "metadata": {},
          "execution_count": 16
        }
      ]
    },
    {
      "cell_type": "code",
      "source": [
        "y_predict_new = np.array(y_predict_new)\n",
        "np.log(y_predict_new)"
      ],
      "metadata": {
        "colab": {
          "base_uri": "https://localhost:8080/"
        },
        "id": "L5SJQPJ8TnqE",
        "outputId": "6e70c5d4-de4a-4164-ba81-a1b61b3b9a41"
      },
      "execution_count": 17,
      "outputs": [
        {
          "output_type": "execute_result",
          "data": {
            "text/plain": [
              "array([-9.99200722e-16, -9.99200722e-16, -3.45387764e+01, -3.45387764e+01,\n",
              "       -9.99200722e-16])"
            ]
          },
          "metadata": {},
          "execution_count": 17
        }
      ]
    },
    {
      "cell_type": "code",
      "source": [
        "-np.mean(y_true*np.log(y_predict_new)+(1-y_true)*np.log(1-y_predict_new))"
      ],
      "metadata": {
        "colab": {
          "base_uri": "https://localhost:8080/"
        },
        "id": "TnLTuGBlX8Qp",
        "outputId": "b70bd2db-3f27-4ca8-9e1e-dc0ebfb1101a"
      },
      "execution_count": 18,
      "outputs": [
        {
          "output_type": "execute_result",
          "data": {
            "text/plain": [
              "17.2696280766844"
            ]
          },
          "metadata": {},
          "execution_count": 18
        }
      ]
    },
    {
      "cell_type": "code",
      "source": [
        "def log_loss(y_true, y_predict):\n",
        "  epsilon = 1e-15\n",
        "  y_predict_new = [max(i, epsilon) for i in y_predict]\n",
        "  y_predict_new = [min(i, 1-epsilon) for i in y_predict_new]\n",
        "  y_predict_new = np.array(y_predict_new)\n",
        "  return -np.mean(y_true*np.log(y_predict_new)+(1-y_true)*np.log(1-y_predict_new))"
      ],
      "metadata": {
        "id": "IqMxLQbQX8Da"
      },
      "execution_count": 19,
      "outputs": []
    },
    {
      "cell_type": "code",
      "source": [
        "log_loss(y_true, y_predict)"
      ],
      "metadata": {
        "colab": {
          "base_uri": "https://localhost:8080/"
        },
        "id": "FWNZpe2RX7_2",
        "outputId": "41ef7d5a-97ad-4384-8e13-9598fccd40b0"
      },
      "execution_count": 20,
      "outputs": [
        {
          "output_type": "execute_result",
          "data": {
            "text/plain": [
              "17.2696280766844"
            ]
          },
          "metadata": {},
          "execution_count": 20
        }
      ]
    },
    {
      "cell_type": "code",
      "source": [
        ""
      ],
      "metadata": {
        "id": "vp_855R1X73U"
      },
      "execution_count": null,
      "outputs": []
    }
  ]
}